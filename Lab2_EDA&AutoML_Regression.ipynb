{
  "cells": [
    {
      "cell_type": "markdown",
      "metadata": {
        "id": "L-XS1GGG4dgf"
      },
      "source": [
        "# EDA, Feature Engineering, and AutoML\n",
        "\n",
        "In this lab, we will apply learned concepts from Day 3-4 lectures to perform data exploration, feature engineering, and autoML on a house sale dataset.\n",
        "\n",
        "The goal of this assignment is to analyze 3 years’(2018-2020) house sales data provided by New York City (NYC) goverment and build regression model to predict house price. NYC has five boroughs, i.e., Bronx, Brooklyn, Manhattan, Queens and Staten Island. Sales of houses in each borough has been provided.\n",
        "\n",
        "\n",
        "**Submission: submit via onq.** \n"
      ]
    },
    {
      "cell_type": "markdown",
      "source": [
        "## Install auto-sklearn"
      ],
      "metadata": {
        "id": "-XT28bTv2ghv"
      }
    },
    {
      "cell_type": "code",
      "source": [
        "!sudo apt-get install build-essential swig\n",
        "!curl https://raw.githubusercontent.com/automl/auto-sklearn/master/requirements.txt | xargs -n 1 -L 1 pip install\n",
        "!pip install auto-sklearn==0.14.6"
      ],
      "metadata": {
        "id": "Rsr4pwgs1JAV",
        "colab": {
          "base_uri": "https://localhost:8080/"
        },
        "outputId": "95d48f34-c974-4ce9-b4d3-95276425d1ab"
      },
      "execution_count": 1,
      "outputs": [
        {
          "output_type": "stream",
          "name": "stdout",
          "text": [
            "Reading package lists... Done\n",
            "Building dependency tree       \n",
            "Reading state information... Done\n",
            "build-essential is already the newest version (12.4ubuntu1).\n",
            "Suggested packages:\n",
            "  swig-doc swig-examples swig3.0-examples swig3.0-doc\n",
            "The following NEW packages will be installed:\n",
            "  swig swig3.0\n",
            "0 upgraded, 2 newly installed, 0 to remove and 41 not upgraded.\n",
            "Need to get 1,100 kB of archives.\n",
            "After this operation, 5,822 kB of additional disk space will be used.\n",
            "Get:1 http://archive.ubuntu.com/ubuntu bionic/universe amd64 swig3.0 amd64 3.0.12-1 [1,094 kB]\n",
            "Get:2 http://archive.ubuntu.com/ubuntu bionic/universe amd64 swig amd64 3.0.12-1 [6,460 B]\n",
            "Fetched 1,100 kB in 2s (540 kB/s)\n",
            "debconf: unable to initialize frontend: Dialog\n",
            "debconf: (No usable dialog-like program is installed, so the dialog based frontend cannot be used. at /usr/share/perl5/Debconf/FrontEnd/Dialog.pm line 76, <> line 2.)\n",
            "debconf: falling back to frontend: Readline\n",
            "debconf: unable to initialize frontend: Readline\n",
            "debconf: (This frontend requires a controlling tty.)\n",
            "debconf: falling back to frontend: Teletype\n",
            "dpkg-preconfigure: unable to re-open stdin: \n",
            "Selecting previously unselected package swig3.0.\n",
            "(Reading database ... 155514 files and directories currently installed.)\n",
            "Preparing to unpack .../swig3.0_3.0.12-1_amd64.deb ...\n",
            "Unpacking swig3.0 (3.0.12-1) ...\n",
            "Selecting previously unselected package swig.\n",
            "Preparing to unpack .../swig_3.0.12-1_amd64.deb ...\n",
            "Unpacking swig (3.0.12-1) ...\n",
            "Setting up swig3.0 (3.0.12-1) ...\n",
            "Setting up swig (3.0.12-1) ...\n",
            "Processing triggers for man-db (2.8.3-2ubuntu0.1) ...\n",
            "  % Total    % Received % Xferd  Average Speed   Time    Time     Time  Current\n",
            "                                 Dload  Upload   Total   Spent    Left  Speed\n",
            "100   259  100   259    0     0   1977      0 --:--:-- --:--:-- --:--:--  1992\n",
            "Requirement already satisfied: setuptools in /usr/local/lib/python3.7/dist-packages (57.4.0)\n",
            "Requirement already satisfied: typing_extensions in /usr/local/lib/python3.7/dist-packages (4.2.0)\n",
            "Collecting distro\n",
            "  Downloading distro-1.7.0-py3-none-any.whl (20 kB)\n",
            "Installing collected packages: distro\n",
            "Successfully installed distro-1.7.0\n",
            "Requirement already satisfied: numpy>=1.9.0 in /usr/local/lib/python3.7/dist-packages (1.21.6)\n",
            "Collecting scipy>=1.7.0\n",
            "  Downloading scipy-1.7.3-cp37-cp37m-manylinux_2_12_x86_64.manylinux2010_x86_64.whl (38.1 MB)\n",
            "\u001b[K     |████████████████████████████████| 38.1 MB 1.3 MB/s \n",
            "\u001b[?25hRequirement already satisfied: numpy<1.23.0,>=1.16.5 in /usr/local/lib/python3.7/dist-packages (from scipy>=1.7.0) (1.21.6)\n",
            "Installing collected packages: scipy\n",
            "  Attempting uninstall: scipy\n",
            "    Found existing installation: scipy 1.4.1\n",
            "    Uninstalling scipy-1.4.1:\n",
            "      Successfully uninstalled scipy-1.4.1\n",
            "\u001b[31mERROR: pip's dependency resolver does not currently take into account all the packages that are installed. This behaviour is the source of the following dependency conflicts.\n",
            "albumentations 0.1.12 requires imgaug<0.2.7,>=0.2.5, but you have imgaug 0.2.9 which is incompatible.\u001b[0m\n",
            "Successfully installed scipy-1.7.3\n",
            "Requirement already satisfied: joblib in /usr/local/lib/python3.7/dist-packages (1.1.0)\n",
            "Collecting scikit-learn<0.25.0,>=0.24.0\n",
            "  Downloading scikit_learn-0.24.2-cp37-cp37m-manylinux2010_x86_64.whl (22.3 MB)\n",
            "\u001b[K     |████████████████████████████████| 22.3 MB 1.5 MB/s \n",
            "\u001b[?25hRequirement already satisfied: joblib>=0.11 in /usr/local/lib/python3.7/dist-packages (from scikit-learn<0.25.0,>=0.24.0) (1.1.0)\n",
            "Requirement already satisfied: numpy>=1.13.3 in /usr/local/lib/python3.7/dist-packages (from scikit-learn<0.25.0,>=0.24.0) (1.21.6)\n",
            "Requirement already satisfied: threadpoolctl>=2.0.0 in /usr/local/lib/python3.7/dist-packages (from scikit-learn<0.25.0,>=0.24.0) (3.1.0)\n",
            "Requirement already satisfied: scipy>=0.19.1 in /usr/local/lib/python3.7/dist-packages (from scikit-learn<0.25.0,>=0.24.0) (1.7.3)\n",
            "Installing collected packages: scikit-learn\n",
            "  Attempting uninstall: scikit-learn\n",
            "    Found existing installation: scikit-learn 1.0.2\n",
            "    Uninstalling scikit-learn-1.0.2:\n",
            "      Successfully uninstalled scikit-learn-1.0.2\n",
            "\u001b[31mERROR: pip's dependency resolver does not currently take into account all the packages that are installed. This behaviour is the source of the following dependency conflicts.\n",
            "yellowbrick 1.4 requires scikit-learn>=1.0.0, but you have scikit-learn 0.24.2 which is incompatible.\u001b[0m\n",
            "Successfully installed scikit-learn-0.24.2\n",
            "Collecting dask>=2021.12\n",
            "  Downloading dask-2022.2.0-py3-none-any.whl (1.1 MB)\n",
            "\u001b[K     |████████████████████████████████| 1.1 MB 5.1 MB/s \n",
            "\u001b[?25hCollecting pyyaml>=5.3.1\n",
            "  Downloading PyYAML-6.0-cp37-cp37m-manylinux_2_5_x86_64.manylinux1_x86_64.manylinux_2_12_x86_64.manylinux2010_x86_64.whl (596 kB)\n",
            "\u001b[K     |████████████████████████████████| 596 kB 47.4 MB/s \n",
            "\u001b[?25hRequirement already satisfied: cloudpickle>=1.1.1 in /usr/local/lib/python3.7/dist-packages (from dask>=2021.12) (1.3.0)\n",
            "Requirement already satisfied: packaging>=20.0 in /usr/local/lib/python3.7/dist-packages (from dask>=2021.12) (21.3)\n",
            "Requirement already satisfied: toolz>=0.8.2 in /usr/local/lib/python3.7/dist-packages (from dask>=2021.12) (0.11.2)\n",
            "Collecting partd>=0.3.10\n",
            "  Downloading partd-1.2.0-py3-none-any.whl (19 kB)\n",
            "Collecting fsspec>=0.6.0\n",
            "  Downloading fsspec-2022.3.0-py3-none-any.whl (136 kB)\n",
            "\u001b[K     |████████████████████████████████| 136 kB 63.8 MB/s \n",
            "\u001b[?25hRequirement already satisfied: pyparsing!=3.0.5,>=2.0.2 in /usr/local/lib/python3.7/dist-packages (from packaging>=20.0->dask>=2021.12) (3.0.8)\n",
            "Collecting locket\n",
            "  Downloading locket-1.0.0-py2.py3-none-any.whl (4.4 kB)\n",
            "Installing collected packages: locket, pyyaml, partd, fsspec, dask\n",
            "  Attempting uninstall: pyyaml\n",
            "    Found existing installation: PyYAML 3.13\n",
            "    Uninstalling PyYAML-3.13:\n",
            "      Successfully uninstalled PyYAML-3.13\n",
            "  Attempting uninstall: dask\n",
            "    Found existing installation: dask 2.12.0\n",
            "    Uninstalling dask-2.12.0:\n",
            "      Successfully uninstalled dask-2.12.0\n",
            "Successfully installed dask-2022.2.0 fsspec-2022.3.0 locket-1.0.0 partd-1.2.0 pyyaml-6.0\n",
            "Collecting distributed>=2012.12\n",
            "  Downloading distributed-2022.2.0-py3-none-any.whl (837 kB)\n",
            "\u001b[K     |████████████████████████████████| 837 kB 5.0 MB/s \n",
            "\u001b[?25hRequirement already satisfied: tornado>=5 in /usr/local/lib/python3.7/dist-packages (from distributed>=2012.12) (5.1.1)\n",
            "Requirement already satisfied: packaging>=20.0 in /usr/local/lib/python3.7/dist-packages (from distributed>=2012.12) (21.3)\n",
            "Requirement already satisfied: jinja2 in /usr/local/lib/python3.7/dist-packages (from distributed>=2012.12) (2.11.3)\n",
            "Collecting cloudpickle>=1.5.0\n",
            "  Downloading cloudpickle-2.0.0-py3-none-any.whl (25 kB)\n",
            "Requirement already satisfied: sortedcontainers!=2.0.0,!=2.0.1 in /usr/local/lib/python3.7/dist-packages (from distributed>=2012.12) (2.4.0)\n",
            "Requirement already satisfied: click>=6.6 in /usr/local/lib/python3.7/dist-packages (from distributed>=2012.12) (7.1.2)\n",
            "Requirement already satisfied: psutil>=5.0 in /usr/local/lib/python3.7/dist-packages (from distributed>=2012.12) (5.4.8)\n",
            "Requirement already satisfied: pyyaml in /usr/local/lib/python3.7/dist-packages (from distributed>=2012.12) (6.0)\n",
            "Requirement already satisfied: toolz>=0.8.2 in /usr/local/lib/python3.7/dist-packages (from distributed>=2012.12) (0.11.2)\n",
            "Requirement already satisfied: setuptools in /usr/local/lib/python3.7/dist-packages (from distributed>=2012.12) (57.4.0)\n",
            "Requirement already satisfied: tblib>=1.6.0 in /usr/local/lib/python3.7/dist-packages (from distributed>=2012.12) (1.7.0)\n",
            "Requirement already satisfied: msgpack>=0.6.0 in /usr/local/lib/python3.7/dist-packages (from distributed>=2012.12) (1.0.3)\n",
            "Requirement already satisfied: zict>=0.1.3 in /usr/local/lib/python3.7/dist-packages (from distributed>=2012.12) (2.1.0)\n",
            "Requirement already satisfied: dask==2022.02.0 in /usr/local/lib/python3.7/dist-packages (from distributed>=2012.12) (2022.2.0)\n",
            "Requirement already satisfied: partd>=0.3.10 in /usr/local/lib/python3.7/dist-packages (from dask==2022.02.0->distributed>=2012.12) (1.2.0)\n",
            "Requirement already satisfied: fsspec>=0.6.0 in /usr/local/lib/python3.7/dist-packages (from dask==2022.02.0->distributed>=2012.12) (2022.3.0)\n",
            "Requirement already satisfied: pyparsing!=3.0.5,>=2.0.2 in /usr/local/lib/python3.7/dist-packages (from packaging>=20.0->distributed>=2012.12) (3.0.8)\n",
            "Requirement already satisfied: locket in /usr/local/lib/python3.7/dist-packages (from partd>=0.3.10->dask==2022.02.0->distributed>=2012.12) (1.0.0)\n",
            "Requirement already satisfied: heapdict in /usr/local/lib/python3.7/dist-packages (from zict>=0.1.3->distributed>=2012.12) (1.0.1)\n",
            "Requirement already satisfied: MarkupSafe>=0.23 in /usr/local/lib/python3.7/dist-packages (from jinja2->distributed>=2012.12) (2.0.1)\n",
            "Installing collected packages: cloudpickle, distributed\n",
            "  Attempting uninstall: cloudpickle\n",
            "    Found existing installation: cloudpickle 1.3.0\n",
            "    Uninstalling cloudpickle-1.3.0:\n",
            "      Successfully uninstalled cloudpickle-1.3.0\n",
            "  Attempting uninstall: distributed\n",
            "    Found existing installation: distributed 1.25.3\n",
            "    Uninstalling distributed-1.25.3:\n",
            "      Successfully uninstalled distributed-1.25.3\n",
            "\u001b[31mERROR: pip's dependency resolver does not currently take into account all the packages that are installed. This behaviour is the source of the following dependency conflicts.\n",
            "gym 0.17.3 requires cloudpickle<1.7.0,>=1.2.0, but you have cloudpickle 2.0.0 which is incompatible.\u001b[0m\n",
            "Successfully installed cloudpickle-2.0.0 distributed-2022.2.0\n",
            "Requirement already satisfied: pyyaml in /usr/local/lib/python3.7/dist-packages (6.0)\n",
            "Requirement already satisfied: pandas>=1.0 in /usr/local/lib/python3.7/dist-packages (1.3.5)\n",
            "Requirement already satisfied: python-dateutil>=2.7.3 in /usr/local/lib/python3.7/dist-packages (from pandas>=1.0) (2.8.2)\n",
            "Requirement already satisfied: pytz>=2017.3 in /usr/local/lib/python3.7/dist-packages (from pandas>=1.0) (2022.1)\n",
            "Requirement already satisfied: numpy>=1.17.3 in /usr/local/lib/python3.7/dist-packages (from pandas>=1.0) (1.21.6)\n",
            "Requirement already satisfied: six>=1.5 in /usr/local/lib/python3.7/dist-packages (from python-dateutil>=2.7.3->pandas>=1.0) (1.15.0)\n",
            "Collecting liac-arff\n",
            "  Downloading liac-arff-2.5.0.tar.gz (13 kB)\n",
            "Building wheels for collected packages: liac-arff\n",
            "  Building wheel for liac-arff (setup.py) ... \u001b[?25l\u001b[?25hdone\n",
            "  Created wheel for liac-arff: filename=liac_arff-2.5.0-py3-none-any.whl size=11732 sha256=c7cac8a98b60f075fce5e33f08fd15ce06e6ba8c795cca772e483b0a66e33963\n",
            "  Stored in directory: /root/.cache/pip/wheels/1f/0f/15/332ca86cbebf25ddf98518caaf887945fbe1712b97a0f2493b\n",
            "Successfully built liac-arff\n",
            "Installing collected packages: liac-arff\n",
            "Successfully installed liac-arff-2.5.0\n",
            "Requirement already satisfied: threadpoolctl in /usr/local/lib/python3.7/dist-packages (3.1.0)\n",
            "Collecting ConfigSpace<0.5,>=0.4.21\n",
            "  Downloading ConfigSpace-0.4.21-cp37-cp37m-manylinux_2_17_x86_64.manylinux2014_x86_64.whl (4.3 MB)\n",
            "\u001b[K     |████████████████████████████████| 4.3 MB 5.1 MB/s \n",
            "\u001b[?25hRequirement already satisfied: numpy in /usr/local/lib/python3.7/dist-packages (from ConfigSpace<0.5,>=0.4.21) (1.21.6)\n",
            "Requirement already satisfied: cython in /usr/local/lib/python3.7/dist-packages (from ConfigSpace<0.5,>=0.4.21) (0.29.28)\n",
            "Requirement already satisfied: pyparsing in /usr/local/lib/python3.7/dist-packages (from ConfigSpace<0.5,>=0.4.21) (3.0.8)\n",
            "Requirement already satisfied: scipy in /usr/local/lib/python3.7/dist-packages (from ConfigSpace<0.5,>=0.4.21) (1.7.3)\n",
            "Installing collected packages: ConfigSpace\n",
            "Successfully installed ConfigSpace-0.4.21\n",
            "Collecting pynisher<0.7,>=0.6.3\n",
            "  Downloading pynisher-0.6.4.tar.gz (11 kB)\n",
            "Requirement already satisfied: setuptools in /usr/local/lib/python3.7/dist-packages (from pynisher<0.7,>=0.6.3) (57.4.0)\n",
            "Requirement already satisfied: psutil in /usr/local/lib/python3.7/dist-packages (from pynisher<0.7,>=0.6.3) (5.4.8)\n",
            "Building wheels for collected packages: pynisher\n",
            "  Building wheel for pynisher (setup.py) ... \u001b[?25l\u001b[?25hdone\n",
            "  Created wheel for pynisher: filename=pynisher-0.6.4-py3-none-any.whl size=7043 sha256=6795f4f7d5f088587c37cc6977a44ea5aebc7e056d8650a0653d76c774cdb9fd\n",
            "  Stored in directory: /root/.cache/pip/wheels/42/71/95/7555ec3253e1ba8add72ae5febf1b015d297f3b73ba296d6f6\n",
            "Successfully built pynisher\n",
            "Installing collected packages: pynisher\n",
            "Successfully installed pynisher-0.6.4\n",
            "Collecting pyrfr<0.9,>=0.8.1\n",
            "  Downloading pyrfr-0.8.2-cp37-cp37m-manylinux2014_x86_64.whl (4.0 MB)\n",
            "\u001b[K     |████████████████████████████████| 4.0 MB 5.2 MB/s \n",
            "\u001b[?25hInstalling collected packages: pyrfr\n",
            "Successfully installed pyrfr-0.8.2\n",
            "Collecting smac<1.3,>=1.2\n",
            "  Downloading smac-1.2.tar.gz (260 kB)\n",
            "\u001b[K     |████████████████████████████████| 260 kB 5.1 MB/s \n",
            "\u001b[?25hRequirement already satisfied: numpy>=1.7.1 in /usr/local/lib/python3.7/dist-packages (from smac<1.3,>=1.2) (1.21.6)\n",
            "Requirement already satisfied: scipy>=1.7.0 in /usr/local/lib/python3.7/dist-packages (from smac<1.3,>=1.2) (1.7.3)\n",
            "Requirement already satisfied: psutil in /usr/local/lib/python3.7/dist-packages (from smac<1.3,>=1.2) (5.4.8)\n",
            "Requirement already satisfied: pynisher>=0.4.1 in /usr/local/lib/python3.7/dist-packages (from smac<1.3,>=1.2) (0.6.4)\n",
            "Requirement already satisfied: ConfigSpace<0.5,>=0.4.14 in /usr/local/lib/python3.7/dist-packages (from smac<1.3,>=1.2) (0.4.21)\n",
            "Requirement already satisfied: joblib in /usr/local/lib/python3.7/dist-packages (from smac<1.3,>=1.2) (1.1.0)\n",
            "Requirement already satisfied: scikit-learn>=0.22.0 in /usr/local/lib/python3.7/dist-packages (from smac<1.3,>=1.2) (0.24.2)\n",
            "Requirement already satisfied: pyrfr>=0.8.0 in /usr/local/lib/python3.7/dist-packages (from smac<1.3,>=1.2) (0.8.2)\n",
            "Requirement already satisfied: dask in /usr/local/lib/python3.7/dist-packages (from smac<1.3,>=1.2) (2022.2.0)\n",
            "Requirement already satisfied: distributed in /usr/local/lib/python3.7/dist-packages (from smac<1.3,>=1.2) (2022.2.0)\n",
            "Collecting emcee>=3.0.0\n",
            "  Downloading emcee-3.1.1-py2.py3-none-any.whl (45 kB)\n",
            "\u001b[K     |████████████████████████████████| 45 kB 3.3 MB/s \n",
            "\u001b[?25hRequirement already satisfied: pyparsing in /usr/local/lib/python3.7/dist-packages (from ConfigSpace<0.5,>=0.4.14->smac<1.3,>=1.2) (3.0.8)\n",
            "Requirement already satisfied: cython in /usr/local/lib/python3.7/dist-packages (from ConfigSpace<0.5,>=0.4.14->smac<1.3,>=1.2) (0.29.28)\n",
            "Requirement already satisfied: setuptools in /usr/local/lib/python3.7/dist-packages (from pynisher>=0.4.1->smac<1.3,>=1.2) (57.4.0)\n",
            "Requirement already satisfied: threadpoolctl>=2.0.0 in /usr/local/lib/python3.7/dist-packages (from scikit-learn>=0.22.0->smac<1.3,>=1.2) (3.1.0)\n",
            "Requirement already satisfied: fsspec>=0.6.0 in /usr/local/lib/python3.7/dist-packages (from dask->smac<1.3,>=1.2) (2022.3.0)\n",
            "Requirement already satisfied: toolz>=0.8.2 in /usr/local/lib/python3.7/dist-packages (from dask->smac<1.3,>=1.2) (0.11.2)\n",
            "Requirement already satisfied: partd>=0.3.10 in /usr/local/lib/python3.7/dist-packages (from dask->smac<1.3,>=1.2) (1.2.0)\n",
            "Requirement already satisfied: pyyaml>=5.3.1 in /usr/local/lib/python3.7/dist-packages (from dask->smac<1.3,>=1.2) (6.0)\n",
            "Requirement already satisfied: cloudpickle>=1.1.1 in /usr/local/lib/python3.7/dist-packages (from dask->smac<1.3,>=1.2) (2.0.0)\n",
            "Requirement already satisfied: packaging>=20.0 in /usr/local/lib/python3.7/dist-packages (from dask->smac<1.3,>=1.2) (21.3)\n",
            "Requirement already satisfied: locket in /usr/local/lib/python3.7/dist-packages (from partd>=0.3.10->dask->smac<1.3,>=1.2) (1.0.0)\n",
            "Requirement already satisfied: msgpack>=0.6.0 in /usr/local/lib/python3.7/dist-packages (from distributed->smac<1.3,>=1.2) (1.0.3)\n",
            "Requirement already satisfied: jinja2 in /usr/local/lib/python3.7/dist-packages (from distributed->smac<1.3,>=1.2) (2.11.3)\n",
            "Requirement already satisfied: sortedcontainers!=2.0.0,!=2.0.1 in /usr/local/lib/python3.7/dist-packages (from distributed->smac<1.3,>=1.2) (2.4.0)\n",
            "Requirement already satisfied: zict>=0.1.3 in /usr/local/lib/python3.7/dist-packages (from distributed->smac<1.3,>=1.2) (2.1.0)\n",
            "Requirement already satisfied: click>=6.6 in /usr/local/lib/python3.7/dist-packages (from distributed->smac<1.3,>=1.2) (7.1.2)\n",
            "Requirement already satisfied: tornado>=5 in /usr/local/lib/python3.7/dist-packages (from distributed->smac<1.3,>=1.2) (5.1.1)\n",
            "Requirement already satisfied: tblib>=1.6.0 in /usr/local/lib/python3.7/dist-packages (from distributed->smac<1.3,>=1.2) (1.7.0)\n",
            "Requirement already satisfied: heapdict in /usr/local/lib/python3.7/dist-packages (from zict>=0.1.3->distributed->smac<1.3,>=1.2) (1.0.1)\n",
            "Requirement already satisfied: MarkupSafe>=0.23 in /usr/local/lib/python3.7/dist-packages (from jinja2->distributed->smac<1.3,>=1.2) (2.0.1)\n",
            "Building wheels for collected packages: smac\n",
            "  Building wheel for smac (setup.py) ... \u001b[?25l\u001b[?25hdone\n",
            "  Created wheel for smac: filename=smac-1.2-py3-none-any.whl size=215931 sha256=d45a1ac5755c5bf3c33de1fb672e129aec2ccfac469601b7a853e8cfbb564f2e\n",
            "  Stored in directory: /root/.cache/pip/wheels/ad/95/67/6afc6b04d3715070c853d0a9d7c7b1fb822def38671dfbbb9f\n",
            "Successfully built smac\n",
            "Installing collected packages: emcee, smac\n",
            "Successfully installed emcee-3.1.1 smac-1.2\n",
            "Collecting auto-sklearn==0.14.6\n",
            "  Downloading auto-sklearn-0.14.6.tar.gz (6.4 MB)\n",
            "\u001b[K     |████████████████████████████████| 6.4 MB 811 kB/s \n",
            "\u001b[?25hRequirement already satisfied: setuptools in /usr/local/lib/python3.7/dist-packages (from auto-sklearn==0.14.6) (57.4.0)\n",
            "Requirement already satisfied: typing_extensions in /usr/local/lib/python3.7/dist-packages (from auto-sklearn==0.14.6) (4.2.0)\n",
            "Requirement already satisfied: distro in /usr/local/lib/python3.7/dist-packages (from auto-sklearn==0.14.6) (1.7.0)\n",
            "Requirement already satisfied: numpy>=1.9.0 in /usr/local/lib/python3.7/dist-packages (from auto-sklearn==0.14.6) (1.21.6)\n",
            "Requirement already satisfied: scipy>=1.7.0 in /usr/local/lib/python3.7/dist-packages (from auto-sklearn==0.14.6) (1.7.3)\n",
            "Requirement already satisfied: joblib in /usr/local/lib/python3.7/dist-packages (from auto-sklearn==0.14.6) (1.1.0)\n",
            "Requirement already satisfied: scikit-learn<0.25.0,>=0.24.0 in /usr/local/lib/python3.7/dist-packages (from auto-sklearn==0.14.6) (0.24.2)\n",
            "Requirement already satisfied: dask>=2021.12 in /usr/local/lib/python3.7/dist-packages (from auto-sklearn==0.14.6) (2022.2.0)\n",
            "Requirement already satisfied: distributed>=2012.12 in /usr/local/lib/python3.7/dist-packages (from auto-sklearn==0.14.6) (2022.2.0)\n",
            "Requirement already satisfied: pyyaml in /usr/local/lib/python3.7/dist-packages (from auto-sklearn==0.14.6) (6.0)\n",
            "Requirement already satisfied: pandas>=1.0 in /usr/local/lib/python3.7/dist-packages (from auto-sklearn==0.14.6) (1.3.5)\n",
            "Requirement already satisfied: liac-arff in /usr/local/lib/python3.7/dist-packages (from auto-sklearn==0.14.6) (2.5.0)\n",
            "Requirement already satisfied: threadpoolctl in /usr/local/lib/python3.7/dist-packages (from auto-sklearn==0.14.6) (3.1.0)\n",
            "Requirement already satisfied: ConfigSpace<0.5,>=0.4.14 in /usr/local/lib/python3.7/dist-packages (from auto-sklearn==0.14.6) (0.4.21)\n",
            "Requirement already satisfied: pynisher>=0.6.3 in /usr/local/lib/python3.7/dist-packages (from auto-sklearn==0.14.6) (0.6.4)\n",
            "Requirement already satisfied: pyrfr<0.9,>=0.8.1 in /usr/local/lib/python3.7/dist-packages (from auto-sklearn==0.14.6) (0.8.2)\n",
            "Requirement already satisfied: smac>=0.14 in /usr/local/lib/python3.7/dist-packages (from auto-sklearn==0.14.6) (1.2)\n",
            "Requirement already satisfied: pyparsing in /usr/local/lib/python3.7/dist-packages (from ConfigSpace<0.5,>=0.4.14->auto-sklearn==0.14.6) (3.0.8)\n",
            "Requirement already satisfied: cython in /usr/local/lib/python3.7/dist-packages (from ConfigSpace<0.5,>=0.4.14->auto-sklearn==0.14.6) (0.29.28)\n",
            "Requirement already satisfied: fsspec>=0.6.0 in /usr/local/lib/python3.7/dist-packages (from dask>=2021.12->auto-sklearn==0.14.6) (2022.3.0)\n",
            "Requirement already satisfied: toolz>=0.8.2 in /usr/local/lib/python3.7/dist-packages (from dask>=2021.12->auto-sklearn==0.14.6) (0.11.2)\n",
            "Requirement already satisfied: partd>=0.3.10 in /usr/local/lib/python3.7/dist-packages (from dask>=2021.12->auto-sklearn==0.14.6) (1.2.0)\n",
            "Requirement already satisfied: packaging>=20.0 in /usr/local/lib/python3.7/dist-packages (from dask>=2021.12->auto-sklearn==0.14.6) (21.3)\n",
            "Requirement already satisfied: cloudpickle>=1.1.1 in /usr/local/lib/python3.7/dist-packages (from dask>=2021.12->auto-sklearn==0.14.6) (2.0.0)\n",
            "Requirement already satisfied: tblib>=1.6.0 in /usr/local/lib/python3.7/dist-packages (from distributed>=2012.12->auto-sklearn==0.14.6) (1.7.0)\n",
            "Requirement already satisfied: zict>=0.1.3 in /usr/local/lib/python3.7/dist-packages (from distributed>=2012.12->auto-sklearn==0.14.6) (2.1.0)\n",
            "Requirement already satisfied: sortedcontainers!=2.0.0,!=2.0.1 in /usr/local/lib/python3.7/dist-packages (from distributed>=2012.12->auto-sklearn==0.14.6) (2.4.0)\n",
            "Requirement already satisfied: jinja2 in /usr/local/lib/python3.7/dist-packages (from distributed>=2012.12->auto-sklearn==0.14.6) (2.11.3)\n",
            "Requirement already satisfied: click>=6.6 in /usr/local/lib/python3.7/dist-packages (from distributed>=2012.12->auto-sklearn==0.14.6) (7.1.2)\n",
            "Requirement already satisfied: msgpack>=0.6.0 in /usr/local/lib/python3.7/dist-packages (from distributed>=2012.12->auto-sklearn==0.14.6) (1.0.3)\n",
            "Requirement already satisfied: psutil>=5.0 in /usr/local/lib/python3.7/dist-packages (from distributed>=2012.12->auto-sklearn==0.14.6) (5.4.8)\n",
            "Requirement already satisfied: tornado>=5 in /usr/local/lib/python3.7/dist-packages (from distributed>=2012.12->auto-sklearn==0.14.6) (5.1.1)\n",
            "Requirement already satisfied: python-dateutil>=2.7.3 in /usr/local/lib/python3.7/dist-packages (from pandas>=1.0->auto-sklearn==0.14.6) (2.8.2)\n",
            "Requirement already satisfied: pytz>=2017.3 in /usr/local/lib/python3.7/dist-packages (from pandas>=1.0->auto-sklearn==0.14.6) (2022.1)\n",
            "Requirement already satisfied: locket in /usr/local/lib/python3.7/dist-packages (from partd>=0.3.10->dask>=2021.12->auto-sklearn==0.14.6) (1.0.0)\n",
            "Requirement already satisfied: six>=1.5 in /usr/local/lib/python3.7/dist-packages (from python-dateutil>=2.7.3->pandas>=1.0->auto-sklearn==0.14.6) (1.15.0)\n",
            "Requirement already satisfied: emcee>=3.0.0 in /usr/local/lib/python3.7/dist-packages (from smac>=0.14->auto-sklearn==0.14.6) (3.1.1)\n",
            "Requirement already satisfied: heapdict in /usr/local/lib/python3.7/dist-packages (from zict>=0.1.3->distributed>=2012.12->auto-sklearn==0.14.6) (1.0.1)\n",
            "Requirement already satisfied: MarkupSafe>=0.23 in /usr/local/lib/python3.7/dist-packages (from jinja2->distributed>=2012.12->auto-sklearn==0.14.6) (2.0.1)\n",
            "Building wheels for collected packages: auto-sklearn\n",
            "  Building wheel for auto-sklearn (setup.py) ... \u001b[?25l\u001b[?25hdone\n",
            "  Created wheel for auto-sklearn: filename=auto_sklearn-0.14.6-py3-none-any.whl size=6602835 sha256=01f606d770d145f61decd263264e03f613dd466a012f3a2706acac33da8d178c\n",
            "  Stored in directory: /root/.cache/pip/wheels/6a/70/48/db9c00457f87a751083ca0d5c99bf34387dde818c705bd9800\n",
            "Successfully built auto-sklearn\n",
            "Installing collected packages: auto-sklearn\n",
            "Successfully installed auto-sklearn-0.14.6\n"
          ]
        }
      ]
    },
    {
      "cell_type": "markdown",
      "source": [
        "## Import Libiraries"
      ],
      "metadata": {
        "id": "1jv_0cwijvbL"
      }
    },
    {
      "cell_type": "code",
      "execution_count": 1,
      "metadata": {
        "id": "_ikvKEHa4dgm",
        "colab": {
          "base_uri": "https://localhost:8080/"
        },
        "outputId": "46d45c08-a5c4-485d-8e7a-2a9989faec84"
      },
      "outputs": [
        {
          "output_type": "stream",
          "name": "stdout",
          "text": [
            "Mounted at /content/drive\n"
          ]
        }
      ],
      "source": [
        "# Import needed libraries. E.g., pandas, missingno, and sklearn\n",
        "import autosklearn\n",
        "import pandas as pd\n",
        "import numpy as np\n",
        "import sklearn \n",
        "import matplotlib \n",
        "from matplotlib import pyplot as plt\n",
        "import plotly.express as px\n",
        "from google.colab import drive\n",
        "drive.mount('/content/drive')\n",
        "import missingno as msno\n",
        "\n",
        "from scipy.stats import ttest_1samp,ttest_ind\n",
        "import seaborn as sns\n",
        "import plotly.graph_objs as go\n",
        "import plotly.offline as py\n",
        "from sklearn import preprocessing\n",
        "from pprint import pprint\n",
        "\n",
        "import sklearn.datasets\n",
        "import sklearn.metrics\n",
        "\n",
        "import autosklearn.regression\n",
        "import matplotlib.pyplot as plt\n",
        "import glob\n",
        "\n",
        "from sklearn.metrics import mean_absolute_error\n",
        "from autosklearn.regression import AutoSklearnRegressor\n",
        "from autosklearn.metrics import mean_absolute_error as auto_mean_absolute_error"
      ]
    },
    {
      "cell_type": "markdown",
      "metadata": {
        "id": "zsmDfJfG4dgo"
      },
      "source": [
        "## Task 1: \n",
        "* Read dataset\n",
        "* Merge data  \n",
        "* Perform basic data exploration\n",
        "\n",
        "### Note: \n",
        "#### You should briefely discuss the quality of dataset (missing values, duplicate entries, etc.) Also, in task 3, you would be asked to perform prediction on house sale price, thus it would be good to consider outliers related to this prediciton task when you perform data cleaning."
      ]
    },
    {
      "cell_type": "code",
      "source": [
        "# read data and merge it\n",
        "\n",
        "all_files = glob.glob(\"/content/drive/MyDrive/lab2-dataset_sha/*.csv\")\n",
        "data = pd.concat((pd.read_csv(f) for f in all_files))"
      ],
      "metadata": {
        "id": "JuzdoevGTWqm"
      },
      "execution_count": 2,
      "outputs": []
    },
    {
      "cell_type": "code",
      "source": [
        "#check the shape of data\n",
        "data.shape"
      ],
      "metadata": {
        "id": "Lh7H1FBgkKDj",
        "colab": {
          "base_uri": "https://localhost:8080/"
        },
        "outputId": "54f94a06-c839-4fca-8434-ccbf996bbe09"
      },
      "execution_count": 3,
      "outputs": [
        {
          "output_type": "execute_result",
          "data": {
            "text/plain": [
              "(277803, 21)"
            ]
          },
          "metadata": {},
          "execution_count": 3
        }
      ]
    },
    {
      "cell_type": "code",
      "source": [
        "#read head of data\n",
        "data.head(200)"
      ],
      "metadata": {
        "id": "vaWDAidFT4aW",
        "colab": {
          "base_uri": "https://localhost:8080/",
          "height": 0
        },
        "outputId": "b4b1e386-1027-483a-c46a-ae62adcc358c"
      },
      "execution_count": 4,
      "outputs": [
        {
          "output_type": "execute_result",
          "data": {
            "text/plain": [
              "     BOROUGH NEIGHBORHOOD  BUILDING CLASS CATEGORY TAX CLASS AT PRESENT  \\\n",
              "0        3.0   BATH BEACH  01 ONE FAMILY DWELLINGS                    1   \n",
              "1        3.0   BATH BEACH  01 ONE FAMILY DWELLINGS                    1   \n",
              "2        3.0   BATH BEACH  01 ONE FAMILY DWELLINGS                    1   \n",
              "3        3.0   BATH BEACH  01 ONE FAMILY DWELLINGS                    1   \n",
              "4        3.0   BATH BEACH  01 ONE FAMILY DWELLINGS                    1   \n",
              "..       ...          ...                      ...                  ...   \n",
              "195      3.0   BATH BEACH    04 TAX CLASS 1 CONDOS                    2   \n",
              "196      3.0   BATH BEACH    04 TAX CLASS 1 CONDOS                   1A   \n",
              "197      3.0   BATH BEACH    04 TAX CLASS 1 CONDOS                   1A   \n",
              "198      3.0   BATH BEACH    04 TAX CLASS 1 CONDOS                   1A   \n",
              "199      3.0   BATH BEACH    04 TAX CLASS 1 CONDOS                   1A   \n",
              "\n",
              "      BLOCK     LOT  EASE-MENT BUILDING CLASS AT PRESENT  \\\n",
              "0    6363.0    22.0        NaN                        A9   \n",
              "1    6363.0    48.0        NaN                        A9   \n",
              "2    6363.0    48.0        NaN                        A9   \n",
              "3    6364.0    74.0        NaN                        A5   \n",
              "4    6367.0    42.0        NaN                        S1   \n",
              "..      ...     ...        ...                       ...   \n",
              "195  6432.0  1007.0        NaN                        R2   \n",
              "196  6434.0  1004.0        NaN                        R3   \n",
              "197  6434.0  1024.0        NaN                        R3   \n",
              "198  6434.0  1042.0        NaN                        R3   \n",
              "199  6437.0  1115.0        NaN                        R3   \n",
              "\n",
              "                       ADDRESS APARTMENT NUMBER  ...  RESIDENTIAL UNITS  \\\n",
              "0             8645 16TH AVENUE              NaN  ...                1.0   \n",
              "1           12 BAY 13TH STREET              NaN  ...                1.0   \n",
              "2           12 BAY 13TH STREET              NaN  ...                1.0   \n",
              "3           72 BAY 14TH STREET              NaN  ...                1.0   \n",
              "4             1730 86TH STREET              NaN  ...                1.0   \n",
              "..                         ...              ...  ...                ...   \n",
              "195      8794 17TH AVENUE, 203              203  ...                1.0   \n",
              "196   8807 BAY 16TH STREET, 2A               2A  ...                1.0   \n",
              "197    188 BAY 17TH STREET, 1E               1E  ...                1.0   \n",
              "198    198 BAY 17TH STREET, 1H               1H  ...                1.0   \n",
              "199  187 BAY 19TH STREET, B203             B203  ...                1.0   \n",
              "\n",
              "    COMMERCIAL UNITS TOTAL UNITS LAND SQUARE FEET GROSS SQUARE FEET  \\\n",
              "0                0.0         1.0            2,058             1,492   \n",
              "1                0.0         1.0            3,142             3,200   \n",
              "2                0.0         1.0            3,142             3,200   \n",
              "3                0.0         1.0            2,492               972   \n",
              "4                1.0         2.0            1,342             1,920   \n",
              "..               ...         ...              ...               ...   \n",
              "195              0.0         1.0                0                 0   \n",
              "196              0.0         1.0                0                 0   \n",
              "197              0.0         1.0                0                 0   \n",
              "198              0.0         1.0                0                 0   \n",
              "199              0.0         1.0                0                 0   \n",
              "\n",
              "    YEAR BUILT  TAX CLASS AT TIME OF SALE  BUILDING CLASS AT TIME OF SALE  \\\n",
              "0       1930.0                        1.0                              A9   \n",
              "1       1999.0                        1.0                              A9   \n",
              "2       1999.0                        1.0                              A9   \n",
              "3       1950.0                        1.0                              A5   \n",
              "4       1926.0                        1.0                              S1   \n",
              "..         ...                        ...                             ...   \n",
              "195     2017.0                        1.0                              R3   \n",
              "196        NaN                        1.0                              R3   \n",
              "197     2007.0                        1.0                              R3   \n",
              "198     2007.0                        1.0                              R3   \n",
              "199        NaN                        1.0                              R3   \n",
              "\n",
              "    SALE PRICE   SALE DATE  \n",
              "0            0  2019-04-23  \n",
              "1            0  2019-02-27  \n",
              "2            0  2019-02-11  \n",
              "3            0  2019-08-15  \n",
              "4    1,630,000  2019-02-08  \n",
              "..         ...         ...  \n",
              "195    784,053  2019-11-26  \n",
              "196    640,000  2019-10-21  \n",
              "197          0  2019-08-20  \n",
              "198          0  2019-12-21  \n",
              "199    782,500  2019-12-30  \n",
              "\n",
              "[200 rows x 21 columns]"
            ],
            "text/html": [
              "\n",
              "  <div id=\"df-fcf049cb-eb2c-407c-9901-a73ceea398dd\">\n",
              "    <div class=\"colab-df-container\">\n",
              "      <div>\n",
              "<style scoped>\n",
              "    .dataframe tbody tr th:only-of-type {\n",
              "        vertical-align: middle;\n",
              "    }\n",
              "\n",
              "    .dataframe tbody tr th {\n",
              "        vertical-align: top;\n",
              "    }\n",
              "\n",
              "    .dataframe thead th {\n",
              "        text-align: right;\n",
              "    }\n",
              "</style>\n",
              "<table border=\"1\" class=\"dataframe\">\n",
              "  <thead>\n",
              "    <tr style=\"text-align: right;\">\n",
              "      <th></th>\n",
              "      <th>BOROUGH</th>\n",
              "      <th>NEIGHBORHOOD</th>\n",
              "      <th>BUILDING CLASS CATEGORY</th>\n",
              "      <th>TAX CLASS AT PRESENT</th>\n",
              "      <th>BLOCK</th>\n",
              "      <th>LOT</th>\n",
              "      <th>EASE-MENT</th>\n",
              "      <th>BUILDING CLASS AT PRESENT</th>\n",
              "      <th>ADDRESS</th>\n",
              "      <th>APARTMENT NUMBER</th>\n",
              "      <th>...</th>\n",
              "      <th>RESIDENTIAL UNITS</th>\n",
              "      <th>COMMERCIAL UNITS</th>\n",
              "      <th>TOTAL UNITS</th>\n",
              "      <th>LAND SQUARE FEET</th>\n",
              "      <th>GROSS SQUARE FEET</th>\n",
              "      <th>YEAR BUILT</th>\n",
              "      <th>TAX CLASS AT TIME OF SALE</th>\n",
              "      <th>BUILDING CLASS AT TIME OF SALE</th>\n",
              "      <th>SALE PRICE</th>\n",
              "      <th>SALE DATE</th>\n",
              "    </tr>\n",
              "  </thead>\n",
              "  <tbody>\n",
              "    <tr>\n",
              "      <th>0</th>\n",
              "      <td>3.0</td>\n",
              "      <td>BATH BEACH</td>\n",
              "      <td>01 ONE FAMILY DWELLINGS</td>\n",
              "      <td>1</td>\n",
              "      <td>6363.0</td>\n",
              "      <td>22.0</td>\n",
              "      <td>NaN</td>\n",
              "      <td>A9</td>\n",
              "      <td>8645 16TH AVENUE</td>\n",
              "      <td>NaN</td>\n",
              "      <td>...</td>\n",
              "      <td>1.0</td>\n",
              "      <td>0.0</td>\n",
              "      <td>1.0</td>\n",
              "      <td>2,058</td>\n",
              "      <td>1,492</td>\n",
              "      <td>1930.0</td>\n",
              "      <td>1.0</td>\n",
              "      <td>A9</td>\n",
              "      <td>0</td>\n",
              "      <td>2019-04-23</td>\n",
              "    </tr>\n",
              "    <tr>\n",
              "      <th>1</th>\n",
              "      <td>3.0</td>\n",
              "      <td>BATH BEACH</td>\n",
              "      <td>01 ONE FAMILY DWELLINGS</td>\n",
              "      <td>1</td>\n",
              "      <td>6363.0</td>\n",
              "      <td>48.0</td>\n",
              "      <td>NaN</td>\n",
              "      <td>A9</td>\n",
              "      <td>12 BAY 13TH STREET</td>\n",
              "      <td>NaN</td>\n",
              "      <td>...</td>\n",
              "      <td>1.0</td>\n",
              "      <td>0.0</td>\n",
              "      <td>1.0</td>\n",
              "      <td>3,142</td>\n",
              "      <td>3,200</td>\n",
              "      <td>1999.0</td>\n",
              "      <td>1.0</td>\n",
              "      <td>A9</td>\n",
              "      <td>0</td>\n",
              "      <td>2019-02-27</td>\n",
              "    </tr>\n",
              "    <tr>\n",
              "      <th>2</th>\n",
              "      <td>3.0</td>\n",
              "      <td>BATH BEACH</td>\n",
              "      <td>01 ONE FAMILY DWELLINGS</td>\n",
              "      <td>1</td>\n",
              "      <td>6363.0</td>\n",
              "      <td>48.0</td>\n",
              "      <td>NaN</td>\n",
              "      <td>A9</td>\n",
              "      <td>12 BAY 13TH STREET</td>\n",
              "      <td>NaN</td>\n",
              "      <td>...</td>\n",
              "      <td>1.0</td>\n",
              "      <td>0.0</td>\n",
              "      <td>1.0</td>\n",
              "      <td>3,142</td>\n",
              "      <td>3,200</td>\n",
              "      <td>1999.0</td>\n",
              "      <td>1.0</td>\n",
              "      <td>A9</td>\n",
              "      <td>0</td>\n",
              "      <td>2019-02-11</td>\n",
              "    </tr>\n",
              "    <tr>\n",
              "      <th>3</th>\n",
              "      <td>3.0</td>\n",
              "      <td>BATH BEACH</td>\n",
              "      <td>01 ONE FAMILY DWELLINGS</td>\n",
              "      <td>1</td>\n",
              "      <td>6364.0</td>\n",
              "      <td>74.0</td>\n",
              "      <td>NaN</td>\n",
              "      <td>A5</td>\n",
              "      <td>72 BAY 14TH STREET</td>\n",
              "      <td>NaN</td>\n",
              "      <td>...</td>\n",
              "      <td>1.0</td>\n",
              "      <td>0.0</td>\n",
              "      <td>1.0</td>\n",
              "      <td>2,492</td>\n",
              "      <td>972</td>\n",
              "      <td>1950.0</td>\n",
              "      <td>1.0</td>\n",
              "      <td>A5</td>\n",
              "      <td>0</td>\n",
              "      <td>2019-08-15</td>\n",
              "    </tr>\n",
              "    <tr>\n",
              "      <th>4</th>\n",
              "      <td>3.0</td>\n",
              "      <td>BATH BEACH</td>\n",
              "      <td>01 ONE FAMILY DWELLINGS</td>\n",
              "      <td>1</td>\n",
              "      <td>6367.0</td>\n",
              "      <td>42.0</td>\n",
              "      <td>NaN</td>\n",
              "      <td>S1</td>\n",
              "      <td>1730 86TH STREET</td>\n",
              "      <td>NaN</td>\n",
              "      <td>...</td>\n",
              "      <td>1.0</td>\n",
              "      <td>1.0</td>\n",
              "      <td>2.0</td>\n",
              "      <td>1,342</td>\n",
              "      <td>1,920</td>\n",
              "      <td>1926.0</td>\n",
              "      <td>1.0</td>\n",
              "      <td>S1</td>\n",
              "      <td>1,630,000</td>\n",
              "      <td>2019-02-08</td>\n",
              "    </tr>\n",
              "    <tr>\n",
              "      <th>...</th>\n",
              "      <td>...</td>\n",
              "      <td>...</td>\n",
              "      <td>...</td>\n",
              "      <td>...</td>\n",
              "      <td>...</td>\n",
              "      <td>...</td>\n",
              "      <td>...</td>\n",
              "      <td>...</td>\n",
              "      <td>...</td>\n",
              "      <td>...</td>\n",
              "      <td>...</td>\n",
              "      <td>...</td>\n",
              "      <td>...</td>\n",
              "      <td>...</td>\n",
              "      <td>...</td>\n",
              "      <td>...</td>\n",
              "      <td>...</td>\n",
              "      <td>...</td>\n",
              "      <td>...</td>\n",
              "      <td>...</td>\n",
              "      <td>...</td>\n",
              "    </tr>\n",
              "    <tr>\n",
              "      <th>195</th>\n",
              "      <td>3.0</td>\n",
              "      <td>BATH BEACH</td>\n",
              "      <td>04 TAX CLASS 1 CONDOS</td>\n",
              "      <td>2</td>\n",
              "      <td>6432.0</td>\n",
              "      <td>1007.0</td>\n",
              "      <td>NaN</td>\n",
              "      <td>R2</td>\n",
              "      <td>8794 17TH AVENUE, 203</td>\n",
              "      <td>203</td>\n",
              "      <td>...</td>\n",
              "      <td>1.0</td>\n",
              "      <td>0.0</td>\n",
              "      <td>1.0</td>\n",
              "      <td>0</td>\n",
              "      <td>0</td>\n",
              "      <td>2017.0</td>\n",
              "      <td>1.0</td>\n",
              "      <td>R3</td>\n",
              "      <td>784,053</td>\n",
              "      <td>2019-11-26</td>\n",
              "    </tr>\n",
              "    <tr>\n",
              "      <th>196</th>\n",
              "      <td>3.0</td>\n",
              "      <td>BATH BEACH</td>\n",
              "      <td>04 TAX CLASS 1 CONDOS</td>\n",
              "      <td>1A</td>\n",
              "      <td>6434.0</td>\n",
              "      <td>1004.0</td>\n",
              "      <td>NaN</td>\n",
              "      <td>R3</td>\n",
              "      <td>8807 BAY 16TH STREET, 2A</td>\n",
              "      <td>2A</td>\n",
              "      <td>...</td>\n",
              "      <td>1.0</td>\n",
              "      <td>0.0</td>\n",
              "      <td>1.0</td>\n",
              "      <td>0</td>\n",
              "      <td>0</td>\n",
              "      <td>NaN</td>\n",
              "      <td>1.0</td>\n",
              "      <td>R3</td>\n",
              "      <td>640,000</td>\n",
              "      <td>2019-10-21</td>\n",
              "    </tr>\n",
              "    <tr>\n",
              "      <th>197</th>\n",
              "      <td>3.0</td>\n",
              "      <td>BATH BEACH</td>\n",
              "      <td>04 TAX CLASS 1 CONDOS</td>\n",
              "      <td>1A</td>\n",
              "      <td>6434.0</td>\n",
              "      <td>1024.0</td>\n",
              "      <td>NaN</td>\n",
              "      <td>R3</td>\n",
              "      <td>188 BAY 17TH STREET, 1E</td>\n",
              "      <td>1E</td>\n",
              "      <td>...</td>\n",
              "      <td>1.0</td>\n",
              "      <td>0.0</td>\n",
              "      <td>1.0</td>\n",
              "      <td>0</td>\n",
              "      <td>0</td>\n",
              "      <td>2007.0</td>\n",
              "      <td>1.0</td>\n",
              "      <td>R3</td>\n",
              "      <td>0</td>\n",
              "      <td>2019-08-20</td>\n",
              "    </tr>\n",
              "    <tr>\n",
              "      <th>198</th>\n",
              "      <td>3.0</td>\n",
              "      <td>BATH BEACH</td>\n",
              "      <td>04 TAX CLASS 1 CONDOS</td>\n",
              "      <td>1A</td>\n",
              "      <td>6434.0</td>\n",
              "      <td>1042.0</td>\n",
              "      <td>NaN</td>\n",
              "      <td>R3</td>\n",
              "      <td>198 BAY 17TH STREET, 1H</td>\n",
              "      <td>1H</td>\n",
              "      <td>...</td>\n",
              "      <td>1.0</td>\n",
              "      <td>0.0</td>\n",
              "      <td>1.0</td>\n",
              "      <td>0</td>\n",
              "      <td>0</td>\n",
              "      <td>2007.0</td>\n",
              "      <td>1.0</td>\n",
              "      <td>R3</td>\n",
              "      <td>0</td>\n",
              "      <td>2019-12-21</td>\n",
              "    </tr>\n",
              "    <tr>\n",
              "      <th>199</th>\n",
              "      <td>3.0</td>\n",
              "      <td>BATH BEACH</td>\n",
              "      <td>04 TAX CLASS 1 CONDOS</td>\n",
              "      <td>1A</td>\n",
              "      <td>6437.0</td>\n",
              "      <td>1115.0</td>\n",
              "      <td>NaN</td>\n",
              "      <td>R3</td>\n",
              "      <td>187 BAY 19TH STREET, B203</td>\n",
              "      <td>B203</td>\n",
              "      <td>...</td>\n",
              "      <td>1.0</td>\n",
              "      <td>0.0</td>\n",
              "      <td>1.0</td>\n",
              "      <td>0</td>\n",
              "      <td>0</td>\n",
              "      <td>NaN</td>\n",
              "      <td>1.0</td>\n",
              "      <td>R3</td>\n",
              "      <td>782,500</td>\n",
              "      <td>2019-12-30</td>\n",
              "    </tr>\n",
              "  </tbody>\n",
              "</table>\n",
              "<p>200 rows × 21 columns</p>\n",
              "</div>\n",
              "      <button class=\"colab-df-convert\" onclick=\"convertToInteractive('df-fcf049cb-eb2c-407c-9901-a73ceea398dd')\"\n",
              "              title=\"Convert this dataframe to an interactive table.\"\n",
              "              style=\"display:none;\">\n",
              "        \n",
              "  <svg xmlns=\"http://www.w3.org/2000/svg\" height=\"24px\"viewBox=\"0 0 24 24\"\n",
              "       width=\"24px\">\n",
              "    <path d=\"M0 0h24v24H0V0z\" fill=\"none\"/>\n",
              "    <path d=\"M18.56 5.44l.94 2.06.94-2.06 2.06-.94-2.06-.94-.94-2.06-.94 2.06-2.06.94zm-11 1L8.5 8.5l.94-2.06 2.06-.94-2.06-.94L8.5 2.5l-.94 2.06-2.06.94zm10 10l.94 2.06.94-2.06 2.06-.94-2.06-.94-.94-2.06-.94 2.06-2.06.94z\"/><path d=\"M17.41 7.96l-1.37-1.37c-.4-.4-.92-.59-1.43-.59-.52 0-1.04.2-1.43.59L10.3 9.45l-7.72 7.72c-.78.78-.78 2.05 0 2.83L4 21.41c.39.39.9.59 1.41.59.51 0 1.02-.2 1.41-.59l7.78-7.78 2.81-2.81c.8-.78.8-2.07 0-2.86zM5.41 20L4 18.59l7.72-7.72 1.47 1.35L5.41 20z\"/>\n",
              "  </svg>\n",
              "      </button>\n",
              "      \n",
              "  <style>\n",
              "    .colab-df-container {\n",
              "      display:flex;\n",
              "      flex-wrap:wrap;\n",
              "      gap: 12px;\n",
              "    }\n",
              "\n",
              "    .colab-df-convert {\n",
              "      background-color: #E8F0FE;\n",
              "      border: none;\n",
              "      border-radius: 50%;\n",
              "      cursor: pointer;\n",
              "      display: none;\n",
              "      fill: #1967D2;\n",
              "      height: 32px;\n",
              "      padding: 0 0 0 0;\n",
              "      width: 32px;\n",
              "    }\n",
              "\n",
              "    .colab-df-convert:hover {\n",
              "      background-color: #E2EBFA;\n",
              "      box-shadow: 0px 1px 2px rgba(60, 64, 67, 0.3), 0px 1px 3px 1px rgba(60, 64, 67, 0.15);\n",
              "      fill: #174EA6;\n",
              "    }\n",
              "\n",
              "    [theme=dark] .colab-df-convert {\n",
              "      background-color: #3B4455;\n",
              "      fill: #D2E3FC;\n",
              "    }\n",
              "\n",
              "    [theme=dark] .colab-df-convert:hover {\n",
              "      background-color: #434B5C;\n",
              "      box-shadow: 0px 1px 3px 1px rgba(0, 0, 0, 0.15);\n",
              "      filter: drop-shadow(0px 1px 2px rgba(0, 0, 0, 0.3));\n",
              "      fill: #FFFFFF;\n",
              "    }\n",
              "  </style>\n",
              "\n",
              "      <script>\n",
              "        const buttonEl =\n",
              "          document.querySelector('#df-fcf049cb-eb2c-407c-9901-a73ceea398dd button.colab-df-convert');\n",
              "        buttonEl.style.display =\n",
              "          google.colab.kernel.accessAllowed ? 'block' : 'none';\n",
              "\n",
              "        async function convertToInteractive(key) {\n",
              "          const element = document.querySelector('#df-fcf049cb-eb2c-407c-9901-a73ceea398dd');\n",
              "          const dataTable =\n",
              "            await google.colab.kernel.invokeFunction('convertToInteractive',\n",
              "                                                     [key], {});\n",
              "          if (!dataTable) return;\n",
              "\n",
              "          const docLinkHtml = 'Like what you see? Visit the ' +\n",
              "            '<a target=\"_blank\" href=https://colab.research.google.com/notebooks/data_table.ipynb>data table notebook</a>'\n",
              "            + ' to learn more about interactive tables.';\n",
              "          element.innerHTML = '';\n",
              "          dataTable['output_type'] = 'display_data';\n",
              "          await google.colab.output.renderOutput(dataTable, element);\n",
              "          const docLink = document.createElement('div');\n",
              "          docLink.innerHTML = docLinkHtml;\n",
              "          element.appendChild(docLink);\n",
              "        }\n",
              "      </script>\n",
              "    </div>\n",
              "  </div>\n",
              "  "
            ]
          },
          "metadata": {},
          "execution_count": 4
        }
      ]
    },
    {
      "cell_type": "code",
      "source": [
        "#sort data by BOROUGH\n",
        "data.sort_values(by=['BOROUGH'], ascending=True,inplace=True)"
      ],
      "metadata": {
        "id": "d-hj5PUBwFVn"
      },
      "execution_count": 5,
      "outputs": []
    },
    {
      "cell_type": "code",
      "source": [
        "data"
      ],
      "metadata": {
        "id": "6H9kiqzhwNC1",
        "colab": {
          "base_uri": "https://localhost:8080/",
          "height": 0
        },
        "outputId": "0bf03e90-a4a1-4eb8-ecf6-907c3d96bd10"
      },
      "execution_count": 6,
      "outputs": [
        {
          "output_type": "execute_result",
          "data": {
            "text/plain": [
              "       BOROUGH              NEIGHBORHOOD BUILDING CLASS CATEGORY  \\\n",
              "11965      1.0  WASHINGTON HEIGHTS UPPER        44 CONDO PARKING   \n",
              "15546      1.0   UPPER WEST SIDE (59-79)          17 CONDO COOPS   \n",
              "15545      1.0   UPPER WEST SIDE (59-79)          17 CONDO COOPS   \n",
              "15544      1.0   UPPER WEST SIDE (59-79)          17 CONDO COOPS   \n",
              "15543      1.0   UPPER WEST SIDE (59-79)          17 CONDO COOPS   \n",
              "...        ...                       ...                     ...   \n",
              "17757      NaN                       NaN                     NaN   \n",
              "17758      NaN                       NaN                     NaN   \n",
              "17759      NaN                       NaN                     NaN   \n",
              "17760      NaN                       NaN                     NaN   \n",
              "17761      NaN                       NaN                     NaN   \n",
              "\n",
              "      TAX CLASS AT PRESENT   BLOCK     LOT  EASE-MENT  \\\n",
              "11965                    4  2180.0  1230.0        NaN   \n",
              "15546                    2  1158.0  1310.0        NaN   \n",
              "15545                    2  1158.0  1310.0        NaN   \n",
              "15544                    2  1158.0  1310.0        NaN   \n",
              "15543                    2  1158.0  1310.0        NaN   \n",
              "...                    ...     ...     ...        ...   \n",
              "17757                  NaN     NaN     NaN        NaN   \n",
              "17758                  NaN     NaN     NaN        NaN   \n",
              "17759                  NaN     NaN     NaN        NaN   \n",
              "17760                  NaN     NaN     NaN        NaN   \n",
              "17761                  NaN     NaN     NaN        NaN   \n",
              "\n",
              "      BUILDING CLASS AT PRESENT                     ADDRESS APARTMENT NUMBER  \\\n",
              "11965                        RG  736 WEST 187 STREET, PRK30            PRK30   \n",
              "15546                        R9    140 WEST END AVENUE, 28E              NaN   \n",
              "15545                        R9    140 WEST END AVENUE, 15N              NaN   \n",
              "15544                        R9     140 WEST END AVENUE, 8S              NaN   \n",
              "15543                        R9    140 WEST END AVENUE, 19S              NaN   \n",
              "...                         ...                         ...              ...   \n",
              "17757                       NaN                         NaN              NaN   \n",
              "17758                       NaN                         NaN              NaN   \n",
              "17759                       NaN                         NaN              NaN   \n",
              "17760                       NaN                         NaN              NaN   \n",
              "17761                       NaN                         NaN              NaN   \n",
              "\n",
              "       ...  RESIDENTIAL UNITS COMMERCIAL UNITS TOTAL UNITS LAND SQUARE FEET  \\\n",
              "11965  ...                NaN              1.0           1              NaN   \n",
              "15546  ...                NaN              NaN         NaN              NaN   \n",
              "15545  ...                NaN              NaN         NaN              NaN   \n",
              "15544  ...                NaN              NaN         NaN              NaN   \n",
              "15543  ...                NaN              NaN         NaN              NaN   \n",
              "...    ...                ...              ...         ...              ...   \n",
              "17757  ...                NaN              NaN         NaN              NaN   \n",
              "17758  ...                NaN              NaN         NaN              NaN   \n",
              "17759  ...                NaN              NaN         NaN              NaN   \n",
              "17760  ...                NaN              NaN         NaN              NaN   \n",
              "17761  ...                NaN              NaN         NaN              NaN   \n",
              "\n",
              "      GROSS SQUARE FEET YEAR BUILT  TAX CLASS AT TIME OF SALE  \\\n",
              "11965               NaN     2003.0                        4.0   \n",
              "15546               NaN     1964.0                        2.0   \n",
              "15545               NaN     1964.0                        2.0   \n",
              "15544               NaN     1964.0                        2.0   \n",
              "15543               NaN     1964.0                        2.0   \n",
              "...                 ...        ...                        ...   \n",
              "17757               NaN        NaN                        NaN   \n",
              "17758               NaN        NaN                        NaN   \n",
              "17759               NaN        NaN                        NaN   \n",
              "17760               NaN        NaN                        NaN   \n",
              "17761               NaN        NaN                        NaN   \n",
              "\n",
              "       BUILDING CLASS AT TIME OF SALE SALE PRICE   SALE DATE  \n",
              "11965                              RG  1,200,000  2020-12-24  \n",
              "15546                              R9    520,000  2019-01-30  \n",
              "15545                              R9          0  2019-07-31  \n",
              "15544                              R9    460,000  2019-11-05  \n",
              "15543                              R9    429,000  2019-11-19  \n",
              "...                               ...        ...         ...  \n",
              "17757                             NaN        NaN         NaN  \n",
              "17758                             NaN        NaN         NaN  \n",
              "17759                             NaN        NaN         NaN  \n",
              "17760                             NaN        NaN         NaN  \n",
              "17761                             NaN        NaN         NaN  \n",
              "\n",
              "[277803 rows x 21 columns]"
            ],
            "text/html": [
              "\n",
              "  <div id=\"df-606d75ef-8bef-46eb-946d-4a903335da0c\">\n",
              "    <div class=\"colab-df-container\">\n",
              "      <div>\n",
              "<style scoped>\n",
              "    .dataframe tbody tr th:only-of-type {\n",
              "        vertical-align: middle;\n",
              "    }\n",
              "\n",
              "    .dataframe tbody tr th {\n",
              "        vertical-align: top;\n",
              "    }\n",
              "\n",
              "    .dataframe thead th {\n",
              "        text-align: right;\n",
              "    }\n",
              "</style>\n",
              "<table border=\"1\" class=\"dataframe\">\n",
              "  <thead>\n",
              "    <tr style=\"text-align: right;\">\n",
              "      <th></th>\n",
              "      <th>BOROUGH</th>\n",
              "      <th>NEIGHBORHOOD</th>\n",
              "      <th>BUILDING CLASS CATEGORY</th>\n",
              "      <th>TAX CLASS AT PRESENT</th>\n",
              "      <th>BLOCK</th>\n",
              "      <th>LOT</th>\n",
              "      <th>EASE-MENT</th>\n",
              "      <th>BUILDING CLASS AT PRESENT</th>\n",
              "      <th>ADDRESS</th>\n",
              "      <th>APARTMENT NUMBER</th>\n",
              "      <th>...</th>\n",
              "      <th>RESIDENTIAL UNITS</th>\n",
              "      <th>COMMERCIAL UNITS</th>\n",
              "      <th>TOTAL UNITS</th>\n",
              "      <th>LAND SQUARE FEET</th>\n",
              "      <th>GROSS SQUARE FEET</th>\n",
              "      <th>YEAR BUILT</th>\n",
              "      <th>TAX CLASS AT TIME OF SALE</th>\n",
              "      <th>BUILDING CLASS AT TIME OF SALE</th>\n",
              "      <th>SALE PRICE</th>\n",
              "      <th>SALE DATE</th>\n",
              "    </tr>\n",
              "  </thead>\n",
              "  <tbody>\n",
              "    <tr>\n",
              "      <th>11965</th>\n",
              "      <td>1.0</td>\n",
              "      <td>WASHINGTON HEIGHTS UPPER</td>\n",
              "      <td>44 CONDO PARKING</td>\n",
              "      <td>4</td>\n",
              "      <td>2180.0</td>\n",
              "      <td>1230.0</td>\n",
              "      <td>NaN</td>\n",
              "      <td>RG</td>\n",
              "      <td>736 WEST 187 STREET, PRK30</td>\n",
              "      <td>PRK30</td>\n",
              "      <td>...</td>\n",
              "      <td>NaN</td>\n",
              "      <td>1.0</td>\n",
              "      <td>1</td>\n",
              "      <td>NaN</td>\n",
              "      <td>NaN</td>\n",
              "      <td>2003.0</td>\n",
              "      <td>4.0</td>\n",
              "      <td>RG</td>\n",
              "      <td>1,200,000</td>\n",
              "      <td>2020-12-24</td>\n",
              "    </tr>\n",
              "    <tr>\n",
              "      <th>15546</th>\n",
              "      <td>1.0</td>\n",
              "      <td>UPPER WEST SIDE (59-79)</td>\n",
              "      <td>17 CONDO COOPS</td>\n",
              "      <td>2</td>\n",
              "      <td>1158.0</td>\n",
              "      <td>1310.0</td>\n",
              "      <td>NaN</td>\n",
              "      <td>R9</td>\n",
              "      <td>140 WEST END AVENUE, 28E</td>\n",
              "      <td>NaN</td>\n",
              "      <td>...</td>\n",
              "      <td>NaN</td>\n",
              "      <td>NaN</td>\n",
              "      <td>NaN</td>\n",
              "      <td>NaN</td>\n",
              "      <td>NaN</td>\n",
              "      <td>1964.0</td>\n",
              "      <td>2.0</td>\n",
              "      <td>R9</td>\n",
              "      <td>520,000</td>\n",
              "      <td>2019-01-30</td>\n",
              "    </tr>\n",
              "    <tr>\n",
              "      <th>15545</th>\n",
              "      <td>1.0</td>\n",
              "      <td>UPPER WEST SIDE (59-79)</td>\n",
              "      <td>17 CONDO COOPS</td>\n",
              "      <td>2</td>\n",
              "      <td>1158.0</td>\n",
              "      <td>1310.0</td>\n",
              "      <td>NaN</td>\n",
              "      <td>R9</td>\n",
              "      <td>140 WEST END AVENUE, 15N</td>\n",
              "      <td>NaN</td>\n",
              "      <td>...</td>\n",
              "      <td>NaN</td>\n",
              "      <td>NaN</td>\n",
              "      <td>NaN</td>\n",
              "      <td>NaN</td>\n",
              "      <td>NaN</td>\n",
              "      <td>1964.0</td>\n",
              "      <td>2.0</td>\n",
              "      <td>R9</td>\n",
              "      <td>0</td>\n",
              "      <td>2019-07-31</td>\n",
              "    </tr>\n",
              "    <tr>\n",
              "      <th>15544</th>\n",
              "      <td>1.0</td>\n",
              "      <td>UPPER WEST SIDE (59-79)</td>\n",
              "      <td>17 CONDO COOPS</td>\n",
              "      <td>2</td>\n",
              "      <td>1158.0</td>\n",
              "      <td>1310.0</td>\n",
              "      <td>NaN</td>\n",
              "      <td>R9</td>\n",
              "      <td>140 WEST END AVENUE, 8S</td>\n",
              "      <td>NaN</td>\n",
              "      <td>...</td>\n",
              "      <td>NaN</td>\n",
              "      <td>NaN</td>\n",
              "      <td>NaN</td>\n",
              "      <td>NaN</td>\n",
              "      <td>NaN</td>\n",
              "      <td>1964.0</td>\n",
              "      <td>2.0</td>\n",
              "      <td>R9</td>\n",
              "      <td>460,000</td>\n",
              "      <td>2019-11-05</td>\n",
              "    </tr>\n",
              "    <tr>\n",
              "      <th>15543</th>\n",
              "      <td>1.0</td>\n",
              "      <td>UPPER WEST SIDE (59-79)</td>\n",
              "      <td>17 CONDO COOPS</td>\n",
              "      <td>2</td>\n",
              "      <td>1158.0</td>\n",
              "      <td>1310.0</td>\n",
              "      <td>NaN</td>\n",
              "      <td>R9</td>\n",
              "      <td>140 WEST END AVENUE, 19S</td>\n",
              "      <td>NaN</td>\n",
              "      <td>...</td>\n",
              "      <td>NaN</td>\n",
              "      <td>NaN</td>\n",
              "      <td>NaN</td>\n",
              "      <td>NaN</td>\n",
              "      <td>NaN</td>\n",
              "      <td>1964.0</td>\n",
              "      <td>2.0</td>\n",
              "      <td>R9</td>\n",
              "      <td>429,000</td>\n",
              "      <td>2019-11-19</td>\n",
              "    </tr>\n",
              "    <tr>\n",
              "      <th>...</th>\n",
              "      <td>...</td>\n",
              "      <td>...</td>\n",
              "      <td>...</td>\n",
              "      <td>...</td>\n",
              "      <td>...</td>\n",
              "      <td>...</td>\n",
              "      <td>...</td>\n",
              "      <td>...</td>\n",
              "      <td>...</td>\n",
              "      <td>...</td>\n",
              "      <td>...</td>\n",
              "      <td>...</td>\n",
              "      <td>...</td>\n",
              "      <td>...</td>\n",
              "      <td>...</td>\n",
              "      <td>...</td>\n",
              "      <td>...</td>\n",
              "      <td>...</td>\n",
              "      <td>...</td>\n",
              "      <td>...</td>\n",
              "      <td>...</td>\n",
              "    </tr>\n",
              "    <tr>\n",
              "      <th>17757</th>\n",
              "      <td>NaN</td>\n",
              "      <td>NaN</td>\n",
              "      <td>NaN</td>\n",
              "      <td>NaN</td>\n",
              "      <td>NaN</td>\n",
              "      <td>NaN</td>\n",
              "      <td>NaN</td>\n",
              "      <td>NaN</td>\n",
              "      <td>NaN</td>\n",
              "      <td>NaN</td>\n",
              "      <td>...</td>\n",
              "      <td>NaN</td>\n",
              "      <td>NaN</td>\n",
              "      <td>NaN</td>\n",
              "      <td>NaN</td>\n",
              "      <td>NaN</td>\n",
              "      <td>NaN</td>\n",
              "      <td>NaN</td>\n",
              "      <td>NaN</td>\n",
              "      <td>NaN</td>\n",
              "      <td>NaN</td>\n",
              "    </tr>\n",
              "    <tr>\n",
              "      <th>17758</th>\n",
              "      <td>NaN</td>\n",
              "      <td>NaN</td>\n",
              "      <td>NaN</td>\n",
              "      <td>NaN</td>\n",
              "      <td>NaN</td>\n",
              "      <td>NaN</td>\n",
              "      <td>NaN</td>\n",
              "      <td>NaN</td>\n",
              "      <td>NaN</td>\n",
              "      <td>NaN</td>\n",
              "      <td>...</td>\n",
              "      <td>NaN</td>\n",
              "      <td>NaN</td>\n",
              "      <td>NaN</td>\n",
              "      <td>NaN</td>\n",
              "      <td>NaN</td>\n",
              "      <td>NaN</td>\n",
              "      <td>NaN</td>\n",
              "      <td>NaN</td>\n",
              "      <td>NaN</td>\n",
              "      <td>NaN</td>\n",
              "    </tr>\n",
              "    <tr>\n",
              "      <th>17759</th>\n",
              "      <td>NaN</td>\n",
              "      <td>NaN</td>\n",
              "      <td>NaN</td>\n",
              "      <td>NaN</td>\n",
              "      <td>NaN</td>\n",
              "      <td>NaN</td>\n",
              "      <td>NaN</td>\n",
              "      <td>NaN</td>\n",
              "      <td>NaN</td>\n",
              "      <td>NaN</td>\n",
              "      <td>...</td>\n",
              "      <td>NaN</td>\n",
              "      <td>NaN</td>\n",
              "      <td>NaN</td>\n",
              "      <td>NaN</td>\n",
              "      <td>NaN</td>\n",
              "      <td>NaN</td>\n",
              "      <td>NaN</td>\n",
              "      <td>NaN</td>\n",
              "      <td>NaN</td>\n",
              "      <td>NaN</td>\n",
              "    </tr>\n",
              "    <tr>\n",
              "      <th>17760</th>\n",
              "      <td>NaN</td>\n",
              "      <td>NaN</td>\n",
              "      <td>NaN</td>\n",
              "      <td>NaN</td>\n",
              "      <td>NaN</td>\n",
              "      <td>NaN</td>\n",
              "      <td>NaN</td>\n",
              "      <td>NaN</td>\n",
              "      <td>NaN</td>\n",
              "      <td>NaN</td>\n",
              "      <td>...</td>\n",
              "      <td>NaN</td>\n",
              "      <td>NaN</td>\n",
              "      <td>NaN</td>\n",
              "      <td>NaN</td>\n",
              "      <td>NaN</td>\n",
              "      <td>NaN</td>\n",
              "      <td>NaN</td>\n",
              "      <td>NaN</td>\n",
              "      <td>NaN</td>\n",
              "      <td>NaN</td>\n",
              "    </tr>\n",
              "    <tr>\n",
              "      <th>17761</th>\n",
              "      <td>NaN</td>\n",
              "      <td>NaN</td>\n",
              "      <td>NaN</td>\n",
              "      <td>NaN</td>\n",
              "      <td>NaN</td>\n",
              "      <td>NaN</td>\n",
              "      <td>NaN</td>\n",
              "      <td>NaN</td>\n",
              "      <td>NaN</td>\n",
              "      <td>NaN</td>\n",
              "      <td>...</td>\n",
              "      <td>NaN</td>\n",
              "      <td>NaN</td>\n",
              "      <td>NaN</td>\n",
              "      <td>NaN</td>\n",
              "      <td>NaN</td>\n",
              "      <td>NaN</td>\n",
              "      <td>NaN</td>\n",
              "      <td>NaN</td>\n",
              "      <td>NaN</td>\n",
              "      <td>NaN</td>\n",
              "    </tr>\n",
              "  </tbody>\n",
              "</table>\n",
              "<p>277803 rows × 21 columns</p>\n",
              "</div>\n",
              "      <button class=\"colab-df-convert\" onclick=\"convertToInteractive('df-606d75ef-8bef-46eb-946d-4a903335da0c')\"\n",
              "              title=\"Convert this dataframe to an interactive table.\"\n",
              "              style=\"display:none;\">\n",
              "        \n",
              "  <svg xmlns=\"http://www.w3.org/2000/svg\" height=\"24px\"viewBox=\"0 0 24 24\"\n",
              "       width=\"24px\">\n",
              "    <path d=\"M0 0h24v24H0V0z\" fill=\"none\"/>\n",
              "    <path d=\"M18.56 5.44l.94 2.06.94-2.06 2.06-.94-2.06-.94-.94-2.06-.94 2.06-2.06.94zm-11 1L8.5 8.5l.94-2.06 2.06-.94-2.06-.94L8.5 2.5l-.94 2.06-2.06.94zm10 10l.94 2.06.94-2.06 2.06-.94-2.06-.94-.94-2.06-.94 2.06-2.06.94z\"/><path d=\"M17.41 7.96l-1.37-1.37c-.4-.4-.92-.59-1.43-.59-.52 0-1.04.2-1.43.59L10.3 9.45l-7.72 7.72c-.78.78-.78 2.05 0 2.83L4 21.41c.39.39.9.59 1.41.59.51 0 1.02-.2 1.41-.59l7.78-7.78 2.81-2.81c.8-.78.8-2.07 0-2.86zM5.41 20L4 18.59l7.72-7.72 1.47 1.35L5.41 20z\"/>\n",
              "  </svg>\n",
              "      </button>\n",
              "      \n",
              "  <style>\n",
              "    .colab-df-container {\n",
              "      display:flex;\n",
              "      flex-wrap:wrap;\n",
              "      gap: 12px;\n",
              "    }\n",
              "\n",
              "    .colab-df-convert {\n",
              "      background-color: #E8F0FE;\n",
              "      border: none;\n",
              "      border-radius: 50%;\n",
              "      cursor: pointer;\n",
              "      display: none;\n",
              "      fill: #1967D2;\n",
              "      height: 32px;\n",
              "      padding: 0 0 0 0;\n",
              "      width: 32px;\n",
              "    }\n",
              "\n",
              "    .colab-df-convert:hover {\n",
              "      background-color: #E2EBFA;\n",
              "      box-shadow: 0px 1px 2px rgba(60, 64, 67, 0.3), 0px 1px 3px 1px rgba(60, 64, 67, 0.15);\n",
              "      fill: #174EA6;\n",
              "    }\n",
              "\n",
              "    [theme=dark] .colab-df-convert {\n",
              "      background-color: #3B4455;\n",
              "      fill: #D2E3FC;\n",
              "    }\n",
              "\n",
              "    [theme=dark] .colab-df-convert:hover {\n",
              "      background-color: #434B5C;\n",
              "      box-shadow: 0px 1px 3px 1px rgba(0, 0, 0, 0.15);\n",
              "      filter: drop-shadow(0px 1px 2px rgba(0, 0, 0, 0.3));\n",
              "      fill: #FFFFFF;\n",
              "    }\n",
              "  </style>\n",
              "\n",
              "      <script>\n",
              "        const buttonEl =\n",
              "          document.querySelector('#df-606d75ef-8bef-46eb-946d-4a903335da0c button.colab-df-convert');\n",
              "        buttonEl.style.display =\n",
              "          google.colab.kernel.accessAllowed ? 'block' : 'none';\n",
              "\n",
              "        async function convertToInteractive(key) {\n",
              "          const element = document.querySelector('#df-606d75ef-8bef-46eb-946d-4a903335da0c');\n",
              "          const dataTable =\n",
              "            await google.colab.kernel.invokeFunction('convertToInteractive',\n",
              "                                                     [key], {});\n",
              "          if (!dataTable) return;\n",
              "\n",
              "          const docLinkHtml = 'Like what you see? Visit the ' +\n",
              "            '<a target=\"_blank\" href=https://colab.research.google.com/notebooks/data_table.ipynb>data table notebook</a>'\n",
              "            + ' to learn more about interactive tables.';\n",
              "          element.innerHTML = '';\n",
              "          dataTable['output_type'] = 'display_data';\n",
              "          await google.colab.output.renderOutput(dataTable, element);\n",
              "          const docLink = document.createElement('div');\n",
              "          docLink.innerHTML = docLinkHtml;\n",
              "          element.appendChild(docLink);\n",
              "        }\n",
              "      </script>\n",
              "    </div>\n",
              "  </div>\n",
              "  "
            ]
          },
          "metadata": {},
          "execution_count": 6
        }
      ]
    },
    {
      "cell_type": "code",
      "source": [
        "#reset index\n",
        "data=data.reset_index()\n",
        "data=data.drop(columns=['index'])"
      ],
      "metadata": {
        "id": "uGHb0t2vGcAD"
      },
      "execution_count": 7,
      "outputs": []
    },
    {
      "cell_type": "code",
      "source": [
        "data"
      ],
      "metadata": {
        "id": "Zhk84K0SGFS3",
        "colab": {
          "base_uri": "https://localhost:8080/",
          "height": 0
        },
        "outputId": "10b411c9-729b-4b77-fb46-25f8d25fcb20"
      },
      "execution_count": 8,
      "outputs": [
        {
          "output_type": "execute_result",
          "data": {
            "text/plain": [
              "        BOROUGH              NEIGHBORHOOD BUILDING CLASS CATEGORY  \\\n",
              "0           1.0  WASHINGTON HEIGHTS UPPER        44 CONDO PARKING   \n",
              "1           1.0   UPPER WEST SIDE (59-79)          17 CONDO COOPS   \n",
              "2           1.0   UPPER WEST SIDE (59-79)          17 CONDO COOPS   \n",
              "3           1.0   UPPER WEST SIDE (59-79)          17 CONDO COOPS   \n",
              "4           1.0   UPPER WEST SIDE (59-79)          17 CONDO COOPS   \n",
              "...         ...                       ...                     ...   \n",
              "277798      NaN                       NaN                     NaN   \n",
              "277799      NaN                       NaN                     NaN   \n",
              "277800      NaN                       NaN                     NaN   \n",
              "277801      NaN                       NaN                     NaN   \n",
              "277802      NaN                       NaN                     NaN   \n",
              "\n",
              "       TAX CLASS AT PRESENT   BLOCK     LOT  EASE-MENT  \\\n",
              "0                         4  2180.0  1230.0        NaN   \n",
              "1                         2  1158.0  1310.0        NaN   \n",
              "2                         2  1158.0  1310.0        NaN   \n",
              "3                         2  1158.0  1310.0        NaN   \n",
              "4                         2  1158.0  1310.0        NaN   \n",
              "...                     ...     ...     ...        ...   \n",
              "277798                  NaN     NaN     NaN        NaN   \n",
              "277799                  NaN     NaN     NaN        NaN   \n",
              "277800                  NaN     NaN     NaN        NaN   \n",
              "277801                  NaN     NaN     NaN        NaN   \n",
              "277802                  NaN     NaN     NaN        NaN   \n",
              "\n",
              "       BUILDING CLASS AT PRESENT                     ADDRESS APARTMENT NUMBER  \\\n",
              "0                             RG  736 WEST 187 STREET, PRK30            PRK30   \n",
              "1                             R9    140 WEST END AVENUE, 28E              NaN   \n",
              "2                             R9    140 WEST END AVENUE, 15N              NaN   \n",
              "3                             R9     140 WEST END AVENUE, 8S              NaN   \n",
              "4                             R9    140 WEST END AVENUE, 19S              NaN   \n",
              "...                          ...                         ...              ...   \n",
              "277798                       NaN                         NaN              NaN   \n",
              "277799                       NaN                         NaN              NaN   \n",
              "277800                       NaN                         NaN              NaN   \n",
              "277801                       NaN                         NaN              NaN   \n",
              "277802                       NaN                         NaN              NaN   \n",
              "\n",
              "        ...  RESIDENTIAL UNITS COMMERCIAL UNITS TOTAL UNITS LAND SQUARE FEET  \\\n",
              "0       ...                NaN              1.0           1              NaN   \n",
              "1       ...                NaN              NaN         NaN              NaN   \n",
              "2       ...                NaN              NaN         NaN              NaN   \n",
              "3       ...                NaN              NaN         NaN              NaN   \n",
              "4       ...                NaN              NaN         NaN              NaN   \n",
              "...     ...                ...              ...         ...              ...   \n",
              "277798  ...                NaN              NaN         NaN              NaN   \n",
              "277799  ...                NaN              NaN         NaN              NaN   \n",
              "277800  ...                NaN              NaN         NaN              NaN   \n",
              "277801  ...                NaN              NaN         NaN              NaN   \n",
              "277802  ...                NaN              NaN         NaN              NaN   \n",
              "\n",
              "       GROSS SQUARE FEET YEAR BUILT  TAX CLASS AT TIME OF SALE  \\\n",
              "0                    NaN     2003.0                        4.0   \n",
              "1                    NaN     1964.0                        2.0   \n",
              "2                    NaN     1964.0                        2.0   \n",
              "3                    NaN     1964.0                        2.0   \n",
              "4                    NaN     1964.0                        2.0   \n",
              "...                  ...        ...                        ...   \n",
              "277798               NaN        NaN                        NaN   \n",
              "277799               NaN        NaN                        NaN   \n",
              "277800               NaN        NaN                        NaN   \n",
              "277801               NaN        NaN                        NaN   \n",
              "277802               NaN        NaN                        NaN   \n",
              "\n",
              "        BUILDING CLASS AT TIME OF SALE SALE PRICE   SALE DATE  \n",
              "0                                   RG  1,200,000  2020-12-24  \n",
              "1                                   R9    520,000  2019-01-30  \n",
              "2                                   R9          0  2019-07-31  \n",
              "3                                   R9    460,000  2019-11-05  \n",
              "4                                   R9    429,000  2019-11-19  \n",
              "...                                ...        ...         ...  \n",
              "277798                             NaN        NaN         NaN  \n",
              "277799                             NaN        NaN         NaN  \n",
              "277800                             NaN        NaN         NaN  \n",
              "277801                             NaN        NaN         NaN  \n",
              "277802                             NaN        NaN         NaN  \n",
              "\n",
              "[277803 rows x 21 columns]"
            ],
            "text/html": [
              "\n",
              "  <div id=\"df-965e5cef-55de-4dd8-9a3c-f87eacdf0439\">\n",
              "    <div class=\"colab-df-container\">\n",
              "      <div>\n",
              "<style scoped>\n",
              "    .dataframe tbody tr th:only-of-type {\n",
              "        vertical-align: middle;\n",
              "    }\n",
              "\n",
              "    .dataframe tbody tr th {\n",
              "        vertical-align: top;\n",
              "    }\n",
              "\n",
              "    .dataframe thead th {\n",
              "        text-align: right;\n",
              "    }\n",
              "</style>\n",
              "<table border=\"1\" class=\"dataframe\">\n",
              "  <thead>\n",
              "    <tr style=\"text-align: right;\">\n",
              "      <th></th>\n",
              "      <th>BOROUGH</th>\n",
              "      <th>NEIGHBORHOOD</th>\n",
              "      <th>BUILDING CLASS CATEGORY</th>\n",
              "      <th>TAX CLASS AT PRESENT</th>\n",
              "      <th>BLOCK</th>\n",
              "      <th>LOT</th>\n",
              "      <th>EASE-MENT</th>\n",
              "      <th>BUILDING CLASS AT PRESENT</th>\n",
              "      <th>ADDRESS</th>\n",
              "      <th>APARTMENT NUMBER</th>\n",
              "      <th>...</th>\n",
              "      <th>RESIDENTIAL UNITS</th>\n",
              "      <th>COMMERCIAL UNITS</th>\n",
              "      <th>TOTAL UNITS</th>\n",
              "      <th>LAND SQUARE FEET</th>\n",
              "      <th>GROSS SQUARE FEET</th>\n",
              "      <th>YEAR BUILT</th>\n",
              "      <th>TAX CLASS AT TIME OF SALE</th>\n",
              "      <th>BUILDING CLASS AT TIME OF SALE</th>\n",
              "      <th>SALE PRICE</th>\n",
              "      <th>SALE DATE</th>\n",
              "    </tr>\n",
              "  </thead>\n",
              "  <tbody>\n",
              "    <tr>\n",
              "      <th>0</th>\n",
              "      <td>1.0</td>\n",
              "      <td>WASHINGTON HEIGHTS UPPER</td>\n",
              "      <td>44 CONDO PARKING</td>\n",
              "      <td>4</td>\n",
              "      <td>2180.0</td>\n",
              "      <td>1230.0</td>\n",
              "      <td>NaN</td>\n",
              "      <td>RG</td>\n",
              "      <td>736 WEST 187 STREET, PRK30</td>\n",
              "      <td>PRK30</td>\n",
              "      <td>...</td>\n",
              "      <td>NaN</td>\n",
              "      <td>1.0</td>\n",
              "      <td>1</td>\n",
              "      <td>NaN</td>\n",
              "      <td>NaN</td>\n",
              "      <td>2003.0</td>\n",
              "      <td>4.0</td>\n",
              "      <td>RG</td>\n",
              "      <td>1,200,000</td>\n",
              "      <td>2020-12-24</td>\n",
              "    </tr>\n",
              "    <tr>\n",
              "      <th>1</th>\n",
              "      <td>1.0</td>\n",
              "      <td>UPPER WEST SIDE (59-79)</td>\n",
              "      <td>17 CONDO COOPS</td>\n",
              "      <td>2</td>\n",
              "      <td>1158.0</td>\n",
              "      <td>1310.0</td>\n",
              "      <td>NaN</td>\n",
              "      <td>R9</td>\n",
              "      <td>140 WEST END AVENUE, 28E</td>\n",
              "      <td>NaN</td>\n",
              "      <td>...</td>\n",
              "      <td>NaN</td>\n",
              "      <td>NaN</td>\n",
              "      <td>NaN</td>\n",
              "      <td>NaN</td>\n",
              "      <td>NaN</td>\n",
              "      <td>1964.0</td>\n",
              "      <td>2.0</td>\n",
              "      <td>R9</td>\n",
              "      <td>520,000</td>\n",
              "      <td>2019-01-30</td>\n",
              "    </tr>\n",
              "    <tr>\n",
              "      <th>2</th>\n",
              "      <td>1.0</td>\n",
              "      <td>UPPER WEST SIDE (59-79)</td>\n",
              "      <td>17 CONDO COOPS</td>\n",
              "      <td>2</td>\n",
              "      <td>1158.0</td>\n",
              "      <td>1310.0</td>\n",
              "      <td>NaN</td>\n",
              "      <td>R9</td>\n",
              "      <td>140 WEST END AVENUE, 15N</td>\n",
              "      <td>NaN</td>\n",
              "      <td>...</td>\n",
              "      <td>NaN</td>\n",
              "      <td>NaN</td>\n",
              "      <td>NaN</td>\n",
              "      <td>NaN</td>\n",
              "      <td>NaN</td>\n",
              "      <td>1964.0</td>\n",
              "      <td>2.0</td>\n",
              "      <td>R9</td>\n",
              "      <td>0</td>\n",
              "      <td>2019-07-31</td>\n",
              "    </tr>\n",
              "    <tr>\n",
              "      <th>3</th>\n",
              "      <td>1.0</td>\n",
              "      <td>UPPER WEST SIDE (59-79)</td>\n",
              "      <td>17 CONDO COOPS</td>\n",
              "      <td>2</td>\n",
              "      <td>1158.0</td>\n",
              "      <td>1310.0</td>\n",
              "      <td>NaN</td>\n",
              "      <td>R9</td>\n",
              "      <td>140 WEST END AVENUE, 8S</td>\n",
              "      <td>NaN</td>\n",
              "      <td>...</td>\n",
              "      <td>NaN</td>\n",
              "      <td>NaN</td>\n",
              "      <td>NaN</td>\n",
              "      <td>NaN</td>\n",
              "      <td>NaN</td>\n",
              "      <td>1964.0</td>\n",
              "      <td>2.0</td>\n",
              "      <td>R9</td>\n",
              "      <td>460,000</td>\n",
              "      <td>2019-11-05</td>\n",
              "    </tr>\n",
              "    <tr>\n",
              "      <th>4</th>\n",
              "      <td>1.0</td>\n",
              "      <td>UPPER WEST SIDE (59-79)</td>\n",
              "      <td>17 CONDO COOPS</td>\n",
              "      <td>2</td>\n",
              "      <td>1158.0</td>\n",
              "      <td>1310.0</td>\n",
              "      <td>NaN</td>\n",
              "      <td>R9</td>\n",
              "      <td>140 WEST END AVENUE, 19S</td>\n",
              "      <td>NaN</td>\n",
              "      <td>...</td>\n",
              "      <td>NaN</td>\n",
              "      <td>NaN</td>\n",
              "      <td>NaN</td>\n",
              "      <td>NaN</td>\n",
              "      <td>NaN</td>\n",
              "      <td>1964.0</td>\n",
              "      <td>2.0</td>\n",
              "      <td>R9</td>\n",
              "      <td>429,000</td>\n",
              "      <td>2019-11-19</td>\n",
              "    </tr>\n",
              "    <tr>\n",
              "      <th>...</th>\n",
              "      <td>...</td>\n",
              "      <td>...</td>\n",
              "      <td>...</td>\n",
              "      <td>...</td>\n",
              "      <td>...</td>\n",
              "      <td>...</td>\n",
              "      <td>...</td>\n",
              "      <td>...</td>\n",
              "      <td>...</td>\n",
              "      <td>...</td>\n",
              "      <td>...</td>\n",
              "      <td>...</td>\n",
              "      <td>...</td>\n",
              "      <td>...</td>\n",
              "      <td>...</td>\n",
              "      <td>...</td>\n",
              "      <td>...</td>\n",
              "      <td>...</td>\n",
              "      <td>...</td>\n",
              "      <td>...</td>\n",
              "      <td>...</td>\n",
              "    </tr>\n",
              "    <tr>\n",
              "      <th>277798</th>\n",
              "      <td>NaN</td>\n",
              "      <td>NaN</td>\n",
              "      <td>NaN</td>\n",
              "      <td>NaN</td>\n",
              "      <td>NaN</td>\n",
              "      <td>NaN</td>\n",
              "      <td>NaN</td>\n",
              "      <td>NaN</td>\n",
              "      <td>NaN</td>\n",
              "      <td>NaN</td>\n",
              "      <td>...</td>\n",
              "      <td>NaN</td>\n",
              "      <td>NaN</td>\n",
              "      <td>NaN</td>\n",
              "      <td>NaN</td>\n",
              "      <td>NaN</td>\n",
              "      <td>NaN</td>\n",
              "      <td>NaN</td>\n",
              "      <td>NaN</td>\n",
              "      <td>NaN</td>\n",
              "      <td>NaN</td>\n",
              "    </tr>\n",
              "    <tr>\n",
              "      <th>277799</th>\n",
              "      <td>NaN</td>\n",
              "      <td>NaN</td>\n",
              "      <td>NaN</td>\n",
              "      <td>NaN</td>\n",
              "      <td>NaN</td>\n",
              "      <td>NaN</td>\n",
              "      <td>NaN</td>\n",
              "      <td>NaN</td>\n",
              "      <td>NaN</td>\n",
              "      <td>NaN</td>\n",
              "      <td>...</td>\n",
              "      <td>NaN</td>\n",
              "      <td>NaN</td>\n",
              "      <td>NaN</td>\n",
              "      <td>NaN</td>\n",
              "      <td>NaN</td>\n",
              "      <td>NaN</td>\n",
              "      <td>NaN</td>\n",
              "      <td>NaN</td>\n",
              "      <td>NaN</td>\n",
              "      <td>NaN</td>\n",
              "    </tr>\n",
              "    <tr>\n",
              "      <th>277800</th>\n",
              "      <td>NaN</td>\n",
              "      <td>NaN</td>\n",
              "      <td>NaN</td>\n",
              "      <td>NaN</td>\n",
              "      <td>NaN</td>\n",
              "      <td>NaN</td>\n",
              "      <td>NaN</td>\n",
              "      <td>NaN</td>\n",
              "      <td>NaN</td>\n",
              "      <td>NaN</td>\n",
              "      <td>...</td>\n",
              "      <td>NaN</td>\n",
              "      <td>NaN</td>\n",
              "      <td>NaN</td>\n",
              "      <td>NaN</td>\n",
              "      <td>NaN</td>\n",
              "      <td>NaN</td>\n",
              "      <td>NaN</td>\n",
              "      <td>NaN</td>\n",
              "      <td>NaN</td>\n",
              "      <td>NaN</td>\n",
              "    </tr>\n",
              "    <tr>\n",
              "      <th>277801</th>\n",
              "      <td>NaN</td>\n",
              "      <td>NaN</td>\n",
              "      <td>NaN</td>\n",
              "      <td>NaN</td>\n",
              "      <td>NaN</td>\n",
              "      <td>NaN</td>\n",
              "      <td>NaN</td>\n",
              "      <td>NaN</td>\n",
              "      <td>NaN</td>\n",
              "      <td>NaN</td>\n",
              "      <td>...</td>\n",
              "      <td>NaN</td>\n",
              "      <td>NaN</td>\n",
              "      <td>NaN</td>\n",
              "      <td>NaN</td>\n",
              "      <td>NaN</td>\n",
              "      <td>NaN</td>\n",
              "      <td>NaN</td>\n",
              "      <td>NaN</td>\n",
              "      <td>NaN</td>\n",
              "      <td>NaN</td>\n",
              "    </tr>\n",
              "    <tr>\n",
              "      <th>277802</th>\n",
              "      <td>NaN</td>\n",
              "      <td>NaN</td>\n",
              "      <td>NaN</td>\n",
              "      <td>NaN</td>\n",
              "      <td>NaN</td>\n",
              "      <td>NaN</td>\n",
              "      <td>NaN</td>\n",
              "      <td>NaN</td>\n",
              "      <td>NaN</td>\n",
              "      <td>NaN</td>\n",
              "      <td>...</td>\n",
              "      <td>NaN</td>\n",
              "      <td>NaN</td>\n",
              "      <td>NaN</td>\n",
              "      <td>NaN</td>\n",
              "      <td>NaN</td>\n",
              "      <td>NaN</td>\n",
              "      <td>NaN</td>\n",
              "      <td>NaN</td>\n",
              "      <td>NaN</td>\n",
              "      <td>NaN</td>\n",
              "    </tr>\n",
              "  </tbody>\n",
              "</table>\n",
              "<p>277803 rows × 21 columns</p>\n",
              "</div>\n",
              "      <button class=\"colab-df-convert\" onclick=\"convertToInteractive('df-965e5cef-55de-4dd8-9a3c-f87eacdf0439')\"\n",
              "              title=\"Convert this dataframe to an interactive table.\"\n",
              "              style=\"display:none;\">\n",
              "        \n",
              "  <svg xmlns=\"http://www.w3.org/2000/svg\" height=\"24px\"viewBox=\"0 0 24 24\"\n",
              "       width=\"24px\">\n",
              "    <path d=\"M0 0h24v24H0V0z\" fill=\"none\"/>\n",
              "    <path d=\"M18.56 5.44l.94 2.06.94-2.06 2.06-.94-2.06-.94-.94-2.06-.94 2.06-2.06.94zm-11 1L8.5 8.5l.94-2.06 2.06-.94-2.06-.94L8.5 2.5l-.94 2.06-2.06.94zm10 10l.94 2.06.94-2.06 2.06-.94-2.06-.94-.94-2.06-.94 2.06-2.06.94z\"/><path d=\"M17.41 7.96l-1.37-1.37c-.4-.4-.92-.59-1.43-.59-.52 0-1.04.2-1.43.59L10.3 9.45l-7.72 7.72c-.78.78-.78 2.05 0 2.83L4 21.41c.39.39.9.59 1.41.59.51 0 1.02-.2 1.41-.59l7.78-7.78 2.81-2.81c.8-.78.8-2.07 0-2.86zM5.41 20L4 18.59l7.72-7.72 1.47 1.35L5.41 20z\"/>\n",
              "  </svg>\n",
              "      </button>\n",
              "      \n",
              "  <style>\n",
              "    .colab-df-container {\n",
              "      display:flex;\n",
              "      flex-wrap:wrap;\n",
              "      gap: 12px;\n",
              "    }\n",
              "\n",
              "    .colab-df-convert {\n",
              "      background-color: #E8F0FE;\n",
              "      border: none;\n",
              "      border-radius: 50%;\n",
              "      cursor: pointer;\n",
              "      display: none;\n",
              "      fill: #1967D2;\n",
              "      height: 32px;\n",
              "      padding: 0 0 0 0;\n",
              "      width: 32px;\n",
              "    }\n",
              "\n",
              "    .colab-df-convert:hover {\n",
              "      background-color: #E2EBFA;\n",
              "      box-shadow: 0px 1px 2px rgba(60, 64, 67, 0.3), 0px 1px 3px 1px rgba(60, 64, 67, 0.15);\n",
              "      fill: #174EA6;\n",
              "    }\n",
              "\n",
              "    [theme=dark] .colab-df-convert {\n",
              "      background-color: #3B4455;\n",
              "      fill: #D2E3FC;\n",
              "    }\n",
              "\n",
              "    [theme=dark] .colab-df-convert:hover {\n",
              "      background-color: #434B5C;\n",
              "      box-shadow: 0px 1px 3px 1px rgba(0, 0, 0, 0.15);\n",
              "      filter: drop-shadow(0px 1px 2px rgba(0, 0, 0, 0.3));\n",
              "      fill: #FFFFFF;\n",
              "    }\n",
              "  </style>\n",
              "\n",
              "      <script>\n",
              "        const buttonEl =\n",
              "          document.querySelector('#df-965e5cef-55de-4dd8-9a3c-f87eacdf0439 button.colab-df-convert');\n",
              "        buttonEl.style.display =\n",
              "          google.colab.kernel.accessAllowed ? 'block' : 'none';\n",
              "\n",
              "        async function convertToInteractive(key) {\n",
              "          const element = document.querySelector('#df-965e5cef-55de-4dd8-9a3c-f87eacdf0439');\n",
              "          const dataTable =\n",
              "            await google.colab.kernel.invokeFunction('convertToInteractive',\n",
              "                                                     [key], {});\n",
              "          if (!dataTable) return;\n",
              "\n",
              "          const docLinkHtml = 'Like what you see? Visit the ' +\n",
              "            '<a target=\"_blank\" href=https://colab.research.google.com/notebooks/data_table.ipynb>data table notebook</a>'\n",
              "            + ' to learn more about interactive tables.';\n",
              "          element.innerHTML = '';\n",
              "          dataTable['output_type'] = 'display_data';\n",
              "          await google.colab.output.renderOutput(dataTable, element);\n",
              "          const docLink = document.createElement('div');\n",
              "          docLink.innerHTML = docLinkHtml;\n",
              "          element.appendChild(docLink);\n",
              "        }\n",
              "      </script>\n",
              "    </div>\n",
              "  </div>\n",
              "  "
            ]
          },
          "metadata": {},
          "execution_count": 8
        }
      ]
    },
    {
      "cell_type": "code",
      "source": [
        "#check data infro\n",
        "data.info()"
      ],
      "metadata": {
        "id": "w4xUL4H6ViSa",
        "colab": {
          "base_uri": "https://localhost:8080/"
        },
        "outputId": "4e7cbc0a-bc64-4873-a3ab-87fa38ef02db"
      },
      "execution_count": 9,
      "outputs": [
        {
          "output_type": "stream",
          "name": "stdout",
          "text": [
            "<class 'pandas.core.frame.DataFrame'>\n",
            "RangeIndex: 277803 entries, 0 to 277802\n",
            "Data columns (total 21 columns):\n",
            " #   Column                          Non-Null Count   Dtype  \n",
            "---  ------                          --------------   -----  \n",
            " 0   BOROUGH                         230659 non-null  float64\n",
            " 1   NEIGHBORHOOD                    230659 non-null  object \n",
            " 2   BUILDING CLASS CATEGORY         230659 non-null  object \n",
            " 3   TAX CLASS AT PRESENT            230386 non-null  object \n",
            " 4   BLOCK                           230659 non-null  float64\n",
            " 5   LOT                             230659 non-null  float64\n",
            " 6   EASE-MENT                       0 non-null       float64\n",
            " 7   BUILDING CLASS AT PRESENT       230386 non-null  object \n",
            " 8   ADDRESS                         230659 non-null  object \n",
            " 9   APARTMENT NUMBER                50782 non-null   object \n",
            " 10  ZIP CODE                        230642 non-null  float64\n",
            " 11  RESIDENTIAL UNITS               199734 non-null  object \n",
            " 12  COMMERCIAL UNITS                189268 non-null  object \n",
            " 13  TOTAL UNITS                     201363 non-null  object \n",
            " 14  LAND SQUARE FEET                187638 non-null  object \n",
            " 15  GROSS SQUARE FEET               187639 non-null  object \n",
            " 16  YEAR BUILT                      220373 non-null  float64\n",
            " 17  TAX CLASS AT TIME OF SALE       230659 non-null  float64\n",
            " 18  BUILDING CLASS AT TIME OF SALE  230659 non-null  object \n",
            " 19  SALE PRICE                      230659 non-null  object \n",
            " 20  SALE DATE                       230659 non-null  object \n",
            "dtypes: float64(7), object(14)\n",
            "memory usage: 44.5+ MB\n"
          ]
        }
      ]
    },
    {
      "cell_type": "code",
      "source": [
        "#describe the data\n",
        "data.describe()"
      ],
      "metadata": {
        "id": "bE-AfQSvVn3J",
        "colab": {
          "base_uri": "https://localhost:8080/",
          "height": 0
        },
        "outputId": "43c9eac2-629c-4a39-c52e-2d23a5cb1688"
      },
      "execution_count": 10,
      "outputs": [
        {
          "output_type": "execute_result",
          "data": {
            "text/plain": [
              "             BOROUGH          BLOCK            LOT  EASE-MENT       ZIP CODE  \\\n",
              "count  230659.000000  230659.000000  230659.000000        0.0  230642.000000   \n",
              "mean        3.019045    4422.239262     357.502035        NaN   10844.556651   \n",
              "std         1.274595    3655.509089     653.040020        NaN     725.670609   \n",
              "min         1.000000       1.000000       1.000000        NaN       0.000000   \n",
              "25%         2.000000    1366.000000      22.000000        NaN   10307.000000   \n",
              "50%         3.000000    3558.000000      49.000000        NaN   11210.000000   \n",
              "75%         4.000000    6574.000000     316.000000        NaN   11358.000000   \n",
              "max         5.000000   16350.000000    9116.000000        NaN   11697.000000   \n",
              "\n",
              "          YEAR BUILT  TAX CLASS AT TIME OF SALE  \n",
              "count  220373.000000              230659.000000  \n",
              "mean     1892.753795                   1.619104  \n",
              "std       332.153910                   0.801899  \n",
              "min         0.000000                   1.000000  \n",
              "25%      1921.000000                   1.000000  \n",
              "50%      1941.000000                   1.000000  \n",
              "75%      1970.000000                   2.000000  \n",
              "max      2021.000000                   4.000000  "
            ],
            "text/html": [
              "\n",
              "  <div id=\"df-daf0a433-0063-43d1-b215-6a6b0599f0e2\">\n",
              "    <div class=\"colab-df-container\">\n",
              "      <div>\n",
              "<style scoped>\n",
              "    .dataframe tbody tr th:only-of-type {\n",
              "        vertical-align: middle;\n",
              "    }\n",
              "\n",
              "    .dataframe tbody tr th {\n",
              "        vertical-align: top;\n",
              "    }\n",
              "\n",
              "    .dataframe thead th {\n",
              "        text-align: right;\n",
              "    }\n",
              "</style>\n",
              "<table border=\"1\" class=\"dataframe\">\n",
              "  <thead>\n",
              "    <tr style=\"text-align: right;\">\n",
              "      <th></th>\n",
              "      <th>BOROUGH</th>\n",
              "      <th>BLOCK</th>\n",
              "      <th>LOT</th>\n",
              "      <th>EASE-MENT</th>\n",
              "      <th>ZIP CODE</th>\n",
              "      <th>YEAR BUILT</th>\n",
              "      <th>TAX CLASS AT TIME OF SALE</th>\n",
              "    </tr>\n",
              "  </thead>\n",
              "  <tbody>\n",
              "    <tr>\n",
              "      <th>count</th>\n",
              "      <td>230659.000000</td>\n",
              "      <td>230659.000000</td>\n",
              "      <td>230659.000000</td>\n",
              "      <td>0.0</td>\n",
              "      <td>230642.000000</td>\n",
              "      <td>220373.000000</td>\n",
              "      <td>230659.000000</td>\n",
              "    </tr>\n",
              "    <tr>\n",
              "      <th>mean</th>\n",
              "      <td>3.019045</td>\n",
              "      <td>4422.239262</td>\n",
              "      <td>357.502035</td>\n",
              "      <td>NaN</td>\n",
              "      <td>10844.556651</td>\n",
              "      <td>1892.753795</td>\n",
              "      <td>1.619104</td>\n",
              "    </tr>\n",
              "    <tr>\n",
              "      <th>std</th>\n",
              "      <td>1.274595</td>\n",
              "      <td>3655.509089</td>\n",
              "      <td>653.040020</td>\n",
              "      <td>NaN</td>\n",
              "      <td>725.670609</td>\n",
              "      <td>332.153910</td>\n",
              "      <td>0.801899</td>\n",
              "    </tr>\n",
              "    <tr>\n",
              "      <th>min</th>\n",
              "      <td>1.000000</td>\n",
              "      <td>1.000000</td>\n",
              "      <td>1.000000</td>\n",
              "      <td>NaN</td>\n",
              "      <td>0.000000</td>\n",
              "      <td>0.000000</td>\n",
              "      <td>1.000000</td>\n",
              "    </tr>\n",
              "    <tr>\n",
              "      <th>25%</th>\n",
              "      <td>2.000000</td>\n",
              "      <td>1366.000000</td>\n",
              "      <td>22.000000</td>\n",
              "      <td>NaN</td>\n",
              "      <td>10307.000000</td>\n",
              "      <td>1921.000000</td>\n",
              "      <td>1.000000</td>\n",
              "    </tr>\n",
              "    <tr>\n",
              "      <th>50%</th>\n",
              "      <td>3.000000</td>\n",
              "      <td>3558.000000</td>\n",
              "      <td>49.000000</td>\n",
              "      <td>NaN</td>\n",
              "      <td>11210.000000</td>\n",
              "      <td>1941.000000</td>\n",
              "      <td>1.000000</td>\n",
              "    </tr>\n",
              "    <tr>\n",
              "      <th>75%</th>\n",
              "      <td>4.000000</td>\n",
              "      <td>6574.000000</td>\n",
              "      <td>316.000000</td>\n",
              "      <td>NaN</td>\n",
              "      <td>11358.000000</td>\n",
              "      <td>1970.000000</td>\n",
              "      <td>2.000000</td>\n",
              "    </tr>\n",
              "    <tr>\n",
              "      <th>max</th>\n",
              "      <td>5.000000</td>\n",
              "      <td>16350.000000</td>\n",
              "      <td>9116.000000</td>\n",
              "      <td>NaN</td>\n",
              "      <td>11697.000000</td>\n",
              "      <td>2021.000000</td>\n",
              "      <td>4.000000</td>\n",
              "    </tr>\n",
              "  </tbody>\n",
              "</table>\n",
              "</div>\n",
              "      <button class=\"colab-df-convert\" onclick=\"convertToInteractive('df-daf0a433-0063-43d1-b215-6a6b0599f0e2')\"\n",
              "              title=\"Convert this dataframe to an interactive table.\"\n",
              "              style=\"display:none;\">\n",
              "        \n",
              "  <svg xmlns=\"http://www.w3.org/2000/svg\" height=\"24px\"viewBox=\"0 0 24 24\"\n",
              "       width=\"24px\">\n",
              "    <path d=\"M0 0h24v24H0V0z\" fill=\"none\"/>\n",
              "    <path d=\"M18.56 5.44l.94 2.06.94-2.06 2.06-.94-2.06-.94-.94-2.06-.94 2.06-2.06.94zm-11 1L8.5 8.5l.94-2.06 2.06-.94-2.06-.94L8.5 2.5l-.94 2.06-2.06.94zm10 10l.94 2.06.94-2.06 2.06-.94-2.06-.94-.94-2.06-.94 2.06-2.06.94z\"/><path d=\"M17.41 7.96l-1.37-1.37c-.4-.4-.92-.59-1.43-.59-.52 0-1.04.2-1.43.59L10.3 9.45l-7.72 7.72c-.78.78-.78 2.05 0 2.83L4 21.41c.39.39.9.59 1.41.59.51 0 1.02-.2 1.41-.59l7.78-7.78 2.81-2.81c.8-.78.8-2.07 0-2.86zM5.41 20L4 18.59l7.72-7.72 1.47 1.35L5.41 20z\"/>\n",
              "  </svg>\n",
              "      </button>\n",
              "      \n",
              "  <style>\n",
              "    .colab-df-container {\n",
              "      display:flex;\n",
              "      flex-wrap:wrap;\n",
              "      gap: 12px;\n",
              "    }\n",
              "\n",
              "    .colab-df-convert {\n",
              "      background-color: #E8F0FE;\n",
              "      border: none;\n",
              "      border-radius: 50%;\n",
              "      cursor: pointer;\n",
              "      display: none;\n",
              "      fill: #1967D2;\n",
              "      height: 32px;\n",
              "      padding: 0 0 0 0;\n",
              "      width: 32px;\n",
              "    }\n",
              "\n",
              "    .colab-df-convert:hover {\n",
              "      background-color: #E2EBFA;\n",
              "      box-shadow: 0px 1px 2px rgba(60, 64, 67, 0.3), 0px 1px 3px 1px rgba(60, 64, 67, 0.15);\n",
              "      fill: #174EA6;\n",
              "    }\n",
              "\n",
              "    [theme=dark] .colab-df-convert {\n",
              "      background-color: #3B4455;\n",
              "      fill: #D2E3FC;\n",
              "    }\n",
              "\n",
              "    [theme=dark] .colab-df-convert:hover {\n",
              "      background-color: #434B5C;\n",
              "      box-shadow: 0px 1px 3px 1px rgba(0, 0, 0, 0.15);\n",
              "      filter: drop-shadow(0px 1px 2px rgba(0, 0, 0, 0.3));\n",
              "      fill: #FFFFFF;\n",
              "    }\n",
              "  </style>\n",
              "\n",
              "      <script>\n",
              "        const buttonEl =\n",
              "          document.querySelector('#df-daf0a433-0063-43d1-b215-6a6b0599f0e2 button.colab-df-convert');\n",
              "        buttonEl.style.display =\n",
              "          google.colab.kernel.accessAllowed ? 'block' : 'none';\n",
              "\n",
              "        async function convertToInteractive(key) {\n",
              "          const element = document.querySelector('#df-daf0a433-0063-43d1-b215-6a6b0599f0e2');\n",
              "          const dataTable =\n",
              "            await google.colab.kernel.invokeFunction('convertToInteractive',\n",
              "                                                     [key], {});\n",
              "          if (!dataTable) return;\n",
              "\n",
              "          const docLinkHtml = 'Like what you see? Visit the ' +\n",
              "            '<a target=\"_blank\" href=https://colab.research.google.com/notebooks/data_table.ipynb>data table notebook</a>'\n",
              "            + ' to learn more about interactive tables.';\n",
              "          element.innerHTML = '';\n",
              "          dataTable['output_type'] = 'display_data';\n",
              "          await google.colab.output.renderOutput(dataTable, element);\n",
              "          const docLink = document.createElement('div');\n",
              "          docLink.innerHTML = docLinkHtml;\n",
              "          element.appendChild(docLink);\n",
              "        }\n",
              "      </script>\n",
              "    </div>\n",
              "  </div>\n",
              "  "
            ]
          },
          "metadata": {},
          "execution_count": 10
        }
      ]
    },
    {
      "cell_type": "code",
      "source": [
        "#check duplicate\n",
        "data.duplicated().sum()"
      ],
      "metadata": {
        "id": "Se5ziWSAV39E",
        "colab": {
          "base_uri": "https://localhost:8080/"
        },
        "outputId": "fe3118fb-ad4a-412b-ad52-55d1ee821691"
      },
      "execution_count": 11,
      "outputs": [
        {
          "output_type": "execute_result",
          "data": {
            "text/plain": [
              "47910"
            ]
          },
          "metadata": {},
          "execution_count": 11
        }
      ]
    },
    {
      "cell_type": "code",
      "source": [
        "#drop duplicates\n",
        "data.drop_duplicates(inplace=True)"
      ],
      "metadata": {
        "id": "ZC0KpoxFX7Rj"
      },
      "execution_count": 12,
      "outputs": []
    },
    {
      "cell_type": "code",
      "source": [
        "#check nulls\n",
        "data.isnull().sum()"
      ],
      "metadata": {
        "id": "RVEIzPySW9zi",
        "colab": {
          "base_uri": "https://localhost:8080/"
        },
        "outputId": "9b79f233-8809-42f2-cb1c-65353ef8c972"
      },
      "execution_count": 13,
      "outputs": [
        {
          "output_type": "execute_result",
          "data": {
            "text/plain": [
              "BOROUGH                                1\n",
              "NEIGHBORHOOD                           1\n",
              "BUILDING CLASS CATEGORY                1\n",
              "TAX CLASS AT PRESENT                 274\n",
              "BLOCK                                  1\n",
              "LOT                                    1\n",
              "EASE-MENT                         229893\n",
              "BUILDING CLASS AT PRESENT            274\n",
              "ADDRESS                                1\n",
              "APARTMENT NUMBER                  179274\n",
              "ZIP CODE                              18\n",
              "RESIDENTIAL UNITS                  30879\n",
              "COMMERCIAL UNITS                   41336\n",
              "TOTAL UNITS                        29250\n",
              "LAND SQUARE FEET                   42966\n",
              "GROSS SQUARE FEET                  42965\n",
              "YEAR BUILT                         10276\n",
              "TAX CLASS AT TIME OF SALE              1\n",
              "BUILDING CLASS AT TIME OF SALE         1\n",
              "SALE PRICE                             1\n",
              "SALE DATE                              1\n",
              "dtype: int64"
            ]
          },
          "metadata": {},
          "execution_count": 13
        }
      ]
    },
    {
      "cell_type": "code",
      "source": [
        "#check nulls percentage of each column\n",
        "data.isnull().sum()* 100 / len(data)"
      ],
      "metadata": {
        "id": "MUsnUPT4YbyS",
        "colab": {
          "base_uri": "https://localhost:8080/"
        },
        "outputId": "1a188126-8bbd-4105-cd9f-d32e013d2e8f"
      },
      "execution_count": 14,
      "outputs": [
        {
          "output_type": "execute_result",
          "data": {
            "text/plain": [
              "BOROUGH                             0.000435\n",
              "NEIGHBORHOOD                        0.000435\n",
              "BUILDING CLASS CATEGORY             0.000435\n",
              "TAX CLASS AT PRESENT                0.119186\n",
              "BLOCK                               0.000435\n",
              "LOT                                 0.000435\n",
              "EASE-MENT                         100.000000\n",
              "BUILDING CLASS AT PRESENT           0.119186\n",
              "ADDRESS                             0.000435\n",
              "APARTMENT NUMBER                   77.981496\n",
              "ZIP CODE                            0.007830\n",
              "RESIDENTIAL UNITS                  13.431901\n",
              "COMMERCIAL UNITS                   17.980539\n",
              "TOTAL UNITS                        12.723310\n",
              "LAND SQUARE FEET                   18.689564\n",
              "GROSS SQUARE FEET                  18.689129\n",
              "YEAR BUILT                          4.469906\n",
              "TAX CLASS AT TIME OF SALE           0.000435\n",
              "BUILDING CLASS AT TIME OF SALE      0.000435\n",
              "SALE PRICE                          0.000435\n",
              "SALE DATE                           0.000435\n",
              "dtype: float64"
            ]
          },
          "metadata": {},
          "execution_count": 14
        }
      ]
    },
    {
      "cell_type": "code",
      "source": [
        "#drop rows that full of nulls\n",
        "data.dropna(axis = 0, how = 'all', inplace = True)"
      ],
      "metadata": {
        "id": "D1q3CyGRnUzT"
      },
      "execution_count": 15,
      "outputs": []
    },
    {
      "cell_type": "code",
      "source": [
        "#check data nulls again\n",
        "data.isnull().sum()"
      ],
      "metadata": {
        "id": "c_3iMCeOndig",
        "colab": {
          "base_uri": "https://localhost:8080/"
        },
        "outputId": "c5475575-50c2-43b9-87ec-27b5d27a3851"
      },
      "execution_count": 16,
      "outputs": [
        {
          "output_type": "execute_result",
          "data": {
            "text/plain": [
              "BOROUGH                                0\n",
              "NEIGHBORHOOD                           0\n",
              "BUILDING CLASS CATEGORY                0\n",
              "TAX CLASS AT PRESENT                 273\n",
              "BLOCK                                  0\n",
              "LOT                                    0\n",
              "EASE-MENT                         229892\n",
              "BUILDING CLASS AT PRESENT            273\n",
              "ADDRESS                                0\n",
              "APARTMENT NUMBER                  179273\n",
              "ZIP CODE                              17\n",
              "RESIDENTIAL UNITS                  30878\n",
              "COMMERCIAL UNITS                   41335\n",
              "TOTAL UNITS                        29249\n",
              "LAND SQUARE FEET                   42965\n",
              "GROSS SQUARE FEET                  42964\n",
              "YEAR BUILT                         10275\n",
              "TAX CLASS AT TIME OF SALE              0\n",
              "BUILDING CLASS AT TIME OF SALE         0\n",
              "SALE PRICE                             0\n",
              "SALE DATE                              0\n",
              "dtype: int64"
            ]
          },
          "metadata": {},
          "execution_count": 16
        }
      ]
    },
    {
      "cell_type": "code",
      "source": [
        "msno.matrix(data)"
      ],
      "metadata": {
        "id": "5sMAgCGFYI8t",
        "colab": {
          "base_uri": "https://localhost:8080/",
          "height": 0
        },
        "outputId": "755b215d-b3cd-44c5-9282-f4f57edd182d"
      },
      "execution_count": 17,
      "outputs": [
        {
          "output_type": "execute_result",
          "data": {
            "text/plain": [
              "<matplotlib.axes._subplots.AxesSubplot at 0x7f19a1075e10>"
            ]
          },
          "metadata": {},
          "execution_count": 17
        },
        {
          "output_type": "display_data",
          "data": {
            "text/plain": [
              "<Figure size 1800x720 with 2 Axes>"
            ],
            "image/png": "[encoded data removed]"
          },
          "metadata": {
            "needs_background": "light"
          }
        }
      ]
    },
    {
      "cell_type": "code",
      "source": [
        "msno.heatmap(data)"
      ],
      "metadata": {
        "id": "jSr_A1LWY0Di",
        "colab": {
          "base_uri": "https://localhost:8080/",
          "height": 0
        },
        "outputId": "dddd1d82-c785-4093-f9fa-38a69f252f8f"
      },
      "execution_count": 18,
      "outputs": [
        {
          "output_type": "execute_result",
          "data": {
            "text/plain": [
              "<matplotlib.axes._subplots.AxesSubplot at 0x7f19a105ad90>"
            ]
          },
          "metadata": {},
          "execution_count": 18
        },
        {
          "output_type": "display_data",
          "data": {
            "text/plain": [
              "<Figure size 1440x864 with 2 Axes>"
            ],
            "image/png": "[encoded data removed]"
          },
          "metadata": {
            "needs_background": "light"
          }
        }
      ]
    },
    {
      "cell_type": "markdown",
      "source": [
        "### Depending on msno we need to drop (Easement and Apartment Number)"
      ],
      "metadata": {
        "id": "ZgzwjiJ5OJYG"
      }
    },
    {
      "cell_type": "markdown",
      "metadata": {
        "id": "crOpH7LP4dgq"
      },
      "source": [
        "## Task 2\n",
        "#### Data exploration using data visualization. Raise two questions that can be answered by performing data visualization. Briefely mention why you think this question would be interesting to whom (who is your audience). Think about the EDA principals."
      ]
    },
    {
      "cell_type": "markdown",
      "source": [
        "### The question is too important for me, it will help me to select best features."
      ],
      "metadata": {
        "id": "oGl0xo7UNz8l"
      }
    },
    {
      "cell_type": "markdown",
      "metadata": {
        "id": "GuBMthB44dgr"
      },
      "source": [
        "### Question 2.1\n",
        "## Do the old builds with the same total units have higher price than new ones or not?"
      ]
    },
    {
      "cell_type": "markdown",
      "source": [
        "#### Data Exploration."
      ],
      "metadata": {
        "id": "YNGemCViNmhF"
      }
    },
    {
      "cell_type": "code",
      "source": [
        "#check nulls percentage of each column\n",
        "data.isnull().sum()* 100 / len(data)"
      ],
      "metadata": {
        "id": "TZ7OB6_wnTgk",
        "colab": {
          "base_uri": "https://localhost:8080/"
        },
        "outputId": "6b430ff5-7b50-4d9d-dbfc-288119618195"
      },
      "execution_count": 19,
      "outputs": [
        {
          "output_type": "execute_result",
          "data": {
            "text/plain": [
              "BOROUGH                             0.000000\n",
              "NEIGHBORHOOD                        0.000000\n",
              "BUILDING CLASS CATEGORY             0.000000\n",
              "TAX CLASS AT PRESENT                0.118751\n",
              "BLOCK                               0.000000\n",
              "LOT                                 0.000000\n",
              "EASE-MENT                         100.000000\n",
              "BUILDING CLASS AT PRESENT           0.118751\n",
              "ADDRESS                             0.000000\n",
              "APARTMENT NUMBER                   77.981400\n",
              "ZIP CODE                            0.007395\n",
              "RESIDENTIAL UNITS                  13.431524\n",
              "COMMERCIAL UNITS                   17.980182\n",
              "TOTAL UNITS                        12.722931\n",
              "LAND SQUARE FEET                   18.689211\n",
              "GROSS SQUARE FEET                  18.688776\n",
              "YEAR BUILT                          4.469490\n",
              "TAX CLASS AT TIME OF SALE           0.000000\n",
              "BUILDING CLASS AT TIME OF SALE      0.000000\n",
              "SALE PRICE                          0.000000\n",
              "SALE DATE                           0.000000\n",
              "dtype: float64"
            ]
          },
          "metadata": {},
          "execution_count": 19
        }
      ]
    },
    {
      "cell_type": "code",
      "source": [
        "#drop columns that contain very high missing data percentage\n",
        "data.drop(columns=['EASE-MENT','APARTMENT NUMBER'],inplace=True)"
      ],
      "metadata": {
        "id": "sLrxlFxTZNDz"
      },
      "execution_count": 20,
      "outputs": []
    },
    {
      "cell_type": "code",
      "source": [
        "#check nulls percentage of each column\n",
        "data.isnull().sum()* 100 / len(data)"
      ],
      "metadata": {
        "id": "F9ye8sk2oL8O",
        "colab": {
          "base_uri": "https://localhost:8080/"
        },
        "outputId": "cb6895e8-094a-4722-9dfb-c349f3ca071a"
      },
      "execution_count": 21,
      "outputs": [
        {
          "output_type": "execute_result",
          "data": {
            "text/plain": [
              "BOROUGH                            0.000000\n",
              "NEIGHBORHOOD                       0.000000\n",
              "BUILDING CLASS CATEGORY            0.000000\n",
              "TAX CLASS AT PRESENT               0.118751\n",
              "BLOCK                              0.000000\n",
              "LOT                                0.000000\n",
              "BUILDING CLASS AT PRESENT          0.118751\n",
              "ADDRESS                            0.000000\n",
              "ZIP CODE                           0.007395\n",
              "RESIDENTIAL UNITS                 13.431524\n",
              "COMMERCIAL UNITS                  17.980182\n",
              "TOTAL UNITS                       12.722931\n",
              "LAND SQUARE FEET                  18.689211\n",
              "GROSS SQUARE FEET                 18.688776\n",
              "YEAR BUILT                         4.469490\n",
              "TAX CLASS AT TIME OF SALE          0.000000\n",
              "BUILDING CLASS AT TIME OF SALE     0.000000\n",
              "SALE PRICE                         0.000000\n",
              "SALE DATE                          0.000000\n",
              "dtype: float64"
            ]
          },
          "metadata": {},
          "execution_count": 21
        }
      ]
    },
    {
      "cell_type": "code",
      "source": [
        "#check type of each column\n",
        "data.dtypes"
      ],
      "metadata": {
        "id": "a01QHSOg2ZT4",
        "colab": {
          "base_uri": "https://localhost:8080/"
        },
        "outputId": "b9784fca-ebe2-488a-887b-7b074c0b3517"
      },
      "execution_count": 22,
      "outputs": [
        {
          "output_type": "execute_result",
          "data": {
            "text/plain": [
              "BOROUGH                           float64\n",
              "NEIGHBORHOOD                       object\n",
              "BUILDING CLASS CATEGORY            object\n",
              "TAX CLASS AT PRESENT               object\n",
              "BLOCK                             float64\n",
              "LOT                               float64\n",
              "BUILDING CLASS AT PRESENT          object\n",
              "ADDRESS                            object\n",
              "ZIP CODE                          float64\n",
              "RESIDENTIAL UNITS                  object\n",
              "COMMERCIAL UNITS                   object\n",
              "TOTAL UNITS                        object\n",
              "LAND SQUARE FEET                   object\n",
              "GROSS SQUARE FEET                  object\n",
              "YEAR BUILT                        float64\n",
              "TAX CLASS AT TIME OF SALE         float64\n",
              "BUILDING CLASS AT TIME OF SALE     object\n",
              "SALE PRICE                         object\n",
              "SALE DATE                          object\n",
              "dtype: object"
            ]
          },
          "metadata": {},
          "execution_count": 22
        }
      ]
    },
    {
      "cell_type": "markdown",
      "source": [
        "#### Firstly we need to explore and handle sale price"
      ],
      "metadata": {
        "id": "rAmS5AQt8Kj2"
      }
    },
    {
      "cell_type": "code",
      "source": [
        "# TODO write code to answer Q2.1\n",
        "#check nulls in sale price column\n",
        "np.count_nonzero(data['SALE PRICE'].isna())"
      ],
      "metadata": {
        "id": "JJvHEOyVOTPZ",
        "colab": {
          "base_uri": "https://localhost:8080/"
        },
        "outputId": "8331b6bf-3bb7-4d20-c56d-a8bfb2551f2a"
      },
      "execution_count": 23,
      "outputs": [
        {
          "output_type": "execute_result",
          "data": {
            "text/plain": [
              "0"
            ]
          },
          "metadata": {},
          "execution_count": 23
        }
      ]
    },
    {
      "cell_type": "code",
      "source": [
        "#check value counts on sale price\n",
        "data['SALE PRICE'].value_counts()"
      ],
      "metadata": {
        "id": "rwLLOOWuT5ZQ",
        "colab": {
          "base_uri": "https://localhost:8080/"
        },
        "outputId": "2fba1d4c-9567-4057-ece0-fe1051abb212"
      },
      "execution_count": 24,
      "outputs": [
        {
          "output_type": "execute_result",
          "data": {
            "text/plain": [
              "0             47024\n",
              "$0            16912\n",
              "$0             8067\n",
              "10             1537\n",
              "650,000         775\n",
              "              ...  \n",
              "$2,823,000        1\n",
              "$2,554,000        1\n",
              "$431,075          1\n",
              "$99,839           1\n",
              "$751,174          1\n",
              "Name: SALE PRICE, Length: 24205, dtype: int64"
            ]
          },
          "metadata": {},
          "execution_count": 24
        }
      ]
    },
    {
      "cell_type": "code",
      "source": [
        "#remove , and $ from sale price data\n",
        "data['SALE PRICE'] = data['SALE PRICE'].str.translate(str.maketrans({',':''}))\n",
        "data['SALE PRICE'] = data['SALE PRICE'].str.translate(str.maketrans({'$':''}))"
      ],
      "metadata": {
        "id": "lOsh9jRMVqNM"
      },
      "execution_count": 25,
      "outputs": []
    },
    {
      "cell_type": "code",
      "source": [
        "#convert to numeric\n",
        "data['SALE PRICE']=pd.to_numeric(data['SALE PRICE'])"
      ],
      "metadata": {
        "id": "uVAIKNm2USs-"
      },
      "execution_count": 26,
      "outputs": []
    },
    {
      "cell_type": "code",
      "source": [
        "#check the ratio of missing data after cleaning\n",
        "total_miss=data['SALE PRICE'].isnull().sum()\n",
        "percent_miss = (total_miss/data['SALE PRICE'].isnull().count()*100) \n",
        "missing_data = {'Total missing':total_miss,'% missing':percent_miss}\n",
        "missing_data"
      ],
      "metadata": {
        "id": "PUxMwZ7QX88d",
        "colab": {
          "base_uri": "https://localhost:8080/"
        },
        "outputId": "8314ce40-68e0-4689-be7e-285dbe279e5f"
      },
      "execution_count": 27,
      "outputs": [
        {
          "output_type": "execute_result",
          "data": {
            "text/plain": [
              "{'% missing': 0.0, 'Total missing': 0}"
            ]
          },
          "metadata": {},
          "execution_count": 27
        }
      ]
    },
    {
      "cell_type": "code",
      "source": [
        "data['SALE PRICE'].value_counts()"
      ],
      "metadata": {
        "id": "b_srMQIb78Vb",
        "colab": {
          "base_uri": "https://localhost:8080/"
        },
        "outputId": "a274435c-8bbd-49fd-97b5-e810eb3b3a56"
      },
      "execution_count": 28,
      "outputs": [
        {
          "output_type": "execute_result",
          "data": {
            "text/plain": [
              "0         72003\n",
              "10         2297\n",
              "650000     1219\n",
              "550000     1150\n",
              "600000     1139\n",
              "          ...  \n",
              "407791        1\n",
              "388298        1\n",
              "671247        1\n",
              "5614          1\n",
              "751174        1\n",
              "Name: SALE PRICE, Length: 18959, dtype: int64"
            ]
          },
          "metadata": {},
          "execution_count": 28
        }
      ]
    },
    {
      "cell_type": "code",
      "source": [
        "#check unique values\n",
        "data['SALE PRICE'].unique()"
      ],
      "metadata": {
        "id": "-hFDrd_EHJ-1",
        "colab": {
          "base_uri": "https://localhost:8080/"
        },
        "outputId": "32fcbfab-7375-4b43-9c5b-304ab2e0f9e1"
      },
      "execution_count": 29,
      "outputs": [
        {
          "output_type": "execute_result",
          "data": {
            "text/plain": [
              "array([1200000,  520000,       0, ...,  544309,  273800,  751174])"
            ]
          },
          "metadata": {},
          "execution_count": 29
        }
      ]
    },
    {
      "cell_type": "markdown",
      "source": [
        "#### Secondly we need to handle number of units."
      ],
      "metadata": {
        "id": "Y-p_8qTy_a6k"
      }
    },
    {
      "cell_type": "code",
      "source": [
        "#check nulls count in total units column\n",
        "np.count_nonzero(data['TOTAL UNITS'].isna())"
      ],
      "metadata": {
        "id": "BrybGyvfLrWH",
        "colab": {
          "base_uri": "https://localhost:8080/"
        },
        "outputId": "0d26ce63-2f6c-4bed-b5f9-1a1f0d64713d"
      },
      "execution_count": 30,
      "outputs": [
        {
          "output_type": "execute_result",
          "data": {
            "text/plain": [
              "29249"
            ]
          },
          "metadata": {},
          "execution_count": 30
        }
      ]
    },
    {
      "cell_type": "code",
      "source": [
        "#check nulls count in commercial units column\n",
        "np.count_nonzero(data['COMMERCIAL UNITS'].isna())"
      ],
      "metadata": {
        "id": "JgyswzwbLycc",
        "colab": {
          "base_uri": "https://localhost:8080/"
        },
        "outputId": "b35d0e48-efb7-4839-9b60-fced568c88ce"
      },
      "execution_count": 31,
      "outputs": [
        {
          "output_type": "execute_result",
          "data": {
            "text/plain": [
              "41335"
            ]
          },
          "metadata": {},
          "execution_count": 31
        }
      ]
    },
    {
      "cell_type": "code",
      "source": [
        "#check nulls count in residential units column\n",
        "np.count_nonzero(data['RESIDENTIAL UNITS'].isna())"
      ],
      "metadata": {
        "id": "3BQccMrDLz2Y",
        "colab": {
          "base_uri": "https://localhost:8080/"
        },
        "outputId": "62df25fe-3d51-479b-eb1a-680ed0f8af68"
      },
      "execution_count": 32,
      "outputs": [
        {
          "output_type": "execute_result",
          "data": {
            "text/plain": [
              "30878"
            ]
          },
          "metadata": {},
          "execution_count": 32
        }
      ]
    },
    {
      "cell_type": "code",
      "source": [
        "#check count of each value\n",
        "data['TOTAL UNITS'].value_counts()"
      ],
      "metadata": {
        "id": "-4imL0c6aeY5",
        "colab": {
          "base_uri": "https://localhost:8080/"
        },
        "outputId": "311f1dcd-a3d8-4c95-9964-04a8a570dbb2"
      },
      "execution_count": 33,
      "outputs": [
        {
          "output_type": "execute_result",
          "data": {
            "text/plain": [
              "1.0      77667\n",
              "2.0      33228\n",
              "1        27328\n",
              "0.0      13115\n",
              "2        11695\n",
              "         ...  \n",
              "355.0        1\n",
              "489.0        1\n",
              "250.0        1\n",
              "506.0        1\n",
              "222.0        1\n",
              "Name: TOTAL UNITS, Length: 389, dtype: int64"
            ]
          },
          "metadata": {},
          "execution_count": 33
        }
      ]
    },
    {
      "cell_type": "code",
      "source": [
        "#check count od each value\n",
        "data['RESIDENTIAL UNITS'].value_counts()"
      ],
      "metadata": {
        "id": "Kpb5o8LCRJED",
        "colab": {
          "base_uri": "https://localhost:8080/"
        },
        "outputId": "014c6d81-c006-4796-ae99-478f00003ab1"
      },
      "execution_count": 34,
      "outputs": [
        {
          "output_type": "execute_result",
          "data": {
            "text/plain": [
              "1.0      71785\n",
              "2.0      33569\n",
              "1        24761\n",
              "0.0      20428\n",
              "0        12451\n",
              "         ...  \n",
              "249.0        1\n",
              "116.0        1\n",
              "113          1\n",
              "188          1\n",
              "165.0        1\n",
              "Name: RESIDENTIAL UNITS, Length: 359, dtype: int64"
            ]
          },
          "metadata": {},
          "execution_count": 34
        }
      ]
    },
    {
      "cell_type": "code",
      "source": [
        "#check unique values\n",
        "data['RESIDENTIAL UNITS'].unique()"
      ],
      "metadata": {
        "id": "IgmWcJmHaihc",
        "colab": {
          "base_uri": "https://localhost:8080/"
        },
        "outputId": "74af7238-a133-4af4-cebf-c8249a2fab1e"
      },
      "execution_count": 35,
      "outputs": [
        {
          "output_type": "execute_result",
          "data": {
            "text/plain": [
              "array([nan, 1.0, 6.0, 0.0, 26.0, 312.0, 33.0, 10.0, 8.0, 18.0, 20.0, 49.0,\n",
              "       27.0, 4.0, 7.0, 2.0, 3.0, 9.0, 24.0, 5.0, 16.0, 17.0, 116.0, 31.0,\n",
              "       12.0, 13.0, 22.0, 28.0, 55.0, 32.0, 48.0, 38.0, 69.0, 44.0, 51.0,\n",
              "       56.0, 35.0, 30.0, 25.0, 92.0, 21.0, 54.0, 50.0, 72.0, 63.0, 53.0,\n",
              "       58.0, 78.0, 36.0, 57.0, 14.0, 15.0, 83.0, 430.0, 11.0, 39.0, 59.0,\n",
              "       46.0, 127.0, 180.0, 19.0, 23.0, 90.0, 209.0, 43.0, 134.0, 29.0,\n",
              "       135.0, 84.0, 40.0, 37.0, 100.0, 67.0, 95.0, 45.0, 110.0, 375.0,\n",
              "       418.0, 597.0, 102.0, 81.0, 140.0, 320.0, 79.0, 221.0, 133.0, 323.0,\n",
              "       261.0, 62.0, 600.0, 68.0, 34.0, 341.0, 60.0, 155.0, 108.0, 105.0,\n",
              "       41.0, 61.0, 266.0, 151.0, 74.0, 285.0, 145.0, 147.0, 122.0, 283.0,\n",
              "       124.0, 169.0, 142.0, 184.0, 278.0, 233.0, 70.0, 42.0, 91.0, 446.0,\n",
              "       503.0, 489.0, 196.0, 65.0, 75.0, 182.0, 52.0, 66.0, 119.0, 295.0,\n",
              "       190.0, 156.0, '1', '0', '217', '24', '9', '10', '13', '15', '8',\n",
              "       '16', '22', '2', '490', '20', '18', '17', '4', '126', '11', '115',\n",
              "       '12', '3', '6', '5', '63', '79', '62', '26', '14', '7', '41', '36',\n",
              "       '21', '25', '19', '49', '74', '30', '8,764', '120', '107', '70',\n",
              "       '145', '404', '45', '109', '35', '180', '179', '39', '164', '96',\n",
              "       '28', '177', '97', '32', '50', '27', '110', '200', '125', '58',\n",
              "       '33', '47', '94', '54', '155', '40', '23', '52', '42', '100', '67',\n",
              "       '102', '38', '87', '57', '112', '60', '209', '34', '48', '64',\n",
              "       '83', '37', '95', '71', '55', '66', '46', '116', 47.0, 115.0,\n",
              "       181.0, '122', 464.0, 87.0, 77.0, 86.0, 85.0, 112.0, 73.0, 191.0,\n",
              "       215.0, 106.0, 305.0, 98.0, 88.0, 71.0, 120.0, 114.0, 153.0, 89.0,\n",
              "       137.0, 129.0, 80.0, 168.0, 111.0, 130.0, 326.0, 353.0, 355.0, 64.0,\n",
              "       178.0, 131.0, 126.0, 249.0, '29', '113', '65', '188', '167', 163.0,\n",
              "       138.0, 214.0, '72', '86', '363', '298', '368', '121', '1,092',\n",
              "       '1,168', '1,164', '1,463', '2,229', '84', 234.0, 113.0, 104.0,\n",
              "       82.0, 458.0, 443.0, 468.0, 500.0, 125.0, 183.0, 260.0, 143.0,\n",
              "       179.0, 107.0, 476.0, 94.0, 164.0, 177.0, 188.0, 297.0, 197.0,\n",
              "       192.0, 750.0, 826.0, 193.0, '417', '144', '99', '304', '558', '43',\n",
              "       '178', '89', '53', '69', '59', '131', '31', '235', '105', '166',\n",
              "       '78', '81', '172', '82', '124', '259', '327', '270', '80', '103',\n",
              "       '140', '108', '91', '430', '85', '135', '123', '148', '56', 144.0,\n",
              "       '111', 101.0, '68', '90', '391', '98', '199', '1,327', '106',\n",
              "       118.0, 109.0, 428.0, 103.0, 450.0, 300.0, 238.0, 200.0, 128.0,\n",
              "       314.0, 132.0, 162.0, 291.0, 165.0], dtype=object)"
            ]
          },
          "metadata": {},
          "execution_count": 35
        }
      ]
    },
    {
      "cell_type": "code",
      "source": [
        "#convert residential and commercial units to string\n",
        "data['RESIDENTIAL UNITS']= data['RESIDENTIAL UNITS'].astype(str)\n",
        "data['COMMERCIAL UNITS']= data['COMMERCIAL UNITS'].astype(str)"
      ],
      "metadata": {
        "id": "9TrzD4_m47GJ"
      },
      "execution_count": 36,
      "outputs": []
    },
    {
      "cell_type": "markdown",
      "source": [
        "We need to replace nulls in RESIDENTIAL UNITS and COMMERCIAL UNITS with 0 value."
      ],
      "metadata": {
        "id": "LDmwQP6xMvg6"
      }
    },
    {
      "cell_type": "code",
      "source": [
        "#remove , from specific column\n",
        "data['RESIDENTIAL UNITS'] = data['RESIDENTIAL UNITS'].str.translate(str.maketrans({',':''}))\n",
        "data['COMMERCIAL UNITS'] = data['COMMERCIAL UNITS'].str.translate(str.maketrans({',':''}))"
      ],
      "metadata": {
        "id": "DVp2K3hlaNFT"
      },
      "execution_count": 37,
      "outputs": []
    },
    {
      "cell_type": "code",
      "source": [
        "#check unique values\n",
        "data['RESIDENTIAL UNITS'].unique()"
      ],
      "metadata": {
        "id": "lcQuVpGr0Vz7",
        "colab": {
          "base_uri": "https://localhost:8080/"
        },
        "outputId": "a0043b73-84ba-4b01-c137-8e15c6d40d17"
      },
      "execution_count": 38,
      "outputs": [
        {
          "output_type": "execute_result",
          "data": {
            "text/plain": [
              "array(['nan', '1.0', '6.0', '0.0', '26.0', '312.0', '33.0', '10.0', '8.0',\n",
              "       '18.0', '20.0', '49.0', '27.0', '4.0', '7.0', '2.0', '3.0', '9.0',\n",
              "       '24.0', '5.0', '16.0', '17.0', '116.0', '31.0', '12.0', '13.0',\n",
              "       '22.0', '28.0', '55.0', '32.0', '48.0', '38.0', '69.0', '44.0',\n",
              "       '51.0', '56.0', '35.0', '30.0', '25.0', '92.0', '21.0', '54.0',\n",
              "       '50.0', '72.0', '63.0', '53.0', '58.0', '78.0', '36.0', '57.0',\n",
              "       '14.0', '15.0', '83.0', '430.0', '11.0', '39.0', '59.0', '46.0',\n",
              "       '127.0', '180.0', '19.0', '23.0', '90.0', '209.0', '43.0', '134.0',\n",
              "       '29.0', '135.0', '84.0', '40.0', '37.0', '100.0', '67.0', '95.0',\n",
              "       '45.0', '110.0', '375.0', '418.0', '597.0', '102.0', '81.0',\n",
              "       '140.0', '320.0', '79.0', '221.0', '133.0', '323.0', '261.0',\n",
              "       '62.0', '600.0', '68.0', '34.0', '341.0', '60.0', '155.0', '108.0',\n",
              "       '105.0', '41.0', '61.0', '266.0', '151.0', '74.0', '285.0',\n",
              "       '145.0', '147.0', '122.0', '283.0', '124.0', '169.0', '142.0',\n",
              "       '184.0', '278.0', '233.0', '70.0', '42.0', '91.0', '446.0',\n",
              "       '503.0', '489.0', '196.0', '65.0', '75.0', '182.0', '52.0', '66.0',\n",
              "       '119.0', '295.0', '190.0', '156.0', '1', '0', '217', '24', '9',\n",
              "       '10', '13', '15', '8', '16', '22', '2', '490', '20', '18', '17',\n",
              "       '4', '126', '11', '115', '12', '3', '6', '5', '63', '79', '62',\n",
              "       '26', '14', '7', '41', '36', '21', '25', '19', '49', '74', '30',\n",
              "       '8764', '120', '107', '70', '145', '404', '45', '109', '35', '180',\n",
              "       '179', '39', '164', '96', '28', '177', '97', '32', '50', '27',\n",
              "       '110', '200', '125', '58', '33', '47', '94', '54', '155', '40',\n",
              "       '23', '52', '42', '100', '67', '102', '38', '87', '57', '112',\n",
              "       '60', '209', '34', '48', '64', '83', '37', '95', '71', '55', '66',\n",
              "       '46', '116', '47.0', '115.0', '181.0', '122', '464.0', '87.0',\n",
              "       '77.0', '86.0', '85.0', '112.0', '73.0', '191.0', '215.0', '106.0',\n",
              "       '305.0', '98.0', '88.0', '71.0', '120.0', '114.0', '153.0', '89.0',\n",
              "       '137.0', '129.0', '80.0', '168.0', '111.0', '130.0', '326.0',\n",
              "       '353.0', '355.0', '64.0', '178.0', '131.0', '126.0', '249.0', '29',\n",
              "       '113', '65', '188', '167', '163.0', '138.0', '214.0', '72', '86',\n",
              "       '363', '298', '368', '121', '1092', '1168', '1164', '1463', '2229',\n",
              "       '84', '234.0', '113.0', '104.0', '82.0', '458.0', '443.0', '468.0',\n",
              "       '500.0', '125.0', '183.0', '260.0', '143.0', '179.0', '107.0',\n",
              "       '476.0', '94.0', '164.0', '177.0', '188.0', '297.0', '197.0',\n",
              "       '192.0', '750.0', '826.0', '193.0', '417', '144', '99', '304',\n",
              "       '558', '43', '178', '89', '53', '69', '59', '131', '31', '235',\n",
              "       '105', '166', '78', '81', '172', '82', '124', '259', '327', '270',\n",
              "       '80', '103', '140', '108', '91', '430', '85', '135', '123', '148',\n",
              "       '56', '144.0', '111', '101.0', '68', '90', '391', '98', '199',\n",
              "       '1327', '106', '118.0', '109.0', '428.0', '103.0', '450.0',\n",
              "       '300.0', '238.0', '200.0', '128.0', '314.0', '132.0', '162.0',\n",
              "       '291.0', '165.0'], dtype=object)"
            ]
          },
          "metadata": {},
          "execution_count": 38
        }
      ]
    },
    {
      "cell_type": "code",
      "source": [
        "#fill nulls with 0 and convert to numeric\n",
        "data['RESIDENTIAL UNITS'] = pd.to_numeric(data['RESIDENTIAL UNITS'], errors='coerce').fillna(0, downcast='infer')\n",
        "data['COMMERCIAL UNITS'] = pd.to_numeric(data['COMMERCIAL UNITS'], errors='coerce').fillna(0, downcast='infer')"
      ],
      "metadata": {
        "id": "XA_ARSDbQ44t"
      },
      "execution_count": 39,
      "outputs": []
    },
    {
      "cell_type": "code",
      "source": [
        "data['RESIDENTIAL UNITS'].value_counts()"
      ],
      "metadata": {
        "id": "QiwmWSuk0M9C",
        "colab": {
          "base_uri": "https://localhost:8080/"
        },
        "outputId": "aa65cc38-d61f-4a3b-e8f0-8b70d1822f8a"
      },
      "execution_count": 40,
      "outputs": [
        {
          "output_type": "execute_result",
          "data": {
            "text/plain": [
              "1      96546\n",
              "0      63757\n",
              "2      45522\n",
              "3      13245\n",
              "4       3542\n",
              "       ...  \n",
              "129        1\n",
              "137        1\n",
              "305        1\n",
              "215        1\n",
              "165        1\n",
              "Name: RESIDENTIAL UNITS, Length: 238, dtype: int64"
            ]
          },
          "metadata": {},
          "execution_count": 40
        }
      ]
    },
    {
      "cell_type": "code",
      "source": [
        "#check nulls after cleaning\n",
        "print(np.count_nonzero(data['RESIDENTIAL UNITS'].isna()))\n",
        "print(np.count_nonzero(data['COMMERCIAL UNITS'].isna()))"
      ],
      "metadata": {
        "id": "_dTWsBS5OiAf",
        "colab": {
          "base_uri": "https://localhost:8080/"
        },
        "outputId": "535d1bb9-75a0-456e-fe28-b2c00a730d4e"
      },
      "execution_count": 41,
      "outputs": [
        {
          "output_type": "stream",
          "name": "stdout",
          "text": [
            "0\n",
            "0\n"
          ]
        }
      ]
    },
    {
      "cell_type": "code",
      "source": [
        "data['COMMERCIAL UNITS'].unique()"
      ],
      "metadata": {
        "id": "qIxSo83VRVSt",
        "colab": {
          "base_uri": "https://localhost:8080/"
        },
        "outputId": "2edcb08b-6964-4e16-bd92-9c138238da25"
      },
      "execution_count": 42,
      "outputs": [
        {
          "output_type": "execute_result",
          "data": {
            "text/plain": [
              "array([   1,    0,    4,    2,  107,    9,    3,    6,    5,    7,    8,\n",
              "        259,   60,  180,   11,  124,   20,  152,   15,  167,   42,   18,\n",
              "         16,   44,   54,   35,   10,   13,   19,  150,   27,   33,   23,\n",
              "         28,   14,  133,   29,   22,   47,   37,   26,   49,   12,   53,\n",
              "        194,   30,   64,   41,  222,  114,   73,  104,   17,   74,  570,\n",
              "        155,   61,   88,   83,   52,   85,   67,   24,   21,   58,   50,\n",
              "         57,   43,   39,  138,   70,   48,  111,  116,  120,   56,   45,\n",
              "        239,   25,   36,   95,   79,   40,   75,   94,   46,   71,  131,\n",
              "        252,  530,  127,  210,   65,   32,   78,  174,  168, 1132,  842,\n",
              "         63,  123,   72,   89])"
            ]
          },
          "metadata": {},
          "execution_count": 42
        }
      ]
    },
    {
      "cell_type": "code",
      "source": [
        "data['RESIDENTIAL UNITS'].unique()"
      ],
      "metadata": {
        "id": "6DuTBJD8QR6i",
        "colab": {
          "base_uri": "https://localhost:8080/"
        },
        "outputId": "be481e94-2fa3-45ef-f14f-22b121d8d0fb"
      },
      "execution_count": 43,
      "outputs": [
        {
          "output_type": "execute_result",
          "data": {
            "text/plain": [
              "array([   0,    1,    6,   26,  312,   33,   10,    8,   18,   20,   49,\n",
              "         27,    4,    7,    2,    3,    9,   24,    5,   16,   17,  116,\n",
              "         31,   12,   13,   22,   28,   55,   32,   48,   38,   69,   44,\n",
              "         51,   56,   35,   30,   25,   92,   21,   54,   50,   72,   63,\n",
              "         53,   58,   78,   36,   57,   14,   15,   83,  430,   11,   39,\n",
              "         59,   46,  127,  180,   19,   23,   90,  209,   43,  134,   29,\n",
              "        135,   84,   40,   37,  100,   67,   95,   45,  110,  375,  418,\n",
              "        597,  102,   81,  140,  320,   79,  221,  133,  323,  261,   62,\n",
              "        600,   68,   34,  341,   60,  155,  108,  105,   41,   61,  266,\n",
              "        151,   74,  285,  145,  147,  122,  283,  124,  169,  142,  184,\n",
              "        278,  233,   70,   42,   91,  446,  503,  489,  196,   65,   75,\n",
              "        182,   52,   66,  119,  295,  190,  156,  217,  490,  126,  115,\n",
              "       8764,  120,  107,  404,  109,  179,  164,   96,  177,   97,  200,\n",
              "        125,   47,   94,   87,  112,   64,   71,  181,  464,   77,   86,\n",
              "         85,   73,  191,  215,  106,  305,   98,   88,  114,  153,   89,\n",
              "        137,  129,   80,  168,  111,  130,  326,  353,  355,  178,  131,\n",
              "        249,  113,  188,  167,  163,  138,  214,  363,  298,  368,  121,\n",
              "       1092, 1168, 1164, 1463, 2229,  234,  104,   82,  458,  443,  468,\n",
              "        500,  183,  260,  143,  476,  297,  197,  192,  750,  826,  193,\n",
              "        417,  144,   99,  304,  558,  235,  166,  172,  259,  327,  270,\n",
              "        103,  123,  148,  101,  391,  199, 1327,  118,  428,  450,  300,\n",
              "        238,  128,  314,  132,  162,  291,  165])"
            ]
          },
          "metadata": {},
          "execution_count": 43
        }
      ]
    },
    {
      "cell_type": "markdown",
      "source": [
        "Handle nulls in TOTAL UNITS by filling it by the sum of RESIDENTIAL UNITS and COMMERCIAL UNITS."
      ],
      "metadata": {
        "id": "kaLEQaQoI334"
      }
    },
    {
      "cell_type": "code",
      "source": [
        "#fill total units nulls\n",
        "data['TOTAL UNITS']=(data['RESIDENTIAL UNITS']+data['COMMERCIAL UNITS'])"
      ],
      "metadata": {
        "id": "QUXx2YMvI3AF"
      },
      "execution_count": 44,
      "outputs": []
    },
    {
      "cell_type": "code",
      "source": [
        "data['TOTAL UNITS'].unique()"
      ],
      "metadata": {
        "id": "GxCrfHynR7m6",
        "colab": {
          "base_uri": "https://localhost:8080/"
        },
        "outputId": "d9a9138a-877e-4001-f5ed-7e6b007b5a4f"
      },
      "execution_count": 45,
      "outputs": [
        {
          "output_type": "execute_result",
          "data": {
            "text/plain": [
              "array([   1,    0,    7,    4,    2,  107,   26,  321,   37,   10,    8,\n",
              "          6,    9,   20,   22,   23,   49,   27,    3,   24,    5,   12,\n",
              "         18,  116,   31,   16,   13,   15,   28,   14,   55,   38,   50,\n",
              "         43,   70,   62,   53,   59,   60,   41,   17,   30,   25,   97,\n",
              "         21,   56,   57,   72,   66,   58,   78,   36,   87,   48,  430,\n",
              "        259,   29,   11,   39,   51,  134,  181,   19,  180,   35,   33,\n",
              "         90,  220,   47,   54,   42,  135,   84,   40,  100,   67,   95,\n",
              "         44,   45,   34,  110,  124,  152,  167,  380,  422,  601,  120,\n",
              "         83,  140,  339,   99,   82,  221,  150,  133,   32,  137,  329,\n",
              "        262,   64,  611,   69,  344,  156,  108,  105,   52,  194,  273,\n",
              "        151,  222,  114,   73,  104,   74,  570,  155,  211,  111,   75,\n",
              "         61,   88,   85,  288,  145,  148,  286,  125,  212,  169,  147,\n",
              "        185,  285,  234,  233,  235,   68,  271,   93,  452,  506,  489,\n",
              "        127,  196,   65,  182,  295,  427,  201,  117,   46,  157,  217,\n",
              "        492,  138,   63,   86, 8812,  123,  406,  109,  184,  179,  165,\n",
              "         96,  177,  239,  113,  207,   94,  103,  112,  210,   81,   91,\n",
              "         71,   79,  465,  131,   77,  119,   89,  252,  191,  218,   76,\n",
              "        106,  307,   98,  154,  129,   80,  168,  130,  327,  353,  355,\n",
              "        132,  126,   92,  250,  188,  164,  122,  121,  214,  365,  299,\n",
              "        368, 1092, 1168, 1164, 1463, 2229,  530,  237,  458,  445,  469,\n",
              "        501,  183,  260,  143,  476,  175,  297,  197,  755,  833,  193,\n",
              "        153,  419,  144,  305,  558,  178,  236,  166,  172,  264,  101,\n",
              "        270,  174, 1132,  392,  200, 1348,  842,  428,  451,  302,  240,\n",
              "        128,  314,  142,  163,  292])"
            ]
          },
          "metadata": {},
          "execution_count": 45
        }
      ]
    },
    {
      "cell_type": "code",
      "source": [
        "#check the ratio of missing data in TOTAL UNITS after cleaning\n",
        "total_miss=data['TOTAL UNITS'].isnull().sum()\n",
        "percent_miss = (total_miss/data['TOTAL UNITS'].isnull().count()*100) \n",
        "missing_data = {'Total missing':total_miss,'% missing':percent_miss}\n",
        "missing_data"
      ],
      "metadata": {
        "id": "oQWvihySJGnE",
        "colab": {
          "base_uri": "https://localhost:8080/"
        },
        "outputId": "a3a2c161-bb71-4b63-cfd0-ac90eee988b9"
      },
      "execution_count": 46,
      "outputs": [
        {
          "output_type": "execute_result",
          "data": {
            "text/plain": [
              "{'% missing': 0.0, 'Total missing': 0}"
            ]
          },
          "metadata": {},
          "execution_count": 46
        }
      ]
    },
    {
      "cell_type": "code",
      "source": [
        "data['TOTAL UNITS'].value_counts()"
      ],
      "metadata": {
        "id": "e6kqwLKidffd",
        "colab": {
          "base_uri": "https://localhost:8080/"
        },
        "outputId": "49b7f4e9-c973-44e7-cb16-0db5ca950b3c"
      },
      "execution_count": 47,
      "outputs": [
        {
          "output_type": "execute_result",
          "data": {
            "text/plain": [
              "1      105137\n",
              "0       51495\n",
              "2       44916\n",
              "3       15406\n",
              "4        4013\n",
              "        ...  \n",
              "98          1\n",
              "307         1\n",
              "222         1\n",
              "570         1\n",
              "212         1\n",
              "Name: TOTAL UNITS, Length: 258, dtype: int64"
            ]
          },
          "metadata": {},
          "execution_count": 47
        }
      ]
    },
    {
      "cell_type": "markdown",
      "source": [
        "We will use TOTAL UNITS value = 1 to compare between build year because it is most frequent one."
      ],
      "metadata": {
        "id": "NNRvTlq7diTW"
      }
    },
    {
      "cell_type": "markdown",
      "source": [
        "#### Then we need to explore and handle year build."
      ],
      "metadata": {
        "id": "cmzOalK28VjH"
      }
    },
    {
      "cell_type": "code",
      "source": [
        "data['YEAR BUILT'].unique()"
      ],
      "metadata": {
        "id": "0tnKehdm6cOV",
        "colab": {
          "base_uri": "https://localhost:8080/"
        },
        "outputId": "0241100f-8051-4bc8-e35a-13b31b54718f"
      },
      "execution_count": 48,
      "outputs": [
        {
          "output_type": "execute_result",
          "data": {
            "text/plain": [
              "array([2003., 1964., 1963., 1965., 1962., 1924., 1975., 2006.,   nan,\n",
              "       2014., 2008., 2013., 2004., 1925., 1952., 1977., 1920., 1928.,\n",
              "       1930., 1931., 1910., 1926., 1900., 1929., 1908., 1914., 1905.,\n",
              "       1916., 1911., 1912., 1921., 1890., 1940., 1923., 1915., 1913.,\n",
              "       1927., 1950., 2007., 1899., 2018., 1903., 1906., 1901., 1942.,\n",
              "       1917., 1936., 1948., 1922., 1909., 1971., 1918., 2005., 1985.,\n",
              "       1987., 1988., 2009., 2015., 1983., 1939., 1970., 1932., 1979.,\n",
              "       1989., 2017., 1907., 1951., 1941., 1935., 1954., 1968., 2012.,\n",
              "       1955., 1937., 1938., 1986., 1966., 2016., 2011., 1875., 1945.,\n",
              "       1902., 1990., 1973., 1956., 1960., 1957., 1961., 1996., 1991.,\n",
              "       1984., 1999., 1959., 1958., 1967., 1978., 1980., 2019., 1981.,\n",
              "       1947., 1969., 1982., 1974., 2002., 1998., 1953., 1869., 1880.,\n",
              "          0., 1839., 1857., 1821., 1946., 2000., 1895., 1976., 1972.,\n",
              "       1896., 1904., 2010., 1995., 2001., 1992., 1949., 1994., 1997.,\n",
              "       1933., 1894., 1892., 1934., 1860., 1856., 1885., 1889., 1898.,\n",
              "       1883., 1840., 1851., 1870., 1887., 1800., 1893., 1846., 1864.,\n",
              "       1850., 1882., 1919., 1871., 1881., 1886., 1873., 1830., 2020.,\n",
              "       1859., 1111., 1849., 1891., 1897., 1825., 1874., 1798., 1993.,\n",
              "       1943., 1944., 1848., 1888., 2021., 1845., 1854., 1853., 1855.,\n",
              "       1829., 1865., 1866., 1884., 1841., 1835., 1826., 1844., 1838.,\n",
              "       1834., 1842., 1858., 1822., 1861., 1852., 1018., 1802., 1030.])"
            ]
          },
          "metadata": {},
          "execution_count": 48
        }
      ]
    },
    {
      "cell_type": "markdown",
      "source": [
        "As we see Year Build have 0 value should be replaced with nulls to handel it after that."
      ],
      "metadata": {
        "id": "zUfDKQ2c6jbE"
      }
    },
    {
      "cell_type": "code",
      "source": [
        "#replace 0 with nulls to handle it with imputer at task 4\n",
        "data['YEAR BUILT'].replace((0.), np.nan, inplace=True)\n",
        "data['YEAR BUILT'].replace((0), np.nan, inplace=True)\n",
        "data['YEAR BUILT'].replace(('0'), np.nan, inplace=True)"
      ],
      "metadata": {
        "id": "dwwLJQuCBbqm"
      },
      "execution_count": 49,
      "outputs": []
    },
    {
      "cell_type": "code",
      "source": [
        "data['YEAR BUILT'].unique()"
      ],
      "metadata": {
        "id": "LbzcuQvDCUKa",
        "colab": {
          "base_uri": "https://localhost:8080/"
        },
        "outputId": "4cae1b03-5d30-4ce3-f229-de810a568b1a"
      },
      "execution_count": 50,
      "outputs": [
        {
          "output_type": "execute_result",
          "data": {
            "text/plain": [
              "array([2003., 1964., 1963., 1965., 1962., 1924., 1975., 2006.,   nan,\n",
              "       2014., 2008., 2013., 2004., 1925., 1952., 1977., 1920., 1928.,\n",
              "       1930., 1931., 1910., 1926., 1900., 1929., 1908., 1914., 1905.,\n",
              "       1916., 1911., 1912., 1921., 1890., 1940., 1923., 1915., 1913.,\n",
              "       1927., 1950., 2007., 1899., 2018., 1903., 1906., 1901., 1942.,\n",
              "       1917., 1936., 1948., 1922., 1909., 1971., 1918., 2005., 1985.,\n",
              "       1987., 1988., 2009., 2015., 1983., 1939., 1970., 1932., 1979.,\n",
              "       1989., 2017., 1907., 1951., 1941., 1935., 1954., 1968., 2012.,\n",
              "       1955., 1937., 1938., 1986., 1966., 2016., 2011., 1875., 1945.,\n",
              "       1902., 1990., 1973., 1956., 1960., 1957., 1961., 1996., 1991.,\n",
              "       1984., 1999., 1959., 1958., 1967., 1978., 1980., 2019., 1981.,\n",
              "       1947., 1969., 1982., 1974., 2002., 1998., 1953., 1869., 1880.,\n",
              "       1839., 1857., 1821., 1946., 2000., 1895., 1976., 1972., 1896.,\n",
              "       1904., 2010., 1995., 2001., 1992., 1949., 1994., 1997., 1933.,\n",
              "       1894., 1892., 1934., 1860., 1856., 1885., 1889., 1898., 1883.,\n",
              "       1840., 1851., 1870., 1887., 1800., 1893., 1846., 1864., 1850.,\n",
              "       1882., 1919., 1871., 1881., 1886., 1873., 1830., 2020., 1859.,\n",
              "       1111., 1849., 1891., 1897., 1825., 1874., 1798., 1993., 1943.,\n",
              "       1944., 1848., 1888., 2021., 1845., 1854., 1853., 1855., 1829.,\n",
              "       1865., 1866., 1884., 1841., 1835., 1826., 1844., 1838., 1834.,\n",
              "       1842., 1858., 1822., 1861., 1852., 1018., 1802., 1030.])"
            ]
          },
          "metadata": {},
          "execution_count": 50
        }
      ]
    },
    {
      "cell_type": "code",
      "source": [
        "#check sale price of each year with total unit\n",
        "sns.regplot(x='YEAR BUILT', y='SALE PRICE',\n",
        "            data=data[data['YEAR BUILT']<1800][data['TOTAL UNITS']<=5],\n",
        "            fit_reg=False, scatter_kws={'alpha':1})"
      ],
      "metadata": {
        "id": "PaIg2WIcdKpc",
        "colab": {
          "base_uri": "https://localhost:8080/",
          "height": 0
        },
        "outputId": "475b017d-4656-46a8-cdbe-b13fc29f361d"
      },
      "execution_count": 51,
      "outputs": [
        {
          "output_type": "stream",
          "name": "stderr",
          "text": [
            "/usr/local/lib/python3.7/dist-packages/ipykernel_launcher.py:3: UserWarning:\n",
            "\n",
            "Boolean Series key will be reindexed to match DataFrame index.\n",
            "\n"
          ]
        },
        {
          "output_type": "execute_result",
          "data": {
            "text/plain": [
              "<matplotlib.axes._subplots.AxesSubplot at 0x7f199a53c850>"
            ]
          },
          "metadata": {},
          "execution_count": 51
        },
        {
          "output_type": "display_data",
          "data": {
            "text/plain": [
              "<Figure size 432x288 with 1 Axes>"
            ],
            "image/png": "[encoded data removed]"
          },
          "metadata": {
            "needs_background": "light"
          }
        }
      ]
    },
    {
      "cell_type": "markdown",
      "source": [
        "As we see any year before 1800 categorized as outlier, so we can drop them after that."
      ],
      "metadata": {
        "id": "DLkJ8NaefZfX"
      }
    },
    {
      "cell_type": "code",
      "source": [
        "#check sale price at year build after 1800\n",
        "sns.regplot(x='YEAR BUILT', y='SALE PRICE',\n",
        "            data=data[data['YEAR BUILT']>1800][data['TOTAL UNITS']<=5],\n",
        "            fit_reg=False, scatter_kws={'alpha':1})"
      ],
      "metadata": {
        "id": "JuI6Dblqe3OE",
        "colab": {
          "base_uri": "https://localhost:8080/",
          "height": 0
        },
        "outputId": "9b6ee5da-3b80-4eb0-b14e-e3fe2fa6e725"
      },
      "execution_count": 52,
      "outputs": [
        {
          "output_type": "stream",
          "name": "stderr",
          "text": [
            "/usr/local/lib/python3.7/dist-packages/ipykernel_launcher.py:3: UserWarning:\n",
            "\n",
            "Boolean Series key will be reindexed to match DataFrame index.\n",
            "\n"
          ]
        },
        {
          "output_type": "execute_result",
          "data": {
            "text/plain": [
              "<matplotlib.axes._subplots.AxesSubplot at 0x7f199ab63250>"
            ]
          },
          "metadata": {},
          "execution_count": 52
        },
        {
          "output_type": "display_data",
          "data": {
            "text/plain": [
              "<Figure size 432x288 with 1 Axes>"
            ],
            "image/png": "[encoded data removed]"
          },
          "metadata": {
            "needs_background": "light"
          }
        }
      ]
    },
    {
      "cell_type": "code",
      "source": [
        "#check after 1900\n",
        "sns.regplot(x='YEAR BUILT', y='SALE PRICE',\n",
        "            data=data[data['YEAR BUILT']>=1900][data['TOTAL UNITS']<=5],\n",
        "            fit_reg=False, scatter_kws={'alpha':1})"
      ],
      "metadata": {
        "id": "HonF-9qogx-P",
        "colab": {
          "base_uri": "https://localhost:8080/",
          "height": 0
        },
        "outputId": "f19101c4-404b-4d93-f6ed-c1ba8e3dda05"
      },
      "execution_count": 53,
      "outputs": [
        {
          "output_type": "stream",
          "name": "stderr",
          "text": [
            "/usr/local/lib/python3.7/dist-packages/ipykernel_launcher.py:3: UserWarning:\n",
            "\n",
            "Boolean Series key will be reindexed to match DataFrame index.\n",
            "\n"
          ]
        },
        {
          "output_type": "execute_result",
          "data": {
            "text/plain": [
              "<matplotlib.axes._subplots.AxesSubplot at 0x7f199ac92110>"
            ]
          },
          "metadata": {},
          "execution_count": 53
        },
        {
          "output_type": "display_data",
          "data": {
            "text/plain": [
              "<Figure size 432x288 with 1 Axes>"
            ],
            "image/png": "[encoded data removed]"
          },
          "metadata": {
            "needs_background": "light"
          }
        }
      ]
    },
    {
      "cell_type": "markdown",
      "source": [
        "As we see the prices of 90s buildings is greater than 20s. But we can visualize each no. of units alone to make sure about that.\n",
        "\n",
        "We will check for no. of units 1 because it the most frequent value."
      ],
      "metadata": {
        "id": "-Mk3aQWde0IA"
      }
    },
    {
      "cell_type": "code",
      "source": [
        "#check when the total unit only =1\n",
        "sns.regplot(x='YEAR BUILT', y='SALE PRICE',\n",
        "            data=data[data['YEAR BUILT']>=1900][data['TOTAL UNITS']==1],\n",
        "            fit_reg=False, scatter_kws={'alpha':1})"
      ],
      "metadata": {
        "id": "5HkjTZW9gK6c",
        "colab": {
          "base_uri": "https://localhost:8080/",
          "height": 0
        },
        "outputId": "33fb86d7-1d59-4d52-9a93-6f3f9270dfc8"
      },
      "execution_count": 54,
      "outputs": [
        {
          "output_type": "stream",
          "name": "stderr",
          "text": [
            "/usr/local/lib/python3.7/dist-packages/ipykernel_launcher.py:3: UserWarning:\n",
            "\n",
            "Boolean Series key will be reindexed to match DataFrame index.\n",
            "\n"
          ]
        },
        {
          "output_type": "execute_result",
          "data": {
            "text/plain": [
              "<matplotlib.axes._subplots.AxesSubplot at 0x7f199adf6850>"
            ]
          },
          "metadata": {},
          "execution_count": 54
        },
        {
          "output_type": "display_data",
          "data": {
            "text/plain": [
              "<Figure size 432x288 with 1 Axes>"
            ],
            "image/png": "[encoded data removed]"
          },
          "metadata": {
            "needs_background": "light"
          }
        }
      ]
    },
    {
      "cell_type": "markdown",
      "source": [
        "As we see in previous result, 90s prices is greater than 20s, specially the range from 1920 till 1970 and the prices of 2015 too."
      ],
      "metadata": {
        "id": "m9uBfHU2gJA9"
      }
    },
    {
      "cell_type": "code",
      "source": [
        "plt.figure(figsize=(10,6))\n",
        "sns.boxplot(x='TOTAL UNITS', y='SALE PRICE', data=data)\n",
        "plt.title('TOTAL UNITS vs SALE PRICE')\n",
        "plt.show()"
      ],
      "metadata": {
        "id": "RkrG2KEJkw6D",
        "colab": {
          "base_uri": "https://localhost:8080/",
          "height": 0
        },
        "outputId": "70458993-3f52-4668-e6af-163d2a56d95e"
      },
      "execution_count": 55,
      "outputs": [
        {
          "output_type": "display_data",
          "data": {
            "text/plain": [
              "<Figure size 720x432 with 1 Axes>"
            ],
            "image/png": "[encoded data removed]"
          },
          "metadata": {
            "needs_background": "light"
          }
        }
      ]
    },
    {
      "cell_type": "markdown",
      "source": [
        "### Answer to Question 1\n",
        "## Yes, old buildings have higher price than new ones with the same total units."
      ],
      "metadata": {
        "id": "AfxldVRIiTx5"
      }
    },
    {
      "cell_type": "markdown",
      "metadata": {
        "id": "60WUiXjz4dgs"
      },
      "source": [
        "### Question 2.2\n",
        "## Does zip code indicate to the same Neighborhood?"
      ]
    },
    {
      "cell_type": "markdown",
      "source": [
        "#### Handeling values of borough column."
      ],
      "metadata": {
        "id": "0UCcPTk205sM"
      }
    },
    {
      "cell_type": "code",
      "source": [
        "# TODO write code to answer Q2.2\n",
        "data['BOROUGH'].value_counts()"
      ],
      "metadata": {
        "id": "kPwbemsdsY8v",
        "colab": {
          "base_uri": "https://localhost:8080/"
        },
        "outputId": "ad0cc606-919d-4717-a451-33098a733fae"
      },
      "execution_count": 56,
      "outputs": [
        {
          "output_type": "execute_result",
          "data": {
            "text/plain": [
              "4.0    73002\n",
              "3.0    65168\n",
              "1.0    46411\n",
              "5.0    23196\n",
              "2.0    22115\n",
              "Name: BOROUGH, dtype: int64"
            ]
          },
          "metadata": {},
          "execution_count": 56
        }
      ]
    },
    {
      "cell_type": "code",
      "source": [
        "data['BOROUGH'] = data['BOROUGH'].replace(1.0, \"Manhattan\")\n",
        "data['BOROUGH'] = data['BOROUGH'].replace(2.0, \"Bronx\")\n",
        "data['BOROUGH'] = data['BOROUGH'].replace(3.0, \"Brooklyn\")\n",
        "data['BOROUGH'] = data['BOROUGH'].replace(4.0, \"Queens\")\n",
        "data['BOROUGH'] = data['BOROUGH'].replace(5.0, \"Staten Island\")"
      ],
      "metadata": {
        "id": "vkbU_gdrAdGi"
      },
      "execution_count": 57,
      "outputs": []
    },
    {
      "cell_type": "code",
      "source": [
        "data['BOROUGH'] = data['BOROUGH'].astype(str)\n",
        "data['BOROUGH']=data['BOROUGH'].astype('category')"
      ],
      "metadata": {
        "id": "K2nm67WGswdo"
      },
      "execution_count": 58,
      "outputs": []
    },
    {
      "cell_type": "code",
      "source": [
        "data['BOROUGH'].value_counts()"
      ],
      "metadata": {
        "id": "Uxkjy8xrzj5d",
        "colab": {
          "base_uri": "https://localhost:8080/"
        },
        "outputId": "3c5aeabd-1375-4ea2-882a-555aa476f40d"
      },
      "execution_count": 59,
      "outputs": [
        {
          "output_type": "execute_result",
          "data": {
            "text/plain": [
              "Queens           73002\n",
              "Brooklyn         65168\n",
              "Manhattan        46411\n",
              "Staten Island    23196\n",
              "Bronx            22115\n",
              "Name: BOROUGH, dtype: int64"
            ]
          },
          "metadata": {},
          "execution_count": 59
        }
      ]
    },
    {
      "cell_type": "markdown",
      "source": [
        "#### Now we will handle zip code values"
      ],
      "metadata": {
        "id": "5sTM7vZo1E6u"
      }
    },
    {
      "cell_type": "code",
      "source": [
        "#describe the data\n",
        "data.describe()"
      ],
      "metadata": {
        "id": "J9YokkPP4epu",
        "colab": {
          "base_uri": "https://localhost:8080/",
          "height": 0
        },
        "outputId": "54468e2b-55fe-4f67-b8c1-05c7314c9eb6"
      },
      "execution_count": 60,
      "outputs": [
        {
          "output_type": "execute_result",
          "data": {
            "text/plain": [
              "               BLOCK            LOT       ZIP CODE  RESIDENTIAL UNITS  \\\n",
              "count  229892.000000  229892.000000  229875.000000      229892.000000   \n",
              "mean     4424.852861     357.706684   10844.786445           1.986942   \n",
              "std      3656.221967     653.410115     724.762975          22.997156   \n",
              "min         1.000000       1.000000       0.000000           0.000000   \n",
              "25%      1367.000000      22.000000   10307.000000           0.000000   \n",
              "50%      3565.000000      49.000000   11210.000000           1.000000   \n",
              "75%      6579.000000     318.000000   11358.000000           2.000000   \n",
              "max     16350.000000    9116.000000   11697.000000        8764.000000   \n",
              "\n",
              "       COMMERCIAL UNITS    TOTAL UNITS     YEAR BUILT  \\\n",
              "count     229892.000000  229892.000000  213172.000000   \n",
              "mean           0.259117       2.246059    1950.440851   \n",
              "std            5.709623      23.797351      34.727294   \n",
              "min            0.000000       0.000000    1018.000000   \n",
              "25%            0.000000       1.000000    1925.000000   \n",
              "50%            0.000000       1.000000    1945.000000   \n",
              "75%            0.000000       2.000000    1970.000000   \n",
              "max         1132.000000    8812.000000    2021.000000   \n",
              "\n",
              "       TAX CLASS AT TIME OF SALE    SALE PRICE  \n",
              "count              229892.000000  2.298920e+05  \n",
              "mean                    1.618482  1.298717e+06  \n",
              "std                     0.801129  1.220568e+07  \n",
              "min                     1.000000  0.000000e+00  \n",
              "25%                     1.000000  0.000000e+00  \n",
              "50%                     1.000000  4.500000e+05  \n",
              "75%                     2.000000  8.600000e+05  \n",
              "max                     4.000000  2.397502e+09  "
            ],
            "text/html": [
              "\n",
              "  <div id=\"df-bfbd17d8-89f2-4556-b9c1-e9f5d2e6bbab\">\n",
              "    <div class=\"colab-df-container\">\n",
              "      <div>\n",
              "<style scoped>\n",
              "    .dataframe tbody tr th:only-of-type {\n",
              "        vertical-align: middle;\n",
              "    }\n",
              "\n",
              "    .dataframe tbody tr th {\n",
              "        vertical-align: top;\n",
              "    }\n",
              "\n",
              "    .dataframe thead th {\n",
              "        text-align: right;\n",
              "    }\n",
              "</style>\n",
              "<table border=\"1\" class=\"dataframe\">\n",
              "  <thead>\n",
              "    <tr style=\"text-align: right;\">\n",
              "      <th></th>\n",
              "      <th>BLOCK</th>\n",
              "      <th>LOT</th>\n",
              "      <th>ZIP CODE</th>\n",
              "      <th>RESIDENTIAL UNITS</th>\n",
              "      <th>COMMERCIAL UNITS</th>\n",
              "      <th>TOTAL UNITS</th>\n",
              "      <th>YEAR BUILT</th>\n",
              "      <th>TAX CLASS AT TIME OF SALE</th>\n",
              "      <th>SALE PRICE</th>\n",
              "    </tr>\n",
              "  </thead>\n",
              "  <tbody>\n",
              "    <tr>\n",
              "      <th>count</th>\n",
              "      <td>229892.000000</td>\n",
              "      <td>229892.000000</td>\n",
              "      <td>229875.000000</td>\n",
              "      <td>229892.000000</td>\n",
              "      <td>229892.000000</td>\n",
              "      <td>229892.000000</td>\n",
              "      <td>213172.000000</td>\n",
              "      <td>229892.000000</td>\n",
              "      <td>2.298920e+05</td>\n",
              "    </tr>\n",
              "    <tr>\n",
              "      <th>mean</th>\n",
              "      <td>4424.852861</td>\n",
              "      <td>357.706684</td>\n",
              "      <td>10844.786445</td>\n",
              "      <td>1.986942</td>\n",
              "      <td>0.259117</td>\n",
              "      <td>2.246059</td>\n",
              "      <td>1950.440851</td>\n",
              "      <td>1.618482</td>\n",
              "      <td>1.298717e+06</td>\n",
              "    </tr>\n",
              "    <tr>\n",
              "      <th>std</th>\n",
              "      <td>3656.221967</td>\n",
              "      <td>653.410115</td>\n",
              "      <td>724.762975</td>\n",
              "      <td>22.997156</td>\n",
              "      <td>5.709623</td>\n",
              "      <td>23.797351</td>\n",
              "      <td>34.727294</td>\n",
              "      <td>0.801129</td>\n",
              "      <td>1.220568e+07</td>\n",
              "    </tr>\n",
              "    <tr>\n",
              "      <th>min</th>\n",
              "      <td>1.000000</td>\n",
              "      <td>1.000000</td>\n",
              "      <td>0.000000</td>\n",
              "      <td>0.000000</td>\n",
              "      <td>0.000000</td>\n",
              "      <td>0.000000</td>\n",
              "      <td>1018.000000</td>\n",
              "      <td>1.000000</td>\n",
              "      <td>0.000000e+00</td>\n",
              "    </tr>\n",
              "    <tr>\n",
              "      <th>25%</th>\n",
              "      <td>1367.000000</td>\n",
              "      <td>22.000000</td>\n",
              "      <td>10307.000000</td>\n",
              "      <td>0.000000</td>\n",
              "      <td>0.000000</td>\n",
              "      <td>1.000000</td>\n",
              "      <td>1925.000000</td>\n",
              "      <td>1.000000</td>\n",
              "      <td>0.000000e+00</td>\n",
              "    </tr>\n",
              "    <tr>\n",
              "      <th>50%</th>\n",
              "      <td>3565.000000</td>\n",
              "      <td>49.000000</td>\n",
              "      <td>11210.000000</td>\n",
              "      <td>1.000000</td>\n",
              "      <td>0.000000</td>\n",
              "      <td>1.000000</td>\n",
              "      <td>1945.000000</td>\n",
              "      <td>1.000000</td>\n",
              "      <td>4.500000e+05</td>\n",
              "    </tr>\n",
              "    <tr>\n",
              "      <th>75%</th>\n",
              "      <td>6579.000000</td>\n",
              "      <td>318.000000</td>\n",
              "      <td>11358.000000</td>\n",
              "      <td>2.000000</td>\n",
              "      <td>0.000000</td>\n",
              "      <td>2.000000</td>\n",
              "      <td>1970.000000</td>\n",
              "      <td>2.000000</td>\n",
              "      <td>8.600000e+05</td>\n",
              "    </tr>\n",
              "    <tr>\n",
              "      <th>max</th>\n",
              "      <td>16350.000000</td>\n",
              "      <td>9116.000000</td>\n",
              "      <td>11697.000000</td>\n",
              "      <td>8764.000000</td>\n",
              "      <td>1132.000000</td>\n",
              "      <td>8812.000000</td>\n",
              "      <td>2021.000000</td>\n",
              "      <td>4.000000</td>\n",
              "      <td>2.397502e+09</td>\n",
              "    </tr>\n",
              "  </tbody>\n",
              "</table>\n",
              "</div>\n",
              "      <button class=\"colab-df-convert\" onclick=\"convertToInteractive('df-bfbd17d8-89f2-4556-b9c1-e9f5d2e6bbab')\"\n",
              "              title=\"Convert this dataframe to an interactive table.\"\n",
              "              style=\"display:none;\">\n",
              "        \n",
              "  <svg xmlns=\"http://www.w3.org/2000/svg\" height=\"24px\"viewBox=\"0 0 24 24\"\n",
              "       width=\"24px\">\n",
              "    <path d=\"M0 0h24v24H0V0z\" fill=\"none\"/>\n",
              "    <path d=\"M18.56 5.44l.94 2.06.94-2.06 2.06-.94-2.06-.94-.94-2.06-.94 2.06-2.06.94zm-11 1L8.5 8.5l.94-2.06 2.06-.94-2.06-.94L8.5 2.5l-.94 2.06-2.06.94zm10 10l.94 2.06.94-2.06 2.06-.94-2.06-.94-.94-2.06-.94 2.06-2.06.94z\"/><path d=\"M17.41 7.96l-1.37-1.37c-.4-.4-.92-.59-1.43-.59-.52 0-1.04.2-1.43.59L10.3 9.45l-7.72 7.72c-.78.78-.78 2.05 0 2.83L4 21.41c.39.39.9.59 1.41.59.51 0 1.02-.2 1.41-.59l7.78-7.78 2.81-2.81c.8-.78.8-2.07 0-2.86zM5.41 20L4 18.59l7.72-7.72 1.47 1.35L5.41 20z\"/>\n",
              "  </svg>\n",
              "      </button>\n",
              "      \n",
              "  <style>\n",
              "    .colab-df-container {\n",
              "      display:flex;\n",
              "      flex-wrap:wrap;\n",
              "      gap: 12px;\n",
              "    }\n",
              "\n",
              "    .colab-df-convert {\n",
              "      background-color: #E8F0FE;\n",
              "      border: none;\n",
              "      border-radius: 50%;\n",
              "      cursor: pointer;\n",
              "      display: none;\n",
              "      fill: #1967D2;\n",
              "      height: 32px;\n",
              "      padding: 0 0 0 0;\n",
              "      width: 32px;\n",
              "    }\n",
              "\n",
              "    .colab-df-convert:hover {\n",
              "      background-color: #E2EBFA;\n",
              "      box-shadow: 0px 1px 2px rgba(60, 64, 67, 0.3), 0px 1px 3px 1px rgba(60, 64, 67, 0.15);\n",
              "      fill: #174EA6;\n",
              "    }\n",
              "\n",
              "    [theme=dark] .colab-df-convert {\n",
              "      background-color: #3B4455;\n",
              "      fill: #D2E3FC;\n",
              "    }\n",
              "\n",
              "    [theme=dark] .colab-df-convert:hover {\n",
              "      background-color: #434B5C;\n",
              "      box-shadow: 0px 1px 3px 1px rgba(0, 0, 0, 0.15);\n",
              "      filter: drop-shadow(0px 1px 2px rgba(0, 0, 0, 0.3));\n",
              "      fill: #FFFFFF;\n",
              "    }\n",
              "  </style>\n",
              "\n",
              "      <script>\n",
              "        const buttonEl =\n",
              "          document.querySelector('#df-bfbd17d8-89f2-4556-b9c1-e9f5d2e6bbab button.colab-df-convert');\n",
              "        buttonEl.style.display =\n",
              "          google.colab.kernel.accessAllowed ? 'block' : 'none';\n",
              "\n",
              "        async function convertToInteractive(key) {\n",
              "          const element = document.querySelector('#df-bfbd17d8-89f2-4556-b9c1-e9f5d2e6bbab');\n",
              "          const dataTable =\n",
              "            await google.colab.kernel.invokeFunction('convertToInteractive',\n",
              "                                                     [key], {});\n",
              "          if (!dataTable) return;\n",
              "\n",
              "          const docLinkHtml = 'Like what you see? Visit the ' +\n",
              "            '<a target=\"_blank\" href=https://colab.research.google.com/notebooks/data_table.ipynb>data table notebook</a>'\n",
              "            + ' to learn more about interactive tables.';\n",
              "          element.innerHTML = '';\n",
              "          dataTable['output_type'] = 'display_data';\n",
              "          await google.colab.output.renderOutput(dataTable, element);\n",
              "          const docLink = document.createElement('div');\n",
              "          docLink.innerHTML = docLinkHtml;\n",
              "          element.appendChild(docLink);\n",
              "        }\n",
              "      </script>\n",
              "    </div>\n",
              "  </div>\n",
              "  "
            ]
          },
          "metadata": {},
          "execution_count": 60
        }
      ]
    },
    {
      "cell_type": "markdown",
      "source": [
        "Zip Code contains 0 values should be replaced with nulls to handle it."
      ],
      "metadata": {
        "id": "b3U9toON4hV6"
      }
    },
    {
      "cell_type": "code",
      "source": [
        "#replace 0 with nulls\n",
        "data['ZIP CODE']= data['ZIP CODE'].replace(0.,np.nan)"
      ],
      "metadata": {
        "id": "a5t6DAga0WEX"
      },
      "execution_count": 61,
      "outputs": []
    },
    {
      "cell_type": "code",
      "source": [
        "#check nulls percentage of each column\n",
        "data.isnull().sum()* 100 / len(data)"
      ],
      "metadata": {
        "id": "p-WNddEky8Wa",
        "colab": {
          "base_uri": "https://localhost:8080/"
        },
        "outputId": "f696557d-bd96-436a-8414-ad25a859d743"
      },
      "execution_count": 62,
      "outputs": [
        {
          "output_type": "execute_result",
          "data": {
            "text/plain": [
              "BOROUGH                            0.000000\n",
              "NEIGHBORHOOD                       0.000000\n",
              "BUILDING CLASS CATEGORY            0.000000\n",
              "TAX CLASS AT PRESENT               0.118751\n",
              "BLOCK                              0.000000\n",
              "LOT                                0.000000\n",
              "BUILDING CLASS AT PRESENT          0.118751\n",
              "ADDRESS                            0.000000\n",
              "ZIP CODE                           0.189654\n",
              "RESIDENTIAL UNITS                  0.000000\n",
              "COMMERCIAL UNITS                   0.000000\n",
              "TOTAL UNITS                        0.000000\n",
              "LAND SQUARE FEET                  18.689211\n",
              "GROSS SQUARE FEET                 18.688776\n",
              "YEAR BUILT                         7.272980\n",
              "TAX CLASS AT TIME OF SALE          0.000000\n",
              "BUILDING CLASS AT TIME OF SALE     0.000000\n",
              "SALE PRICE                         0.000000\n",
              "SALE DATE                          0.000000\n",
              "dtype: float64"
            ]
          },
          "metadata": {},
          "execution_count": 62
        }
      ]
    },
    {
      "cell_type": "markdown",
      "source": [
        "We can drop Nulls from columns TAX CLASS AT PRESENT, BUILDING CLASS AT PRESENT and ZIP CODE\n"
      ],
      "metadata": {
        "id": "CEq43T6KoEXJ"
      }
    },
    {
      "cell_type": "code",
      "source": [
        "#drop useless columns\n",
        "data=data.dropna(subset=['TAX CLASS AT PRESENT', 'BUILDING CLASS AT PRESENT','ZIP CODE'])"
      ],
      "metadata": {
        "id": "O2GIkgZPoDD4"
      },
      "execution_count": 63,
      "outputs": []
    },
    {
      "cell_type": "code",
      "source": [
        "data['ZIP CODE'].unique()"
      ],
      "metadata": {
        "id": "pJegSTV5zboK",
        "colab": {
          "base_uri": "https://localhost:8080/"
        },
        "outputId": "87a7f5ef-b90c-452e-c245-46d854b49387"
      },
      "execution_count": 64,
      "outputs": [
        {
          "output_type": "execute_result",
          "data": {
            "text/plain": [
              "array([10033., 10023., 10024., 10069., 10025., 10019., 10032., 10030.,\n",
              "       10040., 10022., 10065., 10021., 10075., 10028., 10128., 10029.,\n",
              "       10011., 10014., 10003., 10012., 10027., 10026., 10031., 10035.,\n",
              "       10037., 10010., 10016., 10018., 10001., 10034., 10463., 10039.,\n",
              "       10013., 10002., 10038., 10007., 10036., 10009., 10005., 10006.,\n",
              "       10004., 10044., 10105., 10020., 10280., 10282., 10017., 10171.,\n",
              "       10167., 10169., 10177., 10179., 10170., 10172., 10468., 10456.,\n",
              "       10451., 10452., 10454., 10462., 10471., 10461., 10455., 10453.,\n",
              "       10474., 10457., 10458., 10460., 10459., 10467., 10469., 10466.,\n",
              "       10475., 10465., 10472., 10473., 10464., 10470., 11211., 11249.,\n",
              "       11220., 11232., 11215., 11231., 11218., 11237., 11206., 11222.,\n",
              "       11205., 11219., 11204., 11230., 11217., 11201., 11234., 11214.,\n",
              "       11212., 11221., 11207., 11235., 11223., 11209., 11228., 11233.,\n",
              "       11213., 11216., 11238., 11224., 11229., 11239., 11208., 11210.,\n",
              "       11225., 11236., 11203., 11226., 11227., 11354., 11358., 11355.,\n",
              "       11357., 11365., 11367., 11364., 11361., 11377., 11368., 11366.,\n",
              "       11373., 11378., 11372., 11369., 11362., 11363., 11417., 11001.,\n",
              "       11040., 11004., 11375., 11691., 11421., 11429., 11432., 11423.,\n",
              "       11412., 11427., 11428., 11414., 11433., 11385., 11693., 11694.,\n",
              "       11379., 11435., 11370., 11374., 11426., 11005., 11411., 11434.,\n",
              "       11104., 11101., 11413., 11418., 11692., 11356., 11422., 11436.,\n",
              "       11419., 11416., 11420., 11415., 11697., 11360., 11102., 11105.,\n",
              "       11103., 11106., 11109., 11430., 11351., 10312., 10308., 10306.,\n",
              "       10304., 10301., 10305., 10309., 10310., 10314., 10303., 10302.,\n",
              "       10307.])"
            ]
          },
          "metadata": {},
          "execution_count": 64
        }
      ]
    },
    {
      "cell_type": "code",
      "source": [
        "data['ZIP CODE'].value_counts()"
      ],
      "metadata": {
        "id": "juUMp48czfJU",
        "colab": {
          "base_uri": "https://localhost:8080/"
        },
        "outputId": "15c00bc3-e085-46a2-f57b-fde173cd1985"
      },
      "execution_count": 65,
      "outputs": [
        {
          "output_type": "execute_result",
          "data": {
            "text/plain": [
              "10314.0    4091\n",
              "10023.0    3352\n",
              "10312.0    3339\n",
              "11234.0    3325\n",
              "11235.0    3260\n",
              "           ... \n",
              "10171.0       1\n",
              "10167.0       1\n",
              "10169.0       1\n",
              "10177.0       1\n",
              "11227.0       1\n",
              "Name: ZIP CODE, Length: 193, dtype: int64"
            ]
          },
          "metadata": {},
          "execution_count": 65
        }
      ]
    },
    {
      "cell_type": "markdown",
      "source": [
        "#### We'll visualize our data to answer the question."
      ],
      "metadata": {
        "id": "2dhcSM3i18pk"
      }
    },
    {
      "cell_type": "code",
      "source": [
        "data['NEIGHBORHOOD'].value_counts()"
      ],
      "metadata": {
        "id": "_DXdE4gznfG0",
        "colab": {
          "base_uri": "https://localhost:8080/"
        },
        "outputId": "4282341f-eb94-4add-83b7-0b0ca2334809"
      },
      "execution_count": 66,
      "outputs": [
        {
          "output_type": "execute_result",
          "data": {
            "text/plain": [
              "FLUSHING-NORTH              6974\n",
              "UPPER EAST SIDE (59-79)     4644\n",
              "UPPER WEST SIDE (59-79)     4135\n",
              "UPPER EAST SIDE (79-96)     4054\n",
              "BEDFORD STUYVESANT          3855\n",
              "                            ... \n",
              "BRONX PARK                    13\n",
              "BLOOMFIELD                    12\n",
              "CITY ISLAND-PELHAM STRIP       6\n",
              "FRESH KILLS                    3\n",
              "AIRPORT JFK                    1\n",
              "Name: NEIGHBORHOOD, Length: 254, dtype: int64"
            ]
          },
          "metadata": {},
          "execution_count": 66
        }
      ]
    },
    {
      "cell_type": "code",
      "source": [
        "#visualize specific parts of data\n",
        "plt.figure(figsize=(15,6))\n",
        "sns.boxplot(x='NEIGHBORHOOD', y=\"ZIP CODE\", data=pd.concat([data[data['NEIGHBORHOOD']=='FLUSHING-NORTH'],\n",
        "                                                            data[data['NEIGHBORHOOD']=='UPPER EAST SIDE (59-79)'],\n",
        "                                                            data[data['NEIGHBORHOOD']=='UPPER WEST SIDE (59-79)'],\n",
        "                                                            data[data['NEIGHBORHOOD']=='UPPER EAST SIDE (79-96)'],\n",
        "                                                            data[data['NEIGHBORHOOD']=='BEDFORD STUYVESANT'],\n",
        "                                                            data[data['NEIGHBORHOOD']=='MORNINGSIDE HEIGHTS']\n",
        "                                                            ],axis=0))"
      ],
      "metadata": {
        "id": "gz9NXtVyGFSR",
        "colab": {
          "base_uri": "https://localhost:8080/",
          "height": 0
        },
        "outputId": "a0560105-6fd4-4a6d-db24-f25c083248b0"
      },
      "execution_count": 67,
      "outputs": [
        {
          "output_type": "execute_result",
          "data": {
            "text/plain": [
              "<matplotlib.axes._subplots.AxesSubplot at 0x7f19a111fd50>"
            ]
          },
          "metadata": {},
          "execution_count": 67
        },
        {
          "output_type": "display_data",
          "data": {
            "text/plain": [
              "<Figure size 1080x432 with 1 Axes>"
            ],
            "image/png": "[encoded data removed]"
          },
          "metadata": {
            "needs_background": "light"
          }
        }
      ]
    },
    {
      "cell_type": "code",
      "source": [
        "sns.catplot(x=\"NEIGHBORHOOD\", y=\"ZIP CODE\", hue=\"BOROUGH\", kind=\"bar\",height=7, \n",
        "            data=data[data['BOROUGH']=='Bronx'])\n",
        "plt.xticks(rotation=90)"
      ],
      "metadata": {
        "id": "J6Rt5GGlL620",
        "colab": {
          "base_uri": "https://localhost:8080/",
          "height": 0
        },
        "outputId": "2f161a41-49a6-4984-f9a7-19f6bbf26349"
      },
      "execution_count": 68,
      "outputs": [
        {
          "output_type": "execute_result",
          "data": {
            "text/plain": [
              "(array([ 0,  1,  2,  3,  4,  5,  6,  7,  8,  9, 10, 11, 12, 13, 14, 15, 16,\n",
              "        17, 18, 19, 20, 21, 22, 23, 24, 25, 26, 27, 28, 29, 30, 31, 32, 33,\n",
              "        34, 35, 36]), <a list of 37 Text major ticklabel objects>)"
            ]
          },
          "metadata": {},
          "execution_count": 68
        },
        {
          "output_type": "display_data",
          "data": {
            "text/plain": [
              "<Figure size 605.625x504 with 1 Axes>"
            ],
            "image/png": "[encoded data removed]"
          },
          "metadata": {
            "needs_background": "light"
          }
        }
      ]
    },
    {
      "cell_type": "code",
      "source": [
        "sns.catplot(x=\"NEIGHBORHOOD\", y=\"ZIP CODE\", hue=\"BOROUGH\",height=6, kind=\"bar\", data=pd.concat([data[data['NEIGHBORHOOD']=='FLUSHING-NORTH'],\n",
        "                                                                                                data[data['NEIGHBORHOOD']=='UPPER EAST SIDE (59-79)'],\n",
        "                                                                                                data[data['NEIGHBORHOOD']=='UPPER WEST SIDE (59-79)'],\n",
        "                                                                                                data[data['NEIGHBORHOOD']=='UPPER EAST SIDE (79-96)'],\n",
        "                                                                                                data[data['NEIGHBORHOOD']=='BEDFORD STUYVESANT'],\n",
        "                                                                                                data[data['NEIGHBORHOOD']=='MORNINGSIDE HEIGHTS']\n",
        "                                                                                                ],axis=0))\n",
        "plt.xticks(rotation=90)"
      ],
      "metadata": {
        "id": "mu5rSZAtqb4u",
        "colab": {
          "base_uri": "https://localhost:8080/",
          "height": 0
        },
        "outputId": "163562b6-d197-4f26-c802-00cb9d67b5dd"
      },
      "execution_count": 69,
      "outputs": [
        {
          "output_type": "execute_result",
          "data": {
            "text/plain": [
              "(array([0, 1, 2, 3, 4, 5]), <a list of 6 Text major ticklabel objects>)"
            ]
          },
          "metadata": {},
          "execution_count": 69
        },
        {
          "output_type": "display_data",
          "data": {
            "text/plain": [
              "<Figure size 533.625x432 with 1 Axes>"
            ],
            "image/png": "[encoded data removed]"
          },
          "metadata": {
            "needs_background": "light"
          }
        }
      ]
    },
    {
      "cell_type": "code",
      "source": [
        "sns.catplot(x=\"NEIGHBORHOOD\", y=\"ZIP CODE\", hue=\"BOROUGH\", kind=\"bar\",height=5, \n",
        "            data=data[data['BOROUGH']=='Queens'][data['NEIGHBORHOOD']=='FLUSHING-NORTH'])"
      ],
      "metadata": {
        "id": "WqMpfgX1IBsJ",
        "colab": {
          "base_uri": "https://localhost:8080/",
          "height": 0
        },
        "outputId": "497542e5-b0ef-417c-8a8b-59f446253638"
      },
      "execution_count": 70,
      "outputs": [
        {
          "output_type": "stream",
          "name": "stderr",
          "text": [
            "/usr/local/lib/python3.7/dist-packages/ipykernel_launcher.py:2: UserWarning:\n",
            "\n",
            "Boolean Series key will be reindexed to match DataFrame index.\n",
            "\n"
          ]
        },
        {
          "output_type": "execute_result",
          "data": {
            "text/plain": [
              "<seaborn.axisgrid.FacetGrid at 0x7f199b567850>"
            ]
          },
          "metadata": {},
          "execution_count": 70
        },
        {
          "output_type": "display_data",
          "data": {
            "text/plain": [
              "<Figure size 461.625x360 with 1 Axes>"
            ],
            "image/png": "[encoded data removed]"
          },
          "metadata": {
            "needs_background": "light"
          }
        }
      ]
    },
    {
      "cell_type": "code",
      "source": [
        "sns.catplot(x=\"NEIGHBORHOOD\", y=\"ZIP CODE\", hue=\"BOROUGH\", kind=\"bar\",height=5, data=data[data['NEIGHBORHOOD']=='UPPER EAST SIDE (59-79)'])"
      ],
      "metadata": {
        "id": "1MHJOoLou_Kw",
        "colab": {
          "base_uri": "https://localhost:8080/",
          "height": 0
        },
        "outputId": "13eb4920-9d4d-4f22-c6fd-70d06b575478"
      },
      "execution_count": 71,
      "outputs": [
        {
          "output_type": "execute_result",
          "data": {
            "text/plain": [
              "<seaborn.axisgrid.FacetGrid at 0x7f199af8fbd0>"
            ]
          },
          "metadata": {},
          "execution_count": 71
        },
        {
          "output_type": "display_data",
          "data": {
            "text/plain": [
              "<Figure size 461.625x360 with 1 Axes>"
            ],
            "image/png": "[encoded data removed]"
          },
          "metadata": {
            "needs_background": "light"
          }
        }
      ]
    },
    {
      "cell_type": "markdown",
      "source": [
        "### Answer to Question 2\n",
        "## The Neighborhood at specific borough contains the same zipcode."
      ],
      "metadata": {
        "id": "B8kFNWjgLH67"
      }
    },
    {
      "cell_type": "markdown",
      "source": [
        "### Exploring data"
      ],
      "metadata": {
        "id": "M37CyYdwbfha"
      }
    },
    {
      "cell_type": "code",
      "source": [
        "# house prices greater than 5 mln probably represents outliers.\n",
        "import matplotlib.ticker as ticker\n",
        "\n",
        "sns.set_style(\"whitegrid\")\n",
        "plt.figure(figsize=(10,5))\n",
        "plotd = sns.distplot(data[(data['SALE PRICE']>100) & (data['SALE PRICE'] < 5000000)]['SALE PRICE'], kde=True, bins=100)\n",
        "\n",
        "tick_spacing=250000 # set spacing for each tick\n",
        "plotd.xaxis.set_major_locator(ticker.MultipleLocator(tick_spacing))\n",
        "plotd.set_xlim([-100000, 5000000]) # do not show negative values \n",
        "plt.xticks(rotation=30) # rotate x ticks by 30 degrees\n",
        "plt.axvline(data[(data['SALE PRICE']>100) & (data['SALE PRICE'] < 5000000)]['SALE PRICE'].mean(), c='red')\n",
        "plt.axvline(data[(data['SALE PRICE']>100) & (data['SALE PRICE'] < 5000000)]['SALE PRICE'].median(), c='blue')\n",
        "plt.text(250000,0.0000012, \"median\")\n",
        "plt.text(850000,0.0000010, \"mean\")\n",
        "plt.show()"
      ],
      "metadata": {
        "id": "IlJuJu2IF7pn",
        "colab": {
          "base_uri": "https://localhost:8080/",
          "height": 0
        },
        "outputId": "da25087e-96ad-47ea-b9a4-3af5548ee782"
      },
      "execution_count": 72,
      "outputs": [
        {
          "output_type": "stream",
          "name": "stderr",
          "text": [
            "/usr/local/lib/python3.7/dist-packages/seaborn/distributions.py:2619: FutureWarning:\n",
            "\n",
            "`distplot` is a deprecated function and will be removed in a future version. Please adapt your code to use either `displot` (a figure-level function with similar flexibility) or `histplot` (an axes-level function for histograms).\n",
            "\n"
          ]
        },
        {
          "output_type": "display_data",
          "data": {
            "text/plain": [
              "<Figure size 720x360 with 1 Axes>"
            ],
            "image/png": "[encoded data removed]"
          },
          "metadata": {}
        }
      ]
    },
    {
      "cell_type": "code",
      "source": [
        "df = data[(data['SALE PRICE'] > 10000) & (data['SALE PRICE'] < 10000000)]\n",
        "\n",
        "plt.figure(figsize=(12,5))\n",
        "sns.displot(df['SALE PRICE'], bins=40, rug=True)\n",
        "plt.show()"
      ],
      "metadata": {
        "id": "HMOPJEn7kSWe",
        "colab": {
          "base_uri": "https://localhost:8080/",
          "height": 0
        },
        "outputId": "1c3a6bd3-4305-482d-8327-060a2e2d772d"
      },
      "execution_count": 73,
      "outputs": [
        {
          "output_type": "display_data",
          "data": {
            "text/plain": [
              "<Figure size 864x360 with 0 Axes>"
            ]
          },
          "metadata": {}
        },
        {
          "output_type": "display_data",
          "data": {
            "text/plain": [
              "<Figure size 360x360 with 1 Axes>"
            ],
            "image/png": "[encoded data removed]"
          },
          "metadata": {}
        }
      ]
    },
    {
      "cell_type": "markdown",
      "metadata": {
        "id": "MBc4iTNR4dgu"
      },
      "source": [
        "## Task 3\n",
        "#### Data Exploration via Statistical Test Raise one question that can be answered by performing hypothesis test. Briefely mention why you think this question would be interesting to whom (who is your audience). Also mention which statistical test you would choose and why."
      ]
    },
    {
      "cell_type": "markdown",
      "metadata": {
        "id": "fncnyu3a4dgv"
      },
      "source": [
        "### Null hypothesis: {BUILDING CLASS has the same sale price at sale and at present}\n",
        "\n",
        "### Alternative hypothesis: {BUILDING CLASS doesn't have the same sale price at sale and at present}"
      ]
    },
    {
      "cell_type": "code",
      "source": [
        "# TODO write code to perform task 3\n",
        "#check value counts in this column\n",
        "data['BUILDING CLASS AT PRESENT'].value_counts()"
      ],
      "metadata": {
        "id": "stSbtCN8ntF-",
        "colab": {
          "base_uri": "https://localhost:8080/"
        },
        "outputId": "7b834327-eab7-4f25-e5dc-c12555158eb8"
      },
      "execution_count": 74,
      "outputs": [
        {
          "output_type": "execute_result",
          "data": {
            "text/plain": [
              "D4    34197\n",
              "R4    32144\n",
              "A1    20249\n",
              "A5    16595\n",
              "B2    13924\n",
              "      ...  \n",
              "P4        1\n",
              "H5        1\n",
              "Z4        1\n",
              "Y3        1\n",
              "V7        1\n",
              "Name: BUILDING CLASS AT PRESENT, Length: 179, dtype: int64"
            ]
          },
          "metadata": {},
          "execution_count": 74
        }
      ]
    },
    {
      "cell_type": "code",
      "source": [
        "#check value counts\n",
        "data['BUILDING CLASS AT TIME OF SALE'].value_counts()"
      ],
      "metadata": {
        "id": "vzknUUBenv3_",
        "colab": {
          "base_uri": "https://localhost:8080/"
        },
        "outputId": "15558adf-35ef-4a66-f39a-b2921507b256"
      },
      "execution_count": 75,
      "outputs": [
        {
          "output_type": "execute_result",
          "data": {
            "text/plain": [
              "D4      21845\n",
              "R4      20204\n",
              "A1      13094\n",
              " D4     12352\n",
              " R4     11677\n",
              "        ...  \n",
              " F8         1\n",
              " H5         1\n",
              "Z4          1\n",
              "L2          1\n",
              " T2         1\n",
              "Name: BUILDING CLASS AT TIME OF SALE, Length: 330, dtype: int64"
            ]
          },
          "metadata": {},
          "execution_count": 75
        }
      ]
    },
    {
      "cell_type": "code",
      "source": [
        "#convert features to category\n",
        "data['BUILDING CLASS AT TIME OF SALE']=data['BUILDING CLASS AT TIME OF SALE'].astype('category')\n",
        "data['BUILDING CLASS AT PRESENT']=data['BUILDING CLASS AT PRESENT'].astype('category')"
      ],
      "metadata": {
        "id": "dRXd_IlaEDnj",
        "colab": {
          "base_uri": "https://localhost:8080/"
        },
        "outputId": "9a093210-7eec-499b-bd6f-15316a0dd224"
      },
      "execution_count": 76,
      "outputs": [
        {
          "output_type": "stream",
          "name": "stderr",
          "text": [
            "/usr/local/lib/python3.7/dist-packages/ipykernel_launcher.py:2: SettingWithCopyWarning:\n",
            "\n",
            "\n",
            "A value is trying to be set on a copy of a slice from a DataFrame.\n",
            "Try using .loc[row_indexer,col_indexer] = value instead\n",
            "\n",
            "See the caveats in the documentation: https://pandas.pydata.org/pandas-docs/stable/user_guide/indexing.html#returning-a-view-versus-a-copy\n",
            "\n",
            "/usr/local/lib/python3.7/dist-packages/ipykernel_launcher.py:3: SettingWithCopyWarning:\n",
            "\n",
            "\n",
            "A value is trying to be set on a copy of a slice from a DataFrame.\n",
            "Try using .loc[row_indexer,col_indexer] = value instead\n",
            "\n",
            "See the caveats in the documentation: https://pandas.pydata.org/pandas-docs/stable/user_guide/indexing.html#returning-a-view-versus-a-copy\n",
            "\n"
          ]
        }
      ]
    },
    {
      "cell_type": "code",
      "source": [
        "#check null hypothies with statistics\n",
        "from scipy import stats\n",
        "sale = data[data['BUILDING CLASS AT TIME OF SALE'] == 'D4']['SALE PRICE']\n",
        "present = data[data['BUILDING CLASS AT PRESENT'] == 'D4']['SALE PRICE']\n",
        "stats.ttest_ind(sale, present)"
      ],
      "metadata": {
        "id": "dOJiJpVg72Bc",
        "colab": {
          "base_uri": "https://localhost:8080/"
        },
        "outputId": "3a4022b2-88f3-4049-9ddb-0e078337d25f"
      },
      "execution_count": 77,
      "outputs": [
        {
          "output_type": "execute_result",
          "data": {
            "text/plain": [
              "Ttest_indResult(statistic=4.4639253703624435, pvalue=8.062831700399736e-06)"
            ]
          },
          "metadata": {},
          "execution_count": 77
        }
      ]
    },
    {
      "cell_type": "markdown",
      "source": [
        "## pvalue < 0.05, it means Alternative hypothies is right."
      ],
      "metadata": {
        "id": "se3Q3jWM8_rp"
      }
    },
    {
      "cell_type": "markdown",
      "metadata": {
        "id": "bnv3rOVB4dgv"
      },
      "source": [
        "## Task 4\n",
        "#### Feature Engineering. If we would like to predict the house sale price. Analyze the scale of each attribute and determine which ones you would transfer (e.g., cateogorical features). Discuss how you plan to select important features."
      ]
    },
    {
      "cell_type": "markdown",
      "source": [
        "* We can drop Neighborhood column and Address because we have zipcode which refers to location.\n",
        "* Convert date to month and year.\n",
        "* Drop building class category because it's the same with building calss at present."
      ],
      "metadata": {
        "id": "bX2DH7lPO-Dm"
      }
    },
    {
      "cell_type": "code",
      "source": [
        "# TODO for Task 4\n",
        "# 'SALE DATE' can be split into month and year\n",
        "\n",
        "data['SALE DATE']= pd.to_datetime(data['SALE DATE'], errors='coerce')\n",
        "data['SALE MONTH'] = pd.DatetimeIndex(data['SALE DATE']).month.astype(\"category\")\n",
        "data['SALE YEAR'] = pd.DatetimeIndex(data['SALE DATE']).year.astype(\"category\")"
      ],
      "metadata": {
        "id": "ffYHf69NjKAy",
        "colab": {
          "base_uri": "https://localhost:8080/"
        },
        "outputId": "70b6cf49-e896-43be-ac42-7caa58f366f1"
      },
      "execution_count": 78,
      "outputs": [
        {
          "output_type": "stream",
          "name": "stderr",
          "text": [
            "/usr/local/lib/python3.7/dist-packages/ipykernel_launcher.py:4: SettingWithCopyWarning:\n",
            "\n",
            "\n",
            "A value is trying to be set on a copy of a slice from a DataFrame.\n",
            "Try using .loc[row_indexer,col_indexer] = value instead\n",
            "\n",
            "See the caveats in the documentation: https://pandas.pydata.org/pandas-docs/stable/user_guide/indexing.html#returning-a-view-versus-a-copy\n",
            "\n",
            "/usr/local/lib/python3.7/dist-packages/ipykernel_launcher.py:5: SettingWithCopyWarning:\n",
            "\n",
            "\n",
            "A value is trying to be set on a copy of a slice from a DataFrame.\n",
            "Try using .loc[row_indexer,col_indexer] = value instead\n",
            "\n",
            "See the caveats in the documentation: https://pandas.pydata.org/pandas-docs/stable/user_guide/indexing.html#returning-a-view-versus-a-copy\n",
            "\n",
            "/usr/local/lib/python3.7/dist-packages/ipykernel_launcher.py:6: SettingWithCopyWarning:\n",
            "\n",
            "\n",
            "A value is trying to be set on a copy of a slice from a DataFrame.\n",
            "Try using .loc[row_indexer,col_indexer] = value instead\n",
            "\n",
            "See the caveats in the documentation: https://pandas.pydata.org/pandas-docs/stable/user_guide/indexing.html#returning-a-view-versus-a-copy\n",
            "\n"
          ]
        }
      ]
    },
    {
      "cell_type": "code",
      "source": [
        "data=data.drop(columns=['ADDRESS','NEIGHBORHOOD','SALE DATE','BUILDING CLASS CATEGORY'])"
      ],
      "metadata": {
        "id": "leErEFBslBO0"
      },
      "execution_count": 79,
      "outputs": []
    },
    {
      "cell_type": "code",
      "source": [
        "data['LAND SQUARE FEET'].value_counts()"
      ],
      "metadata": {
        "id": "IXF-uy2AP4U1",
        "colab": {
          "base_uri": "https://localhost:8080/"
        },
        "outputId": "dd14e36c-1cd5-4d88-e731-23d12ac21585"
      },
      "execution_count": 80,
      "outputs": [
        {
          "output_type": "execute_result",
          "data": {
            "text/plain": [
              "0         45818\n",
              "2,000     10852\n",
              "2,500      9742\n",
              "4,000      8927\n",
              "3,000      3653\n",
              "          ...  \n",
              "4,931         1\n",
              "479           1\n",
              "11,149        1\n",
              "32,293        1\n",
              "4,402         1\n",
              "Name: LAND SQUARE FEET, Length: 9986, dtype: int64"
            ]
          },
          "metadata": {},
          "execution_count": 80
        }
      ]
    },
    {
      "cell_type": "code",
      "source": [
        "data['LAND SQUARE FEET'].unique()"
      ],
      "metadata": {
        "id": "ryyC2ygsY38y",
        "colab": {
          "base_uri": "https://localhost:8080/"
        },
        "outputId": "e69cddb9-f4e1-42b7-e75d-c8421d7aa716"
      },
      "execution_count": 81,
      "outputs": [
        {
          "output_type": "execute_result",
          "data": {
            "text/plain": [
              "array([nan, '0', '1,839', ..., '8,769', '9,831', '4,402'], dtype=object)"
            ]
          },
          "metadata": {},
          "execution_count": 81
        }
      ]
    },
    {
      "cell_type": "code",
      "source": [
        "data['GROSS SQUARE FEET'] = data['GROSS SQUARE FEET'].str.translate(str.maketrans({',':''}))\n",
        "data['LAND SQUARE FEET'] = data['LAND SQUARE FEET'].str.translate(str.maketrans({',':''}))"
      ],
      "metadata": {
        "id": "WelHUAOOZ2go"
      },
      "execution_count": 82,
      "outputs": []
    },
    {
      "cell_type": "code",
      "source": [
        "data['LAND SQUARE FEET'].unique()"
      ],
      "metadata": {
        "id": "6UNXR5Bzc4gg",
        "colab": {
          "base_uri": "https://localhost:8080/"
        },
        "outputId": "a6f3210f-3bb0-4e04-921f-1f408327a4ff"
      },
      "execution_count": 83,
      "outputs": [
        {
          "output_type": "execute_result",
          "data": {
            "text/plain": [
              "array([nan, '0', '1839', ..., '8769', '9831', '4402'], dtype=object)"
            ]
          },
          "metadata": {},
          "execution_count": 83
        }
      ]
    },
    {
      "cell_type": "code",
      "source": [
        "msno.heatmap(data)"
      ],
      "metadata": {
        "id": "Q9HNRbgva__B",
        "colab": {
          "base_uri": "https://localhost:8080/",
          "height": 809
        },
        "outputId": "6de87458-8dbc-4dbc-d7fa-3367c95f280b"
      },
      "execution_count": 84,
      "outputs": [
        {
          "output_type": "execute_result",
          "data": {
            "text/plain": [
              "<matplotlib.axes._subplots.AxesSubplot at 0x7f1996b75790>"
            ]
          },
          "metadata": {},
          "execution_count": 84
        },
        {
          "output_type": "display_data",
          "data": {
            "text/plain": [
              "<Figure size 1440x864 with 2 Axes>"
            ],
            "image/png": "[encoded data removed]"
          },
          "metadata": {}
        }
      ]
    },
    {
      "cell_type": "markdown",
      "source": [
        "As we see, land square feet and gross square feet are highly corelated missing.\n"
      ],
      "metadata": {
        "id": "fPTuVf7wb-eO"
      }
    },
    {
      "cell_type": "code",
      "source": [
        "data.isnull().sum()* 100 / len(data)"
      ],
      "metadata": {
        "id": "nvSFhnE_cw58",
        "colab": {
          "base_uri": "https://localhost:8080/"
        },
        "outputId": "b2226a82-e6b4-4cab-f76f-f18b0c1b5bb4"
      },
      "execution_count": 85,
      "outputs": [
        {
          "output_type": "execute_result",
          "data": {
            "text/plain": [
              "BOROUGH                            0.000000\n",
              "TAX CLASS AT PRESENT               0.000000\n",
              "BLOCK                              0.000000\n",
              "LOT                                0.000000\n",
              "BUILDING CLASS AT PRESENT          0.000000\n",
              "ZIP CODE                           0.000000\n",
              "RESIDENTIAL UNITS                  0.000000\n",
              "COMMERCIAL UNITS                   0.000000\n",
              "TOTAL UNITS                        0.000000\n",
              "LAND SQUARE FEET                  18.627746\n",
              "GROSS SQUARE FEET                 18.627310\n",
              "YEAR BUILT                         7.045836\n",
              "TAX CLASS AT TIME OF SALE          0.000000\n",
              "BUILDING CLASS AT TIME OF SALE     0.000000\n",
              "SALE PRICE                         0.000000\n",
              "SALE MONTH                         0.000000\n",
              "SALE YEAR                          0.000000\n",
              "dtype: float64"
            ]
          },
          "metadata": {},
          "execution_count": 85
        }
      ]
    },
    {
      "cell_type": "code",
      "source": [
        "#REPLACE 0 OF SALE PRICE WITH NULLS TO FILL IT BY IMPUTER\n",
        "data['SALE PRICE'].replace((0), np.nan, inplace=True)"
      ],
      "metadata": {
        "id": "xZ66WIQDReR0"
      },
      "execution_count": 86,
      "outputs": []
    },
    {
      "cell_type": "code",
      "source": [
        "#fill nulls\n",
        "from sklearn.impute import KNNImputer\n",
        "imputed = ['LAND SQUARE FEET','GROSS SQUARE FEET','YEAR BUILT','SALE PRICE']\n",
        "imputer = KNNImputer(n_neighbors=2)\n",
        "data[imputed] = imputer.fit_transform(data[imputed])"
      ],
      "metadata": {
        "id": "RiUoVD6kkHDF"
      },
      "execution_count": 87,
      "outputs": []
    },
    {
      "cell_type": "code",
      "source": [
        "#check nulls\n",
        "data.isnull().sum()* 100 / len(data)"
      ],
      "metadata": {
        "id": "fp2AHJjukYYT",
        "colab": {
          "base_uri": "https://localhost:8080/"
        },
        "outputId": "7e85319e-f856-4582-ef3a-bf65cf41b7e3"
      },
      "execution_count": 88,
      "outputs": [
        {
          "output_type": "execute_result",
          "data": {
            "text/plain": [
              "BOROUGH                           0.0\n",
              "TAX CLASS AT PRESENT              0.0\n",
              "BLOCK                             0.0\n",
              "LOT                               0.0\n",
              "BUILDING CLASS AT PRESENT         0.0\n",
              "ZIP CODE                          0.0\n",
              "RESIDENTIAL UNITS                 0.0\n",
              "COMMERCIAL UNITS                  0.0\n",
              "TOTAL UNITS                       0.0\n",
              "LAND SQUARE FEET                  0.0\n",
              "GROSS SQUARE FEET                 0.0\n",
              "YEAR BUILT                        0.0\n",
              "TAX CLASS AT TIME OF SALE         0.0\n",
              "BUILDING CLASS AT TIME OF SALE    0.0\n",
              "SALE PRICE                        0.0\n",
              "SALE MONTH                        0.0\n",
              "SALE YEAR                         0.0\n",
              "dtype: float64"
            ]
          },
          "metadata": {},
          "execution_count": 88
        }
      ]
    },
    {
      "cell_type": "code",
      "source": [
        "#encode categorical data\n",
        "from sklearn.preprocessing import LabelEncoder\n",
        "data['BOROUGH'] = LabelEncoder().fit_transform(data['BOROUGH'])\n",
        "data['BUILDING CLASS AT PRESENT'] = LabelEncoder().fit_transform(data['BUILDING CLASS AT PRESENT'])\n",
        "data['BUILDING CLASS AT TIME OF SALE'] = LabelEncoder().fit_transform(data['BUILDING CLASS AT TIME OF SALE'])\n",
        "data['TAX CLASS AT PRESENT'] = LabelEncoder().fit_transform(data['TAX CLASS AT PRESENT'])\n",
        "data['TAX CLASS AT TIME OF SALE'] = LabelEncoder().fit_transform(data['TAX CLASS AT TIME OF SALE'])"
      ],
      "metadata": {
        "id": "4g3sc9QUpJhs"
      },
      "execution_count": 89,
      "outputs": []
    },
    {
      "cell_type": "code",
      "execution_count": 90,
      "metadata": {
        "id": "Mpt_fLC84dgw",
        "colab": {
          "base_uri": "https://localhost:8080/",
          "height": 0
        },
        "outputId": "e70f3884-3b3b-44cf-d79d-3862d2465c8d"
      },
      "outputs": [
        {
          "output_type": "execute_result",
          "data": {
            "text/plain": [
              "        BOROUGH  TAX CLASS AT PRESENT   BLOCK     LOT  \\\n",
              "0             2                     9  2180.0  1230.0   \n",
              "1             2                     5  1158.0  1310.0   \n",
              "2             2                     5  1158.0  1310.0   \n",
              "3             2                     5  1158.0  1310.0   \n",
              "4             2                     5  1158.0  1310.0   \n",
              "...         ...                   ...     ...     ...   \n",
              "230654        4                     0  2377.0    58.0   \n",
              "230655        4                     0  2374.0    52.0   \n",
              "230656        4                     0  2374.0    49.0   \n",
              "230657        4                     0  2388.0    33.0   \n",
              "230658        4                     0  7566.0    15.0   \n",
              "\n",
              "        BUILDING CLASS AT PRESENT  ZIP CODE  RESIDENTIAL UNITS  \\\n",
              "0                             138   10033.0                  0   \n",
              "1                             135   10023.0                  0   \n",
              "2                             135   10023.0                  0   \n",
              "3                             135   10023.0                  0   \n",
              "4                             135   10023.0                  0   \n",
              "...                           ...       ...                ...   \n",
              "230654                         13   10314.0                  2   \n",
              "230655                         11   10314.0                  2   \n",
              "230656                         13   10314.0                  2   \n",
              "230657                         13   10314.0                  2   \n",
              "230658                          1   10309.0                  1   \n",
              "\n",
              "        COMMERCIAL UNITS  TOTAL UNITS  LAND SQUARE FEET  GROSS SQUARE FEET  \\\n",
              "0                      1            1               0.0                0.0   \n",
              "1                      0            0           10020.0            92323.0   \n",
              "2                      0            0               0.0                0.0   \n",
              "3                      0            0           10020.0            92323.0   \n",
              "4                      0            0           10020.0            92323.0   \n",
              "...                  ...          ...               ...                ...   \n",
              "230654                 0            2            2350.0             1312.0   \n",
              "230655                 0            2            3675.0             2200.0   \n",
              "230656                 0            2            3675.0             1600.0   \n",
              "230657                 0            2            2200.0             1778.0   \n",
              "230658                 0            1           19600.0             3500.0   \n",
              "\n",
              "        YEAR BUILT  TAX CLASS AT TIME OF SALE  BUILDING CLASS AT TIME OF SALE  \\\n",
              "0           2003.0                          2                             291   \n",
              "1           1964.0                          1                             288   \n",
              "2           1964.0                          1                             288   \n",
              "3           1964.0                          1                             288   \n",
              "4           1964.0                          1                             288   \n",
              "...            ...                        ...                             ...   \n",
              "230654      1980.0                          0                             171   \n",
              "230655      1994.0                          0                             169   \n",
              "230656      1994.0                          0                             171   \n",
              "230657      1982.0                          0                             171   \n",
              "230658      1991.0                          0                               1   \n",
              "\n",
              "        SALE PRICE SALE MONTH SALE YEAR  \n",
              "0        1200000.0         12      2020  \n",
              "1         520000.0          1      2019  \n",
              "2         490000.0          7      2019  \n",
              "3         460000.0         11      2019  \n",
              "4         429000.0         11      2019  \n",
              "...            ...        ...       ...  \n",
              "230654    517500.0          5      2020  \n",
              "230655    775000.0         11      2020  \n",
              "230656    740000.0          7      2020  \n",
              "230657    645000.0          8      2020  \n",
              "230658    751174.0         11      2018  \n",
              "\n",
              "[229185 rows x 17 columns]"
            ],
            "text/html": [
              "\n",
              "  <div id=\"df-1392ff3f-8b67-42cb-ba28-d112e8c5dac3\">\n",
              "    <div class=\"colab-df-container\">\n",
              "      <div>\n",
              "<style scoped>\n",
              "    .dataframe tbody tr th:only-of-type {\n",
              "        vertical-align: middle;\n",
              "    }\n",
              "\n",
              "    .dataframe tbody tr th {\n",
              "        vertical-align: top;\n",
              "    }\n",
              "\n",
              "    .dataframe thead th {\n",
              "        text-align: right;\n",
              "    }\n",
              "</style>\n",
              "<table border=\"1\" class=\"dataframe\">\n",
              "  <thead>\n",
              "    <tr style=\"text-align: right;\">\n",
              "      <th></th>\n",
              "      <th>BOROUGH</th>\n",
              "      <th>TAX CLASS AT PRESENT</th>\n",
              "      <th>BLOCK</th>\n",
              "      <th>LOT</th>\n",
              "      <th>BUILDING CLASS AT PRESENT</th>\n",
              "      <th>ZIP CODE</th>\n",
              "      <th>RESIDENTIAL UNITS</th>\n",
              "      <th>COMMERCIAL UNITS</th>\n",
              "      <th>TOTAL UNITS</th>\n",
              "      <th>LAND SQUARE FEET</th>\n",
              "      <th>GROSS SQUARE FEET</th>\n",
              "      <th>YEAR BUILT</th>\n",
              "      <th>TAX CLASS AT TIME OF SALE</th>\n",
              "      <th>BUILDING CLASS AT TIME OF SALE</th>\n",
              "      <th>SALE PRICE</th>\n",
              "      <th>SALE MONTH</th>\n",
              "      <th>SALE YEAR</th>\n",
              "    </tr>\n",
              "  </thead>\n",
              "  <tbody>\n",
              "    <tr>\n",
              "      <th>0</th>\n",
              "      <td>2</td>\n",
              "      <td>9</td>\n",
              "      <td>2180.0</td>\n",
              "      <td>1230.0</td>\n",
              "      <td>138</td>\n",
              "      <td>10033.0</td>\n",
              "      <td>0</td>\n",
              "      <td>1</td>\n",
              "      <td>1</td>\n",
              "      <td>0.0</td>\n",
              "      <td>0.0</td>\n",
              "      <td>2003.0</td>\n",
              "      <td>2</td>\n",
              "      <td>291</td>\n",
              "      <td>1200000.0</td>\n",
              "      <td>12</td>\n",
              "      <td>2020</td>\n",
              "    </tr>\n",
              "    <tr>\n",
              "      <th>1</th>\n",
              "      <td>2</td>\n",
              "      <td>5</td>\n",
              "      <td>1158.0</td>\n",
              "      <td>1310.0</td>\n",
              "      <td>135</td>\n",
              "      <td>10023.0</td>\n",
              "      <td>0</td>\n",
              "      <td>0</td>\n",
              "      <td>0</td>\n",
              "      <td>10020.0</td>\n",
              "      <td>92323.0</td>\n",
              "      <td>1964.0</td>\n",
              "      <td>1</td>\n",
              "      <td>288</td>\n",
              "      <td>520000.0</td>\n",
              "      <td>1</td>\n",
              "      <td>2019</td>\n",
              "    </tr>\n",
              "    <tr>\n",
              "      <th>2</th>\n",
              "      <td>2</td>\n",
              "      <td>5</td>\n",
              "      <td>1158.0</td>\n",
              "      <td>1310.0</td>\n",
              "      <td>135</td>\n",
              "      <td>10023.0</td>\n",
              "      <td>0</td>\n",
              "      <td>0</td>\n",
              "      <td>0</td>\n",
              "      <td>0.0</td>\n",
              "      <td>0.0</td>\n",
              "      <td>1964.0</td>\n",
              "      <td>1</td>\n",
              "      <td>288</td>\n",
              "      <td>490000.0</td>\n",
              "      <td>7</td>\n",
              "      <td>2019</td>\n",
              "    </tr>\n",
              "    <tr>\n",
              "      <th>3</th>\n",
              "      <td>2</td>\n",
              "      <td>5</td>\n",
              "      <td>1158.0</td>\n",
              "      <td>1310.0</td>\n",
              "      <td>135</td>\n",
              "      <td>10023.0</td>\n",
              "      <td>0</td>\n",
              "      <td>0</td>\n",
              "      <td>0</td>\n",
              "      <td>10020.0</td>\n",
              "      <td>92323.0</td>\n",
              "      <td>1964.0</td>\n",
              "      <td>1</td>\n",
              "      <td>288</td>\n",
              "      <td>460000.0</td>\n",
              "      <td>11</td>\n",
              "      <td>2019</td>\n",
              "    </tr>\n",
              "    <tr>\n",
              "      <th>4</th>\n",
              "      <td>2</td>\n",
              "      <td>5</td>\n",
              "      <td>1158.0</td>\n",
              "      <td>1310.0</td>\n",
              "      <td>135</td>\n",
              "      <td>10023.0</td>\n",
              "      <td>0</td>\n",
              "      <td>0</td>\n",
              "      <td>0</td>\n",
              "      <td>10020.0</td>\n",
              "      <td>92323.0</td>\n",
              "      <td>1964.0</td>\n",
              "      <td>1</td>\n",
              "      <td>288</td>\n",
              "      <td>429000.0</td>\n",
              "      <td>11</td>\n",
              "      <td>2019</td>\n",
              "    </tr>\n",
              "    <tr>\n",
              "      <th>...</th>\n",
              "      <td>...</td>\n",
              "      <td>...</td>\n",
              "      <td>...</td>\n",
              "      <td>...</td>\n",
              "      <td>...</td>\n",
              "      <td>...</td>\n",
              "      <td>...</td>\n",
              "      <td>...</td>\n",
              "      <td>...</td>\n",
              "      <td>...</td>\n",
              "      <td>...</td>\n",
              "      <td>...</td>\n",
              "      <td>...</td>\n",
              "      <td>...</td>\n",
              "      <td>...</td>\n",
              "      <td>...</td>\n",
              "      <td>...</td>\n",
              "    </tr>\n",
              "    <tr>\n",
              "      <th>230654</th>\n",
              "      <td>4</td>\n",
              "      <td>0</td>\n",
              "      <td>2377.0</td>\n",
              "      <td>58.0</td>\n",
              "      <td>13</td>\n",
              "      <td>10314.0</td>\n",
              "      <td>2</td>\n",
              "      <td>0</td>\n",
              "      <td>2</td>\n",
              "      <td>2350.0</td>\n",
              "      <td>1312.0</td>\n",
              "      <td>1980.0</td>\n",
              "      <td>0</td>\n",
              "      <td>171</td>\n",
              "      <td>517500.0</td>\n",
              "      <td>5</td>\n",
              "      <td>2020</td>\n",
              "    </tr>\n",
              "    <tr>\n",
              "      <th>230655</th>\n",
              "      <td>4</td>\n",
              "      <td>0</td>\n",
              "      <td>2374.0</td>\n",
              "      <td>52.0</td>\n",
              "      <td>11</td>\n",
              "      <td>10314.0</td>\n",
              "      <td>2</td>\n",
              "      <td>0</td>\n",
              "      <td>2</td>\n",
              "      <td>3675.0</td>\n",
              "      <td>2200.0</td>\n",
              "      <td>1994.0</td>\n",
              "      <td>0</td>\n",
              "      <td>169</td>\n",
              "      <td>775000.0</td>\n",
              "      <td>11</td>\n",
              "      <td>2020</td>\n",
              "    </tr>\n",
              "    <tr>\n",
              "      <th>230656</th>\n",
              "      <td>4</td>\n",
              "      <td>0</td>\n",
              "      <td>2374.0</td>\n",
              "      <td>49.0</td>\n",
              "      <td>13</td>\n",
              "      <td>10314.0</td>\n",
              "      <td>2</td>\n",
              "      <td>0</td>\n",
              "      <td>2</td>\n",
              "      <td>3675.0</td>\n",
              "      <td>1600.0</td>\n",
              "      <td>1994.0</td>\n",
              "      <td>0</td>\n",
              "      <td>171</td>\n",
              "      <td>740000.0</td>\n",
              "      <td>7</td>\n",
              "      <td>2020</td>\n",
              "    </tr>\n",
              "    <tr>\n",
              "      <th>230657</th>\n",
              "      <td>4</td>\n",
              "      <td>0</td>\n",
              "      <td>2388.0</td>\n",
              "      <td>33.0</td>\n",
              "      <td>13</td>\n",
              "      <td>10314.0</td>\n",
              "      <td>2</td>\n",
              "      <td>0</td>\n",
              "      <td>2</td>\n",
              "      <td>2200.0</td>\n",
              "      <td>1778.0</td>\n",
              "      <td>1982.0</td>\n",
              "      <td>0</td>\n",
              "      <td>171</td>\n",
              "      <td>645000.0</td>\n",
              "      <td>8</td>\n",
              "      <td>2020</td>\n",
              "    </tr>\n",
              "    <tr>\n",
              "      <th>230658</th>\n",
              "      <td>4</td>\n",
              "      <td>0</td>\n",
              "      <td>7566.0</td>\n",
              "      <td>15.0</td>\n",
              "      <td>1</td>\n",
              "      <td>10309.0</td>\n",
              "      <td>1</td>\n",
              "      <td>0</td>\n",
              "      <td>1</td>\n",
              "      <td>19600.0</td>\n",
              "      <td>3500.0</td>\n",
              "      <td>1991.0</td>\n",
              "      <td>0</td>\n",
              "      <td>1</td>\n",
              "      <td>751174.0</td>\n",
              "      <td>11</td>\n",
              "      <td>2018</td>\n",
              "    </tr>\n",
              "  </tbody>\n",
              "</table>\n",
              "<p>229185 rows × 17 columns</p>\n",
              "</div>\n",
              "      <button class=\"colab-df-convert\" onclick=\"convertToInteractive('df-1392ff3f-8b67-42cb-ba28-d112e8c5dac3')\"\n",
              "              title=\"Convert this dataframe to an interactive table.\"\n",
              "              style=\"display:none;\">\n",
              "        \n",
              "  <svg xmlns=\"http://www.w3.org/2000/svg\" height=\"24px\"viewBox=\"0 0 24 24\"\n",
              "       width=\"24px\">\n",
              "    <path d=\"M0 0h24v24H0V0z\" fill=\"none\"/>\n",
              "    <path d=\"M18.56 5.44l.94 2.06.94-2.06 2.06-.94-2.06-.94-.94-2.06-.94 2.06-2.06.94zm-11 1L8.5 8.5l.94-2.06 2.06-.94-2.06-.94L8.5 2.5l-.94 2.06-2.06.94zm10 10l.94 2.06.94-2.06 2.06-.94-2.06-.94-.94-2.06-.94 2.06-2.06.94z\"/><path d=\"M17.41 7.96l-1.37-1.37c-.4-.4-.92-.59-1.43-.59-.52 0-1.04.2-1.43.59L10.3 9.45l-7.72 7.72c-.78.78-.78 2.05 0 2.83L4 21.41c.39.39.9.59 1.41.59.51 0 1.02-.2 1.41-.59l7.78-7.78 2.81-2.81c.8-.78.8-2.07 0-2.86zM5.41 20L4 18.59l7.72-7.72 1.47 1.35L5.41 20z\"/>\n",
              "  </svg>\n",
              "      </button>\n",
              "      \n",
              "  <style>\n",
              "    .colab-df-container {\n",
              "      display:flex;\n",
              "      flex-wrap:wrap;\n",
              "      gap: 12px;\n",
              "    }\n",
              "\n",
              "    .colab-df-convert {\n",
              "      background-color: #E8F0FE;\n",
              "      border: none;\n",
              "      border-radius: 50%;\n",
              "      cursor: pointer;\n",
              "      display: none;\n",
              "      fill: #1967D2;\n",
              "      height: 32px;\n",
              "      padding: 0 0 0 0;\n",
              "      width: 32px;\n",
              "    }\n",
              "\n",
              "    .colab-df-convert:hover {\n",
              "      background-color: #E2EBFA;\n",
              "      box-shadow: 0px 1px 2px rgba(60, 64, 67, 0.3), 0px 1px 3px 1px rgba(60, 64, 67, 0.15);\n",
              "      fill: #174EA6;\n",
              "    }\n",
              "\n",
              "    [theme=dark] .colab-df-convert {\n",
              "      background-color: #3B4455;\n",
              "      fill: #D2E3FC;\n",
              "    }\n",
              "\n",
              "    [theme=dark] .colab-df-convert:hover {\n",
              "      background-color: #434B5C;\n",
              "      box-shadow: 0px 1px 3px 1px rgba(0, 0, 0, 0.15);\n",
              "      filter: drop-shadow(0px 1px 2px rgba(0, 0, 0, 0.3));\n",
              "      fill: #FFFFFF;\n",
              "    }\n",
              "  </style>\n",
              "\n",
              "      <script>\n",
              "        const buttonEl =\n",
              "          document.querySelector('#df-1392ff3f-8b67-42cb-ba28-d112e8c5dac3 button.colab-df-convert');\n",
              "        buttonEl.style.display =\n",
              "          google.colab.kernel.accessAllowed ? 'block' : 'none';\n",
              "\n",
              "        async function convertToInteractive(key) {\n",
              "          const element = document.querySelector('#df-1392ff3f-8b67-42cb-ba28-d112e8c5dac3');\n",
              "          const dataTable =\n",
              "            await google.colab.kernel.invokeFunction('convertToInteractive',\n",
              "                                                     [key], {});\n",
              "          if (!dataTable) return;\n",
              "\n",
              "          const docLinkHtml = 'Like what you see? Visit the ' +\n",
              "            '<a target=\"_blank\" href=https://colab.research.google.com/notebooks/data_table.ipynb>data table notebook</a>'\n",
              "            + ' to learn more about interactive tables.';\n",
              "          element.innerHTML = '';\n",
              "          dataTable['output_type'] = 'display_data';\n",
              "          await google.colab.output.renderOutput(dataTable, element);\n",
              "          const docLink = document.createElement('div');\n",
              "          docLink.innerHTML = docLinkHtml;\n",
              "          element.appendChild(docLink);\n",
              "        }\n",
              "      </script>\n",
              "    </div>\n",
              "  </div>\n",
              "  "
            ]
          },
          "metadata": {},
          "execution_count": 90
        }
      ],
      "source": [
        "#display data after encoding\n",
        "data"
      ]
    },
    {
      "cell_type": "code",
      "source": [
        "#convert some of features to category\n",
        "categ = ['BOROUGH','LOT','BLOCK']\n",
        "for col in categ:\n",
        "    data[col] = data[col].astype('category')"
      ],
      "metadata": {
        "id": "D1k_OHspDcIx"
      },
      "execution_count": 91,
      "outputs": []
    },
    {
      "cell_type": "code",
      "source": [
        "#check type of each column\n",
        "data.dtypes"
      ],
      "metadata": {
        "id": "9SiDZGRLCYrh",
        "colab": {
          "base_uri": "https://localhost:8080/"
        },
        "outputId": "eb485631-6da9-46b4-d829-3915edce8951"
      },
      "execution_count": 92,
      "outputs": [
        {
          "output_type": "execute_result",
          "data": {
            "text/plain": [
              "BOROUGH                           category\n",
              "TAX CLASS AT PRESENT                 int64\n",
              "BLOCK                             category\n",
              "LOT                               category\n",
              "BUILDING CLASS AT PRESENT            int64\n",
              "ZIP CODE                           float64\n",
              "RESIDENTIAL UNITS                    int64\n",
              "COMMERCIAL UNITS                     int64\n",
              "TOTAL UNITS                          int64\n",
              "LAND SQUARE FEET                   float64\n",
              "GROSS SQUARE FEET                  float64\n",
              "YEAR BUILT                         float64\n",
              "TAX CLASS AT TIME OF SALE            int64\n",
              "BUILDING CLASS AT TIME OF SALE       int64\n",
              "SALE PRICE                         float64\n",
              "SALE MONTH                        category\n",
              "SALE YEAR                         category\n",
              "dtype: object"
            ]
          },
          "metadata": {},
          "execution_count": 92
        }
      ]
    },
    {
      "cell_type": "code",
      "source": [
        "#split data and label\n",
        "x=data.drop(columns=['SALE PRICE'])\n",
        "y = data.iloc[:,-1].values.reshape(-1,1)"
      ],
      "metadata": {
        "id": "HFK0MtTiKZ8r"
      },
      "execution_count": 93,
      "outputs": []
    },
    {
      "cell_type": "code",
      "source": [
        "#check shapes\n",
        "y.shape,x.shape"
      ],
      "metadata": {
        "id": "7I8tuUa7D6qs",
        "colab": {
          "base_uri": "https://localhost:8080/"
        },
        "outputId": "efffe98e-2490-4dd6-ca02-86d490b6af61"
      },
      "execution_count": 94,
      "outputs": [
        {
          "output_type": "execute_result",
          "data": {
            "text/plain": [
              "((229185, 1), (229185, 16))"
            ]
          },
          "metadata": {},
          "execution_count": 94
        }
      ]
    },
    {
      "cell_type": "code",
      "source": [
        "from sklearn.preprocessing import StandardScaler\n",
        "#rescale train data to be simpler\n",
        "sc = StandardScaler()\n",
        "x= sc.fit_transform(x)\n",
        "# y_= sc.fit_transform(y)"
      ],
      "metadata": {
        "id": "5LqntSbZtT1f"
      },
      "execution_count": 95,
      "outputs": []
    },
    {
      "cell_type": "markdown",
      "metadata": {
        "id": "bHmOR7CW4dgw"
      },
      "source": [
        "## Task 5: AutoML\n",
        "\n",
        "#### Using Auto-sklearn to explore performance of one state-of-the-art autoML tool on the given data (after your previous preprocessing). Optional: compare with performing autosklearn on raw data.\n",
        "#### ref. https://automl.github.io/auto-sklearn/master/examples/20_basic/example_regression.html"
      ]
    },
    {
      "cell_type": "code",
      "source": [
        "# TODO for Task 5\n",
        "#split data to train and test\n",
        "X_train, X_test, y_train, y_test = sklearn.model_selection.train_test_split(x, y,test_size=0.2, random_state=1)"
      ],
      "metadata": {
        "id": "eglpsYHd5Bv2",
        "colab": {
          "base_uri": "https://localhost:8080/"
        },
        "outputId": "4f3e492f-dd53-40e1-dc4c-5745ad98e567"
      },
      "execution_count": 96,
      "outputs": [
        {
          "output_type": "stream",
          "name": "stderr",
          "text": [
            "/usr/local/lib/python3.7/dist-packages/sklearn/utils/__init__.py:179: FutureWarning:\n",
            "\n",
            "Support for multi-dimensional indexing (e.g. `obj[:, None]`) is deprecated and will be removed in a future version.  Convert to a numpy array before indexing instead.\n",
            "\n"
          ]
        }
      ]
    },
    {
      "cell_type": "code",
      "source": [
        "#use automl regression model\n",
        "automl = autosklearn.regression.AutoSklearnRegressor(\n",
        "    time_left_for_this_task=120,\n",
        "    per_run_time_limit=30,\n",
        "    tmp_folder='/tmp/autosklearn_regression_example_tmp',\n",
        ")\n",
        "automl.fit(X_train, y_train, dataset_name='diabetes')\n",
        "print(automl.leaderboard())"
      ],
      "metadata": {
        "id": "6v8GrPKL9tWs",
        "colab": {
          "base_uri": "https://localhost:8080/"
        },
        "outputId": "c55f121e-c1df-4e94-8229-e5581280e428"
      },
      "execution_count": 97,
      "outputs": [
        {
          "output_type": "stream",
          "name": "stdout",
          "text": [
            "          rank  ensemble_weight         type          cost   duration\n",
            "model_id                                                             \n",
            "3            1              1.0  extra_trees  8.487289e-07  21.900834\n"
          ]
        }
      ]
    },
    {
      "cell_type": "code",
      "source": [
        "#predict train and test data then calculate r2 score/ mae\n",
        "train_predictions = automl.predict(X_train)\n",
        "automl.score(X_train,y_train)\n",
        "automl.score(X_test,y_test)\n",
        "\n",
        "print(\"Train R2 score:\", sklearn.metrics.r2_score(y_train, train_predictions))\n",
        "test_predictions = automl.predict(X_test)\n",
        "print(\"Test R2 score:\", sklearn.metrics.r2_score(y_test, test_predictions))\n",
        "print(\"Test MAE:\", mean_absolute_error(y_test, test_predictions))"
      ],
      "metadata": {
        "id": "sWNfgBEt9772",
        "colab": {
          "base_uri": "https://localhost:8080/"
        },
        "outputId": "7bc3a9e1-d35b-4462-b561-f7e78442dc2e"
      },
      "execution_count": 98,
      "outputs": [
        {
          "output_type": "stream",
          "name": "stdout",
          "text": [
            "Train R2 score: 0.9999992888968955\n",
            "Test R2 score: 0.9999983851743507\n",
            "Test MAE: 7.695463278869821e-05\n"
          ]
        }
      ]
    }
  ],
  "metadata": {
    "language_info": {
      "name": "python"
    },
    "orig_nbformat": 4,
    "colab": {
      "name": "Lab2_EDA&AutoML_Regression.ipynb",
      "provenance": [],
      "collapsed_sections": [
        "crOpH7LP4dgq",
        "oGl0xo7UNz8l",
        "GuBMthB44dgr",
        "YNGemCViNmhF",
        "rAmS5AQt8Kj2",
        "Y-p_8qTy_a6k",
        "cmzOalK28VjH",
        "AfxldVRIiTx5",
        "60WUiXjz4dgs",
        "0UCcPTk205sM",
        "5sTM7vZo1E6u",
        "2dhcSM3i18pk",
        "B8kFNWjgLH67",
        "M37CyYdwbfha",
        "MBc4iTNR4dgu",
        "se3Q3jWM8_rp",
        "bnv3rOVB4dgv",
        "bHmOR7CW4dgw"
      ]
    },
    "kernelspec": {
      "name": "python3",
      "display_name": "Python 3"
    }
  },
  "nbformat": 4,
  "nbformat_minor": 0
}