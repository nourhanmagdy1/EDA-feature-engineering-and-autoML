{
  "cells": [
    {
      "cell_type": "markdown",
      "metadata": {
        "id": "L-XS1GGG4dgf"
      },
      "source": [
        "# EDA, Feature Engineering, and AutoML\n",
        "\n",
        "In this lab, we will apply learned concepts from Day 3-4 lectures to perform data exploration, feature engineering, and autoML on a house sale dataset.\n",
        "\n",
        "The goal of this assignment is to analyze 3 years’(2018-2020) house sales data provided by New York City (NYC) goverment and build regression model to predict house price. NYC has five boroughs, i.e., Bronx, Brooklyn, Manhattan, Queens and Staten Island. Sales of houses in each borough has been provided.\n",
        "\n",
        "\n",
        "**Submission: submit via onq.** \n"
      ]
    },
    {
      "cell_type": "markdown",
      "source": [
        "## Install auto-sklearn"
      ],
      "metadata": {
        "id": "-XT28bTv2ghv"
      }
    },
    {
      "cell_type": "code",
      "source": [
        "!sudo apt-get install build-essential swig\n",
        "!curl https://raw.githubusercontent.com/automl/auto-sklearn/master/requirements.txt | xargs -n 1 -L 1 pip install\n",
        "!pip install auto-sklearn==0.14.6"
      ],
      "metadata": {
        "id": "Rsr4pwgs1JAV"
      },
      "execution_count": null,
      "outputs": []
    },
    {
      "cell_type": "markdown",
      "source": [
        "## Import Libiraries"
      ],
      "metadata": {
        "id": "1jv_0cwijvbL"
      }
    },
    {
      "cell_type": "code",
      "execution_count": null,
      "metadata": {
        "id": "_ikvKEHa4dgm"
      },
      "outputs": [],
      "source": [
        "# Import needed libraries. E.g., pandas, missingno, and sklearn\n",
        "import autosklearn\n",
        "import pandas as pd\n",
        "import numpy as np\n",
        "import sklearn \n",
        "import matplotlib \n",
        "from matplotlib import pyplot as plt\n",
        "import plotly.express as px\n",
        "from google.colab import drive\n",
        "drive.mount('/content/drive')\n",
        "import missingno as msno\n",
        "\n",
        "from scipy.stats import ttest_1samp,ttest_ind\n",
        "import seaborn as sns\n",
        "import plotly.graph_objs as go\n",
        "import plotly.offline as py\n",
        "from sklearn import preprocessing\n",
        "from pprint import pprint\n",
        "\n",
        "import sklearn.datasets\n",
        "import sklearn.metrics\n",
        "\n",
        "import autosklearn.regression\n",
        "import matplotlib.pyplot as plt\n",
        "import glob\n",
        "\n",
        "from sklearn.metrics import mean_absolute_error\n",
        "from autosklearn.regression import AutoSklearnRegressor\n",
        "from autosklearn.metrics import mean_absolute_error as auto_mean_absolute_error"
      ]
    },
    {
      "cell_type": "markdown",
      "metadata": {
        "id": "zsmDfJfG4dgo"
      },
      "source": [
        "## Task 1: \n",
        "* Read dataset\n",
        "* Merge data  \n",
        "* Perform basic data exploration\n",
        "\n",
        "### Note: \n",
        "#### You should briefely discuss the quality of dataset (missing values, duplicate entries, etc.) Also, in task 3, you would be asked to perform prediction on house sale price, thus it would be good to consider outliers related to this prediciton task when you perform data cleaning."
      ]
    },
    {
      "cell_type": "code",
      "source": [
        "# read data and merge it\n",
        "\n",
        "all_files = glob.glob(\"/content/drive/MyDrive/lab2-dataset_sha/*.csv\")\n",
        "data = pd.concat((pd.read_csv(f) for f in all_files))"
      ],
      "metadata": {
        "id": "JuzdoevGTWqm"
      },
      "execution_count": null,
      "outputs": []
    },
    {
      "cell_type": "code",
      "source": [
        "#check the shape of data\n",
        "data.shape"
      ],
      "metadata": {
        "id": "Lh7H1FBgkKDj"
      },
      "execution_count": null,
      "outputs": []
    },
    {
      "cell_type": "code",
      "source": [
        "#read head of data\n",
        "data.head(200)"
      ],
      "metadata": {
        "id": "vaWDAidFT4aW"
      },
      "execution_count": null,
      "outputs": []
    },
    {
      "cell_type": "code",
      "source": [
        "#sort data by BOROUGH\n",
        "data.sort_values(by=['BOROUGH'], ascending=True,inplace=True)"
      ],
      "metadata": {
        "id": "d-hj5PUBwFVn"
      },
      "execution_count": null,
      "outputs": []
    },
    {
      "cell_type": "code",
      "source": [
        "data"
      ],
      "metadata": {
        "id": "6H9kiqzhwNC1"
      },
      "execution_count": null,
      "outputs": []
    },
    {
      "cell_type": "code",
      "source": [
        "#reset index\n",
        "data=data.reset_index()\n",
        "data=data.drop(columns=['index'])"
      ],
      "metadata": {
        "id": "uGHb0t2vGcAD"
      },
      "execution_count": null,
      "outputs": []
    },
    {
      "cell_type": "code",
      "source": [
        "data"
      ],
      "metadata": {
        "id": "Zhk84K0SGFS3"
      },
      "execution_count": null,
      "outputs": []
    },
    {
      "cell_type": "code",
      "source": [
        "#check data infro\n",
        "data.info()"
      ],
      "metadata": {
        "id": "w4xUL4H6ViSa"
      },
      "execution_count": null,
      "outputs": []
    },
    {
      "cell_type": "code",
      "source": [
        "#describe the data\n",
        "data.describe()"
      ],
      "metadata": {
        "id": "bE-AfQSvVn3J"
      },
      "execution_count": null,
      "outputs": []
    },
    {
      "cell_type": "code",
      "source": [
        "#check duplicate\n",
        "data.duplicated().sum()"
      ],
      "metadata": {
        "id": "Se5ziWSAV39E"
      },
      "execution_count": null,
      "outputs": []
    },
    {
      "cell_type": "code",
      "source": [
        "#drop duplicates\n",
        "data.drop_duplicates(inplace=True)"
      ],
      "metadata": {
        "id": "ZC0KpoxFX7Rj"
      },
      "execution_count": null,
      "outputs": []
    },
    {
      "cell_type": "code",
      "source": [
        "#check nulls\n",
        "data.isnull().sum()"
      ],
      "metadata": {
        "id": "RVEIzPySW9zi"
      },
      "execution_count": null,
      "outputs": []
    },
    {
      "cell_type": "code",
      "source": [
        "#check nulls percentage of each column\n",
        "data.isnull().sum()* 100 / len(data)"
      ],
      "metadata": {
        "id": "MUsnUPT4YbyS"
      },
      "execution_count": null,
      "outputs": []
    },
    {
      "cell_type": "code",
      "source": [
        "#drop rows that full of nulls\n",
        "data.dropna(axis = 0, how = 'all', inplace = True)"
      ],
      "metadata": {
        "id": "D1q3CyGRnUzT"
      },
      "execution_count": null,
      "outputs": []
    },
    {
      "cell_type": "code",
      "source": [
        "#check data nulls again\n",
        "data.isnull().sum()"
      ],
      "metadata": {
        "id": "c_3iMCeOndig"
      },
      "execution_count": null,
      "outputs": []
    },
    {
      "cell_type": "code",
      "source": [
        "msno.matrix(data)"
      ],
      "metadata": {
        "id": "5sMAgCGFYI8t"
      },
      "execution_count": null,
      "outputs": []
    },
    {
      "cell_type": "code",
      "source": [
        "msno.heatmap(data)"
      ],
      "metadata": {
        "id": "jSr_A1LWY0Di"
      },
      "execution_count": null,
      "outputs": []
    },
    {
      "cell_type": "markdown",
      "source": [
        "### Depending on msno we need to drop (Easement and Apartment Number)"
      ],
      "metadata": {
        "id": "ZgzwjiJ5OJYG"
      }
    },
    {
      "cell_type": "markdown",
      "metadata": {
        "id": "crOpH7LP4dgq"
      },
      "source": [
        "## Task 2\n",
        "#### Data exploration using data visualization. Raise two questions that can be answered by performing data visualization. Briefely mention why you think this question would be interesting to whom (who is your audience). Think about the EDA principals."
      ]
    },
    {
      "cell_type": "markdown",
      "source": [
        "### The question is too important for me, it will help me to select best features."
      ],
      "metadata": {
        "id": "oGl0xo7UNz8l"
      }
    },
    {
      "cell_type": "markdown",
      "metadata": {
        "id": "GuBMthB44dgr"
      },
      "source": [
        "### Question 2.1\n",
        "## Do the old builds with the same total units have higher price than new ones or not?"
      ]
    },
    {
      "cell_type": "markdown",
      "source": [
        "#### Data Exploration."
      ],
      "metadata": {
        "id": "YNGemCViNmhF"
      }
    },
    {
      "cell_type": "code",
      "source": [
        "#check nulls percentage of each column\n",
        "data.isnull().sum()* 100 / len(data)"
      ],
      "metadata": {
        "id": "TZ7OB6_wnTgk"
      },
      "execution_count": null,
      "outputs": []
    },
    {
      "cell_type": "code",
      "source": [
        "#drop columns that contain very high missing data percentage\n",
        "data.drop(columns=['EASE-MENT','APARTMENT NUMBER'],inplace=True)"
      ],
      "metadata": {
        "id": "sLrxlFxTZNDz"
      },
      "execution_count": null,
      "outputs": []
    },
    {
      "cell_type": "code",
      "source": [
        "#check nulls percentage of each column\n",
        "data.isnull().sum()* 100 / len(data)"
      ],
      "metadata": {
        "id": "F9ye8sk2oL8O"
      },
      "execution_count": null,
      "outputs": []
    },
    {
      "cell_type": "code",
      "source": [
        "#check type of each column\n",
        "data.dtypes"
      ],
      "metadata": {
        "id": "a01QHSOg2ZT4"
      },
      "execution_count": null,
      "outputs": []
    },
    {
      "cell_type": "markdown",
      "source": [
        "#### Firstly we need to explore and handle sale price"
      ],
      "metadata": {
        "id": "rAmS5AQt8Kj2"
      }
    },
    {
      "cell_type": "code",
      "source": [
        "# TODO write code to answer Q2.1\n",
        "#check nulls in sale price column\n",
        "np.count_nonzero(data['SALE PRICE'].isna())"
      ],
      "metadata": {
        "id": "JJvHEOyVOTPZ"
      },
      "execution_count": null,
      "outputs": []
    },
    {
      "cell_type": "code",
      "source": [
        "#check value counts on sale price\n",
        "data['SALE PRICE'].value_counts()"
      ],
      "metadata": {
        "id": "rwLLOOWuT5ZQ"
      },
      "execution_count": null,
      "outputs": []
    },
    {
      "cell_type": "code",
      "source": [
        "#remove , and $ from sale price data\n",
        "data['SALE PRICE'] = data['SALE PRICE'].str.translate(str.maketrans({',':''}))\n",
        "data['SALE PRICE'] = data['SALE PRICE'].str.translate(str.maketrans({'$':''}))"
      ],
      "metadata": {
        "id": "lOsh9jRMVqNM"
      },
      "execution_count": null,
      "outputs": []
    },
    {
      "cell_type": "code",
      "source": [
        "#convert to numeric\n",
        "data['SALE PRICE']=pd.to_numeric(data['SALE PRICE'])"
      ],
      "metadata": {
        "id": "uVAIKNm2USs-"
      },
      "execution_count": null,
      "outputs": []
    },
    {
      "cell_type": "code",
      "source": [
        "#check the ratio of missing data after cleaning\n",
        "total_miss=data['SALE PRICE'].isnull().sum()\n",
        "percent_miss = (total_miss/data['SALE PRICE'].isnull().count()*100) \n",
        "missing_data = {'Total missing':total_miss,'% missing':percent_miss}\n",
        "missing_data"
      ],
      "metadata": {
        "id": "PUxMwZ7QX88d"
      },
      "execution_count": null,
      "outputs": []
    },
    {
      "cell_type": "code",
      "source": [
        "data['SALE PRICE'].value_counts()"
      ],
      "metadata": {
        "id": "b_srMQIb78Vb"
      },
      "execution_count": null,
      "outputs": []
    },
    {
      "cell_type": "code",
      "source": [
        "#check unique values\n",
        "data['SALE PRICE'].unique()"
      ],
      "metadata": {
        "id": "-hFDrd_EHJ-1"
      },
      "execution_count": null,
      "outputs": []
    },
    {
      "cell_type": "markdown",
      "source": [
        "#### Secondly we need to handle number of units."
      ],
      "metadata": {
        "id": "Y-p_8qTy_a6k"
      }
    },
    {
      "cell_type": "code",
      "source": [
        "#check nulls count in total units column\n",
        "np.count_nonzero(data['TOTAL UNITS'].isna())"
      ],
      "metadata": {
        "id": "BrybGyvfLrWH"
      },
      "execution_count": null,
      "outputs": []
    },
    {
      "cell_type": "code",
      "source": [
        "#check nulls count in commercial units column\n",
        "np.count_nonzero(data['COMMERCIAL UNITS'].isna())"
      ],
      "metadata": {
        "id": "JgyswzwbLycc"
      },
      "execution_count": null,
      "outputs": []
    },
    {
      "cell_type": "code",
      "source": [
        "#check nulls count in residential units column\n",
        "np.count_nonzero(data['RESIDENTIAL UNITS'].isna())"
      ],
      "metadata": {
        "id": "3BQccMrDLz2Y"
      },
      "execution_count": null,
      "outputs": []
    },
    {
      "cell_type": "code",
      "source": [
        "#check count of each value\n",
        "data['TOTAL UNITS'].value_counts()"
      ],
      "metadata": {
        "id": "-4imL0c6aeY5"
      },
      "execution_count": null,
      "outputs": []
    },
    {
      "cell_type": "code",
      "source": [
        "#check count od each value\n",
        "data['RESIDENTIAL UNITS'].value_counts()"
      ],
      "metadata": {
        "id": "Kpb5o8LCRJED"
      },
      "execution_count": null,
      "outputs": []
    },
    {
      "cell_type": "code",
      "source": [
        "#check unique values\n",
        "data['RESIDENTIAL UNITS'].unique()"
      ],
      "metadata": {
        "id": "IgmWcJmHaihc"
      },
      "execution_count": null,
      "outputs": []
    },
    {
      "cell_type": "code",
      "source": [
        "#convert residential and commercial units to string\n",
        "data['RESIDENTIAL UNITS']= data['RESIDENTIAL UNITS'].astype(str)\n",
        "data['COMMERCIAL UNITS']= data['COMMERCIAL UNITS'].astype(str)"
      ],
      "metadata": {
        "id": "9TrzD4_m47GJ"
      },
      "execution_count": null,
      "outputs": []
    },
    {
      "cell_type": "markdown",
      "source": [
        "We need to replace nulls in RESIDENTIAL UNITS and COMMERCIAL UNITS with 0 value."
      ],
      "metadata": {
        "id": "LDmwQP6xMvg6"
      }
    },
    {
      "cell_type": "code",
      "source": [
        "#remove , from specific column\n",
        "data['RESIDENTIAL UNITS'] = data['RESIDENTIAL UNITS'].str.translate(str.maketrans({',':''}))\n",
        "data['COMMERCIAL UNITS'] = data['COMMERCIAL UNITS'].str.translate(str.maketrans({',':''}))"
      ],
      "metadata": {
        "id": "DVp2K3hlaNFT"
      },
      "execution_count": null,
      "outputs": []
    },
    {
      "cell_type": "code",
      "source": [
        "#check unique values\n",
        "data['RESIDENTIAL UNITS'].unique()"
      ],
      "metadata": {
        "id": "lcQuVpGr0Vz7"
      },
      "execution_count": null,
      "outputs": []
    },
    {
      "cell_type": "code",
      "source": [
        "#fill nulls with 0 and convert to numeric\n",
        "data['RESIDENTIAL UNITS'] = pd.to_numeric(data['RESIDENTIAL UNITS'], errors='coerce').fillna(0, downcast='infer')\n",
        "data['COMMERCIAL UNITS'] = pd.to_numeric(data['COMMERCIAL UNITS'], errors='coerce').fillna(0, downcast='infer')"
      ],
      "metadata": {
        "id": "XA_ARSDbQ44t"
      },
      "execution_count": null,
      "outputs": []
    },
    {
      "cell_type": "code",
      "source": [
        "data['RESIDENTIAL UNITS'].value_counts()"
      ],
      "metadata": {
        "id": "QiwmWSuk0M9C"
      },
      "execution_count": null,
      "outputs": []
    },
    {
      "cell_type": "code",
      "source": [
        "#check nulls after cleaning\n",
        "print(np.count_nonzero(data['RESIDENTIAL UNITS'].isna()))\n",
        "print(np.count_nonzero(data['COMMERCIAL UNITS'].isna()))"
      ],
      "metadata": {
        "id": "_dTWsBS5OiAf"
      },
      "execution_count": null,
      "outputs": []
    },
    {
      "cell_type": "code",
      "source": [
        "data['COMMERCIAL UNITS'].unique()"
      ],
      "metadata": {
        "id": "qIxSo83VRVSt"
      },
      "execution_count": null,
      "outputs": []
    },
    {
      "cell_type": "code",
      "source": [
        "data['RESIDENTIAL UNITS'].unique()"
      ],
      "metadata": {
        "id": "6DuTBJD8QR6i"
      },
      "execution_count": null,
      "outputs": []
    },
    {
      "cell_type": "markdown",
      "source": [
        "Handle nulls in TOTAL UNITS by filling it by the sum of RESIDENTIAL UNITS and COMMERCIAL UNITS."
      ],
      "metadata": {
        "id": "kaLEQaQoI334"
      }
    },
    {
      "cell_type": "code",
      "source": [
        "#fill total units nulls\n",
        "data['TOTAL UNITS']=(data['RESIDENTIAL UNITS']+data['COMMERCIAL UNITS'])"
      ],
      "metadata": {
        "id": "QUXx2YMvI3AF"
      },
      "execution_count": null,
      "outputs": []
    },
    {
      "cell_type": "code",
      "source": [
        "data['TOTAL UNITS'].unique()"
      ],
      "metadata": {
        "id": "GxCrfHynR7m6"
      },
      "execution_count": null,
      "outputs": []
    },
    {
      "cell_type": "code",
      "source": [
        "#check the ratio of missing data in TOTAL UNITS after cleaning\n",
        "total_miss=data['TOTAL UNITS'].isnull().sum()\n",
        "percent_miss = (total_miss/data['TOTAL UNITS'].isnull().count()*100) \n",
        "missing_data = {'Total missing':total_miss,'% missing':percent_miss}\n",
        "missing_data"
      ],
      "metadata": {
        "id": "oQWvihySJGnE"
      },
      "execution_count": null,
      "outputs": []
    },
    {
      "cell_type": "code",
      "source": [
        "data['TOTAL UNITS'].value_counts()"
      ],
      "metadata": {
        "id": "e6kqwLKidffd"
      },
      "execution_count": null,
      "outputs": []
    },
    {
      "cell_type": "markdown",
      "source": [
        "We will use TOTAL UNITS value = 1 to compare between build year because it is most frequent one."
      ],
      "metadata": {
        "id": "NNRvTlq7diTW"
      }
    },
    {
      "cell_type": "markdown",
      "source": [
        "#### Then we need to explore and handle year build."
      ],
      "metadata": {
        "id": "cmzOalK28VjH"
      }
    },
    {
      "cell_type": "code",
      "source": [
        "data['YEAR BUILT'].unique()"
      ],
      "metadata": {
        "id": "0tnKehdm6cOV"
      },
      "execution_count": null,
      "outputs": []
    },
    {
      "cell_type": "markdown",
      "source": [
        "As we see Year Build have 0 value should be replaced with nulls to handel it after that."
      ],
      "metadata": {
        "id": "zUfDKQ2c6jbE"
      }
    },
    {
      "cell_type": "code",
      "source": [
        "#replace 0 with nulls to handle it with imputer at task 4\n",
        "data['YEAR BUILT'].replace((0.), np.nan, inplace=True)\n",
        "data['YEAR BUILT'].replace((0), np.nan, inplace=True)\n",
        "data['YEAR BUILT'].replace(('0'), np.nan, inplace=True)"
      ],
      "metadata": {
        "id": "dwwLJQuCBbqm"
      },
      "execution_count": null,
      "outputs": []
    },
    {
      "cell_type": "code",
      "source": [
        "data['YEAR BUILT'].unique()"
      ],
      "metadata": {
        "id": "LbzcuQvDCUKa"
      },
      "execution_count": null,
      "outputs": []
    },
    {
      "cell_type": "code",
      "source": [
        "#check sale price of each year with total unit\n",
        "sns.regplot(x='YEAR BUILT', y='SALE PRICE',\n",
        "            data=data[data['YEAR BUILT']<1800][data['TOTAL UNITS']<=5],\n",
        "            fit_reg=False, scatter_kws={'alpha':1})"
      ],
      "metadata": {
        "id": "PaIg2WIcdKpc"
      },
      "execution_count": null,
      "outputs": []
    },
    {
      "cell_type": "markdown",
      "source": [
        "As we see any year before 1800 categorized as outlier, so we can drop them after that."
      ],
      "metadata": {
        "id": "DLkJ8NaefZfX"
      }
    },
    {
      "cell_type": "code",
      "source": [
        "#check sale price at year build after 1800\n",
        "sns.regplot(x='YEAR BUILT', y='SALE PRICE',\n",
        "            data=data[data['YEAR BUILT']>1800][data['TOTAL UNITS']<=5],\n",
        "            fit_reg=False, scatter_kws={'alpha':1})"
      ],
      "metadata": {
        "id": "JuI6Dblqe3OE"
      },
      "execution_count": null,
      "outputs": []
    },
    {
      "cell_type": "code",
      "source": [
        "#check after 1900\n",
        "sns.regplot(x='YEAR BUILT', y='SALE PRICE',\n",
        "            data=data[data['YEAR BUILT']>=1900][data['TOTAL UNITS']<=5],\n",
        "            fit_reg=False, scatter_kws={'alpha':1})"
      ],
      "metadata": {
        "id": "HonF-9qogx-P"
      },
      "execution_count": null,
      "outputs": []
    },
    {
      "cell_type": "markdown",
      "source": [
        "As we see the prices of 90s buildings is greater than 20s. But we can visualize each no. of units alone to make sure about that.\n",
        "\n",
        "We will check for no. of units 1 because it the most frequent value."
      ],
      "metadata": {
        "id": "-Mk3aQWde0IA"
      }
    },
    {
      "cell_type": "code",
      "source": [
        "#check when the total unit only =1\n",
        "sns.regplot(x='YEAR BUILT', y='SALE PRICE',\n",
        "            data=data[data['YEAR BUILT']>=1900][data['TOTAL UNITS']==1],\n",
        "            fit_reg=False, scatter_kws={'alpha':1})"
      ],
      "metadata": {
        "id": "5HkjTZW9gK6c"
      },
      "execution_count": null,
      "outputs": []
    },
    {
      "cell_type": "markdown",
      "source": [
        "As we see in previous result, 90s prices is greater than 20s, specially the range from 1920 till 1970 and the prices of 2015 too."
      ],
      "metadata": {
        "id": "m9uBfHU2gJA9"
      }
    },
    {
      "cell_type": "code",
      "source": [
        "plt.figure(figsize=(10,6))\n",
        "sns.boxplot(x='TOTAL UNITS', y='SALE PRICE', data=data)\n",
        "plt.title('TOTAL UNITS vs SALE PRICE')\n",
        "plt.show()"
      ],
      "metadata": {
        "id": "RkrG2KEJkw6D"
      },
      "execution_count": null,
      "outputs": []
    },
    {
      "cell_type": "markdown",
      "source": [
        "### Answer to Question 1\n",
        "## Yes, old buildings have higher price than new ones with the same total units."
      ],
      "metadata": {
        "id": "AfxldVRIiTx5"
      }
    },
    {
      "cell_type": "markdown",
      "metadata": {
        "id": "60WUiXjz4dgs"
      },
      "source": [
        "### Question 2.2\n",
        "## Does zip code indicate to the same Neighborhood?"
      ]
    },
    {
      "cell_type": "markdown",
      "source": [
        "#### Handeling values of borough column."
      ],
      "metadata": {
        "id": "0UCcPTk205sM"
      }
    },
    {
      "cell_type": "code",
      "source": [
        "# TODO write code to answer Q2.2\n",
        "data['BOROUGH'].value_counts()"
      ],
      "metadata": {
        "id": "kPwbemsdsY8v"
      },
      "execution_count": null,
      "outputs": []
    },
    {
      "cell_type": "code",
      "source": [
        "data['BOROUGH'] = data['BOROUGH'].replace(1.0, \"Manhattan\")\n",
        "data['BOROUGH'] = data['BOROUGH'].replace(2.0, \"Bronx\")\n",
        "data['BOROUGH'] = data['BOROUGH'].replace(3.0, \"Brooklyn\")\n",
        "data['BOROUGH'] = data['BOROUGH'].replace(4.0, \"Queens\")\n",
        "data['BOROUGH'] = data['BOROUGH'].replace(5.0, \"Staten Island\")"
      ],
      "metadata": {
        "id": "vkbU_gdrAdGi"
      },
      "execution_count": null,
      "outputs": []
    },
    {
      "cell_type": "code",
      "source": [
        "data['BOROUGH'] = data['BOROUGH'].astype(str)\n",
        "data['BOROUGH']=data['BOROUGH'].astype('category')"
      ],
      "metadata": {
        "id": "K2nm67WGswdo"
      },
      "execution_count": null,
      "outputs": []
    },
    {
      "cell_type": "code",
      "source": [
        "data['BOROUGH'].value_counts()"
      ],
      "metadata": {
        "id": "Uxkjy8xrzj5d"
      },
      "execution_count": null,
      "outputs": []
    },
    {
      "cell_type": "markdown",
      "source": [
        "#### Now we will handle zip code values"
      ],
      "metadata": {
        "id": "5sTM7vZo1E6u"
      }
    },
    {
      "cell_type": "code",
      "source": [
        "#describe the data\n",
        "data.describe()"
      ],
      "metadata": {
        "id": "J9YokkPP4epu"
      },
      "execution_count": null,
      "outputs": []
    },
    {
      "cell_type": "markdown",
      "source": [
        "Zip Code contains 0 values should be replaced with nulls to handle it."
      ],
      "metadata": {
        "id": "b3U9toON4hV6"
      }
    },
    {
      "cell_type": "code",
      "source": [
        "#replace 0 with nulls\n",
        "data['ZIP CODE']= data['ZIP CODE'].replace(0.,np.nan)"
      ],
      "metadata": {
        "id": "a5t6DAga0WEX"
      },
      "execution_count": null,
      "outputs": []
    },
    {
      "cell_type": "code",
      "source": [
        "#check nulls percentage of each column\n",
        "data.isnull().sum()* 100 / len(data)"
      ],
      "metadata": {
        "id": "p-WNddEky8Wa"
      },
      "execution_count": null,
      "outputs": []
    },
    {
      "cell_type": "markdown",
      "source": [
        "We can drop Nulls from columns TAX CLASS AT PRESENT, BUILDING CLASS AT PRESENT and ZIP CODE\n"
      ],
      "metadata": {
        "id": "CEq43T6KoEXJ"
      }
    },
    {
      "cell_type": "code",
      "source": [
        "#drop useless columns\n",
        "data=data.dropna(subset=['TAX CLASS AT PRESENT', 'BUILDING CLASS AT PRESENT','ZIP CODE'])"
      ],
      "metadata": {
        "id": "O2GIkgZPoDD4"
      },
      "execution_count": null,
      "outputs": []
    },
    {
      "cell_type": "code",
      "source": [
        "data['ZIP CODE'].unique()"
      ],
      "metadata": {
        "id": "pJegSTV5zboK"
      },
      "execution_count": null,
      "outputs": []
    },
    {
      "cell_type": "code",
      "source": [
        "data['ZIP CODE'].value_counts()"
      ],
      "metadata": {
        "id": "juUMp48czfJU"
      },
      "execution_count": null,
      "outputs": []
    },
    {
      "cell_type": "markdown",
      "source": [
        "#### We'll visualize our data to answer the question."
      ],
      "metadata": {
        "id": "2dhcSM3i18pk"
      }
    },
    {
      "cell_type": "code",
      "source": [
        "data['NEIGHBORHOOD'].value_counts()"
      ],
      "metadata": {
        "id": "_DXdE4gznfG0"
      },
      "execution_count": null,
      "outputs": []
    },
    {
      "cell_type": "code",
      "source": [
        "#visualize specific parts of data\n",
        "plt.figure(figsize=(15,6))\n",
        "sns.boxplot(x='NEIGHBORHOOD', y=\"ZIP CODE\", data=pd.concat([data[data['NEIGHBORHOOD']=='FLUSHING-NORTH'],\n",
        "                                                            data[data['NEIGHBORHOOD']=='UPPER EAST SIDE (59-79)'],\n",
        "                                                            data[data['NEIGHBORHOOD']=='UPPER WEST SIDE (59-79)'],\n",
        "                                                            data[data['NEIGHBORHOOD']=='UPPER EAST SIDE (79-96)'],\n",
        "                                                            data[data['NEIGHBORHOOD']=='BEDFORD STUYVESANT'],\n",
        "                                                            data[data['NEIGHBORHOOD']=='MORNINGSIDE HEIGHTS']\n",
        "                                                            ],axis=0))"
      ],
      "metadata": {
        "id": "gz9NXtVyGFSR"
      },
      "execution_count": null,
      "outputs": []
    },
    {
      "cell_type": "code",
      "source": [
        "sns.catplot(x=\"NEIGHBORHOOD\", y=\"ZIP CODE\", hue=\"BOROUGH\", kind=\"bar\",height=7, \n",
        "            data=data[data['BOROUGH']=='Bronx'])\n",
        "plt.xticks(rotation=90)"
      ],
      "metadata": {
        "id": "J6Rt5GGlL620"
      },
      "execution_count": null,
      "outputs": []
    },
    {
      "cell_type": "code",
      "source": [
        "sns.catplot(x=\"NEIGHBORHOOD\", y=\"ZIP CODE\", hue=\"BOROUGH\",height=6, kind=\"bar\", data=pd.concat([data[data['NEIGHBORHOOD']=='FLUSHING-NORTH'],\n",
        "                                                                                                data[data['NEIGHBORHOOD']=='UPPER EAST SIDE (59-79)'],\n",
        "                                                                                                data[data['NEIGHBORHOOD']=='UPPER WEST SIDE (59-79)'],\n",
        "                                                                                                data[data['NEIGHBORHOOD']=='UPPER EAST SIDE (79-96)'],\n",
        "                                                                                                data[data['NEIGHBORHOOD']=='BEDFORD STUYVESANT'],\n",
        "                                                                                                data[data['NEIGHBORHOOD']=='MORNINGSIDE HEIGHTS']\n",
        "                                                                                                ],axis=0))\n",
        "plt.xticks(rotation=90)"
      ],
      "metadata": {
        "id": "mu5rSZAtqb4u"
      },
      "execution_count": null,
      "outputs": []
    },
    {
      "cell_type": "code",
      "source": [
        "sns.catplot(x=\"NEIGHBORHOOD\", y=\"ZIP CODE\", hue=\"BOROUGH\", kind=\"bar\",height=5, \n",
        "            data=data[data['BOROUGH']=='Queens'][data['NEIGHBORHOOD']=='FLUSHING-NORTH'])"
      ],
      "metadata": {
        "id": "WqMpfgX1IBsJ"
      },
      "execution_count": null,
      "outputs": []
    },
    {
      "cell_type": "code",
      "source": [
        "sns.catplot(x=\"NEIGHBORHOOD\", y=\"ZIP CODE\", hue=\"BOROUGH\", kind=\"bar\",height=5, data=data[data['NEIGHBORHOOD']=='UPPER EAST SIDE (59-79)'])"
      ],
      "metadata": {
        "id": "1MHJOoLou_Kw"
      },
      "execution_count": null,
      "outputs": []
    },
    {
      "cell_type": "markdown",
      "source": [
        "### Answer to Question 2\n",
        "## The Neighborhood at specific borough contains the same zipcode."
      ],
      "metadata": {
        "id": "B8kFNWjgLH67"
      }
    },
    {
      "cell_type": "markdown",
      "source": [
        "### Exploring data"
      ],
      "metadata": {
        "id": "M37CyYdwbfha"
      }
    },
    {
      "cell_type": "code",
      "source": [
        "# house prices greater than 5 mln probably represents outliers.\n",
        "import matplotlib.ticker as ticker\n",
        "\n",
        "sns.set_style(\"whitegrid\")\n",
        "plt.figure(figsize=(10,5))\n",
        "plotd = sns.distplot(data[(data['SALE PRICE']>100) & (data['SALE PRICE'] < 5000000)]['SALE PRICE'], kde=True, bins=100)\n",
        "\n",
        "tick_spacing=250000 # set spacing for each tick\n",
        "plotd.xaxis.set_major_locator(ticker.MultipleLocator(tick_spacing))\n",
        "plotd.set_xlim([-100000, 5000000]) # do not show negative values \n",
        "plt.xticks(rotation=30) # rotate x ticks by 30 degrees\n",
        "plt.axvline(data[(data['SALE PRICE']>100) & (data['SALE PRICE'] < 5000000)]['SALE PRICE'].mean(), c='red')\n",
        "plt.axvline(data[(data['SALE PRICE']>100) & (data['SALE PRICE'] < 5000000)]['SALE PRICE'].median(), c='blue')\n",
        "plt.text(250000,0.0000012, \"median\")\n",
        "plt.text(850000,0.0000010, \"mean\")\n",
        "plt.show()"
      ],
      "metadata": {
        "id": "IlJuJu2IF7pn"
      },
      "execution_count": null,
      "outputs": []
    },
    {
      "cell_type": "code",
      "source": [
        "df = data[(data['SALE PRICE'] > 10000) & (data['SALE PRICE'] < 10000000)]\n",
        "\n",
        "plt.figure(figsize=(12,5))\n",
        "sns.displot(df['SALE PRICE'], bins=40, rug=True)\n",
        "plt.show()"
      ],
      "metadata": {
        "id": "HMOPJEn7kSWe"
      },
      "execution_count": null,
      "outputs": []
    },
    {
      "cell_type": "markdown",
      "metadata": {
        "id": "MBc4iTNR4dgu"
      },
      "source": [
        "## Task 3\n",
        "#### Data Exploration via Statistical Test Raise one question that can be answered by performing hypothesis test. Briefely mention why you think this question would be interesting to whom (who is your audience). Also mention which statistical test you would choose and why."
      ]
    },
    {
      "cell_type": "markdown",
      "metadata": {
        "id": "fncnyu3a4dgv"
      },
      "source": [
        "### Null hypothesis: {BUILDING CLASS has the same sale price at sale and at present}\n",
        "\n",
        "### Alternative hypothesis: {BUILDING CLASS doesn't have the same sale price at sale and at present}"
      ]
    },
    {
      "cell_type": "code",
      "source": [
        "# TODO write code to perform task 3\n",
        "#check value counts in this column\n",
        "data['BUILDING CLASS AT PRESENT'].value_counts()"
      ],
      "metadata": {
        "id": "stSbtCN8ntF-"
      },
      "execution_count": null,
      "outputs": []
    },
    {
      "cell_type": "code",
      "source": [
        "#check value counts\n",
        "data['BUILDING CLASS AT TIME OF SALE'].value_counts()"
      ],
      "metadata": {
        "id": "vzknUUBenv3_"
      },
      "execution_count": null,
      "outputs": []
    },
    {
      "cell_type": "code",
      "source": [
        "#convert features to category\n",
        "data['BUILDING CLASS AT TIME OF SALE']=data['BUILDING CLASS AT TIME OF SALE'].astype('category')\n",
        "data['BUILDING CLASS AT PRESENT']=data['BUILDING CLASS AT PRESENT'].astype('category')"
      ],
      "metadata": {
        "id": "dRXd_IlaEDnj"
      },
      "execution_count": null,
      "outputs": []
    },
    {
      "cell_type": "code",
      "source": [
        "#check null hypothies with statistics\n",
        "from scipy import stats\n",
        "sale = data[data['BUILDING CLASS AT TIME OF SALE'] == 'D4']['SALE PRICE']\n",
        "present = data[data['BUILDING CLASS AT PRESENT'] == 'D4']['SALE PRICE']\n",
        "stats.ttest_ind(sale, present)"
      ],
      "metadata": {
        "id": "dOJiJpVg72Bc"
      },
      "execution_count": null,
      "outputs": []
    },
    {
      "cell_type": "markdown",
      "source": [
        "## pvalue < 0.05, it means Alternative hypothies is right."
      ],
      "metadata": {
        "id": "se3Q3jWM8_rp"
      }
    },
    {
      "cell_type": "markdown",
      "metadata": {
        "id": "bnv3rOVB4dgv"
      },
      "source": [
        "## Task 4\n",
        "#### Feature Engineering. If we would like to predict the house sale price. Analyze the scale of each attribute and determine which ones you would transfer (e.g., cateogorical features). Discuss how you plan to select important features."
      ]
    },
    {
      "cell_type": "markdown",
      "source": [
        "* We can drop Neighborhood column and Address because we have zipcode which refers to location.\n",
        "* Convert date to month and year.\n",
        "* Drop building class category because it's the same with building calss at present."
      ],
      "metadata": {
        "id": "bX2DH7lPO-Dm"
      }
    },
    {
      "cell_type": "code",
      "source": [
        "# TODO for Task 4\n",
        "# 'SALE DATE' can be split into month and year\n",
        "\n",
        "data['SALE DATE']= pd.to_datetime(data['SALE DATE'], errors='coerce')\n",
        "data['SALE MONTH'] = pd.DatetimeIndex(data['SALE DATE']).month.astype(\"category\")\n",
        "data['SALE YEAR'] = pd.DatetimeIndex(data['SALE DATE']).year.astype(\"category\")"
      ],
      "metadata": {
        "id": "ffYHf69NjKAy"
      },
      "execution_count": null,
      "outputs": []
    },
    {
      "cell_type": "code",
      "source": [
        "data=data.drop(columns=['ADDRESS','NEIGHBORHOOD','SALE DATE','BUILDING CLASS CATEGORY'])"
      ],
      "metadata": {
        "id": "leErEFBslBO0"
      },
      "execution_count": null,
      "outputs": []
    },
    {
      "cell_type": "code",
      "source": [
        "data['LAND SQUARE FEET'].value_counts()"
      ],
      "metadata": {
        "id": "IXF-uy2AP4U1"
      },
      "execution_count": null,
      "outputs": []
    },
    {
      "cell_type": "code",
      "source": [
        "data['LAND SQUARE FEET'].unique()"
      ],
      "metadata": {
        "id": "ryyC2ygsY38y"
      },
      "execution_count": null,
      "outputs": []
    },
    {
      "cell_type": "code",
      "source": [
        "data['GROSS SQUARE FEET'] = data['GROSS SQUARE FEET'].str.translate(str.maketrans({',':''}))\n",
        "data['LAND SQUARE FEET'] = data['LAND SQUARE FEET'].str.translate(str.maketrans({',':''}))"
      ],
      "metadata": {
        "id": "WelHUAOOZ2go"
      },
      "execution_count": null,
      "outputs": []
    },
    {
      "cell_type": "code",
      "source": [
        "data['LAND SQUARE FEET'].unique()"
      ],
      "metadata": {
        "id": "6UNXR5Bzc4gg"
      },
      "execution_count": null,
      "outputs": []
    },
    {
      "cell_type": "code",
      "source": [
        "msno.heatmap(data)"
      ],
      "metadata": {
        "id": "Q9HNRbgva__B"
      },
      "execution_count": null,
      "outputs": []
    },
    {
      "cell_type": "markdown",
      "source": [
        "As we see, land square feet and gross square feet are highly corelated missing.\n"
      ],
      "metadata": {
        "id": "fPTuVf7wb-eO"
      }
    },
    {
      "cell_type": "code",
      "source": [
        "data.isnull().sum()* 100 / len(data)"
      ],
      "metadata": {
        "id": "nvSFhnE_cw58"
      },
      "execution_count": null,
      "outputs": []
    },
    {
      "cell_type": "code",
      "source": [
        "#REPLACE 0 OF SALE PRICE WITH NULLS TO FILL IT BY IMPUTER\n",
        "data['SALE PRICE'].replace((0), np.nan, inplace=True)"
      ],
      "metadata": {
        "id": "xZ66WIQDReR0"
      },
      "execution_count": null,
      "outputs": []
    },
    {
      "cell_type": "code",
      "source": [
        "#fill nulls\n",
        "from sklearn.impute import KNNImputer\n",
        "imputed = ['LAND SQUARE FEET','GROSS SQUARE FEET','YEAR BUILT','SALE PRICE']\n",
        "imputer = KNNImputer(n_neighbors=2)\n",
        "data[imputed] = imputer.fit_transform(data[imputed])"
      ],
      "metadata": {
        "id": "RiUoVD6kkHDF"
      },
      "execution_count": null,
      "outputs": []
    },
    {
      "cell_type": "code",
      "source": [
        "#check nulls\n",
        "data.isnull().sum()* 100 / len(data)"
      ],
      "metadata": {
        "id": "fp2AHJjukYYT"
      },
      "execution_count": null,
      "outputs": []
    },
    {
      "cell_type": "code",
      "source": [
        "#encode categorical data\n",
        "from sklearn.preprocessing import LabelEncoder\n",
        "data['BOROUGH'] = LabelEncoder().fit_transform(data['BOROUGH'])\n",
        "data['BUILDING CLASS AT PRESENT'] = LabelEncoder().fit_transform(data['BUILDING CLASS AT PRESENT'])\n",
        "data['BUILDING CLASS AT TIME OF SALE'] = LabelEncoder().fit_transform(data['BUILDING CLASS AT TIME OF SALE'])\n",
        "data['TAX CLASS AT PRESENT'] = LabelEncoder().fit_transform(data['TAX CLASS AT PRESENT'])\n",
        "data['TAX CLASS AT TIME OF SALE'] = LabelEncoder().fit_transform(data['TAX CLASS AT TIME OF SALE'])"
      ],
      "metadata": {
        "id": "4g3sc9QUpJhs"
      },
      "execution_count": null,
      "outputs": []
    },
    {
      "cell_type": "code",
      "execution_count": null,
      "metadata": {
        "id": "Mpt_fLC84dgw"
      },
      "outputs": [],
      "source": [
        "#display data after encoding\n",
        "data"
      ]
    },
    {
      "cell_type": "code",
      "source": [
        "#convert some of features to category\n",
        "categ = ['BOROUGH','LOT','BLOCK']\n",
        "for col in categ:\n",
        "    data[col] = data[col].astype('category')"
      ],
      "metadata": {
        "id": "D1k_OHspDcIx"
      },
      "execution_count": null,
      "outputs": []
    },
    {
      "cell_type": "code",
      "source": [
        "#check type of each column\n",
        "data.dtypes"
      ],
      "metadata": {
        "id": "9SiDZGRLCYrh"
      },
      "execution_count": null,
      "outputs": []
    },
    {
      "cell_type": "code",
      "source": [
        "#split data and label\n",
        "x=data.drop(columns=['SALE PRICE'])\n",
        "y = data.iloc[:,-1].values.reshape(-1,1)"
      ],
      "metadata": {
        "id": "HFK0MtTiKZ8r"
      },
      "execution_count": null,
      "outputs": []
    },
    {
      "cell_type": "code",
      "source": [
        "#check shapes\n",
        "y.shape,x.shape"
      ],
      "metadata": {
        "id": "7I8tuUa7D6qs"
      },
      "execution_count": null,
      "outputs": []
    },
    {
      "cell_type": "code",
      "source": [
        "from sklearn.preprocessing import StandardScaler\n",
        "#rescale train data to be simpler\n",
        "sc = StandardScaler()\n",
        "x= sc.fit_transform(x)\n",
        "# y_= sc.fit_transform(y)"
      ],
      "metadata": {
        "id": "5LqntSbZtT1f"
      },
      "execution_count": null,
      "outputs": []
    },
    {
      "cell_type": "markdown",
      "metadata": {
        "id": "bHmOR7CW4dgw"
      },
      "source": [
        "## Task 5: AutoML\n",
        "\n",
        "#### Using Auto-sklearn to explore performance of one state-of-the-art autoML tool on the given data (after your previous preprocessing). Optional: compare with performing autosklearn on raw data.\n",
        "#### ref. https://automl.github.io/auto-sklearn/master/examples/20_basic/example_regression.html"
      ]
    },
    {
      "cell_type": "code",
      "source": [
        "# TODO for Task 5\n",
        "#split data to train and test\n",
        "X_train, X_test, y_train, y_test = sklearn.model_selection.train_test_split(x, y,test_size=0.2, random_state=1)"
      ],
      "metadata": {
        "id": "eglpsYHd5Bv2"
      },
      "execution_count": null,
      "outputs": []
    },
    {
      "cell_type": "code",
      "source": [
        "#use automl regression model\n",
        "automl = autosklearn.regression.AutoSklearnRegressor(\n",
        "    time_left_for_this_task=120,\n",
        "    per_run_time_limit=30,\n",
        "    tmp_folder='/tmp/autosklearn_regression_example_tmp',\n",
        ")\n",
        "automl.fit(X_train, y_train, dataset_name='diabetes')\n",
        "print(automl.leaderboard())"
      ],
      "metadata": {
        "id": "6v8GrPKL9tWs"
      },
      "execution_count": null,
      "outputs": []
    },
    {
      "cell_type": "code",
      "source": [
        "#predict train and test data then calculate r2 score/ mae\n",
        "train_predictions = automl.predict(X_train)\n",
        "automl.score(X_train,y_train)\n",
        "automl.score(X_test,y_test)\n",
        "\n",
        "print(\"Train R2 score:\", sklearn.metrics.r2_score(y_train, train_predictions))\n",
        "test_predictions = automl.predict(X_test)\n",
        "print(\"Test R2 score:\", sklearn.metrics.r2_score(y_test, test_predictions))\n",
        "print(\"Test MAE:\", mean_absolute_error(y_test, test_predictions))"
      ],
      "metadata": {
        "id": "sWNfgBEt9772"
      },
      "execution_count": null,
      "outputs": []
    }
  ],
  "metadata": {
    "language_info": {
      "name": "python"
    },
    "orig_nbformat": 4,
    "colab": {
      "name": "Lab2_EDA&AutoML.Regression.ipynb",
      "provenance": [],
      "private_outputs": true,
      "collapsed_sections": [
        "crOpH7LP4dgq",
        "oGl0xo7UNz8l",
        "GuBMthB44dgr",
        "YNGemCViNmhF",
        "rAmS5AQt8Kj2",
        "Y-p_8qTy_a6k",
        "cmzOalK28VjH",
        "AfxldVRIiTx5",
        "60WUiXjz4dgs",
        "0UCcPTk205sM",
        "5sTM7vZo1E6u",
        "2dhcSM3i18pk",
        "B8kFNWjgLH67",
        "M37CyYdwbfha",
        "MBc4iTNR4dgu",
        "se3Q3jWM8_rp",
        "bnv3rOVB4dgv",
        "bHmOR7CW4dgw"
      ]
    },
    "kernelspec": {
      "name": "python3",
      "display_name": "Python 3"
    }
  },
  "nbformat": 4,
  "nbformat_minor": 0
}